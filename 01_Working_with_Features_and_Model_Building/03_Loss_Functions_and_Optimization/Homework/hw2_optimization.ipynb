{
 "cells": [
  {
   "cell_type": "code",
   "execution_count": 37,
   "metadata": {},
   "outputs": [],
   "source": [
    "# imports data science libraries\n",
    "import pandas as pd\n",
    "import numpy as np\n",
    "import matplotlib.pyplot as plt\n",
    "import seaborn as sns\n",
    "from sklearn.datasets import load_iris\n",
    "from sklearn.preprocessing import LabelEncoder\n",
    "from sklearn.preprocessing import StandardScaler\n",
    "from sklearn.model_selection import train_test_split\n",
    "from sklearn.linear_model import LogisticRegression\n"
   ]
  },
  {
   "cell_type": "markdown",
   "metadata": {},
   "source": [
    "# Загрузка и подготовка датафрейма"
   ]
  },
  {
   "cell_type": "code",
   "execution_count": 38,
   "metadata": {},
   "outputs": [
    {
     "name": "stdout",
     "output_type": "stream",
     "text": [
      "Ключи:\n",
      "\t dict_keys(['data', 'target', 'frame', 'target_names', 'DESCR', 'feature_names', 'filename'])\n",
      "Признаки:\n",
      "\t ['sepal length (cm)', 'sepal width (cm)', 'petal length (cm)', 'petal width (cm)']\n",
      "Таргет:\n",
      "\t [('setosa', 0), ('versicolor', 1), ('virginica', 2)]\n"
     ]
    }
   ],
   "source": [
    "# Загружаем инстанс и посмотрим на описание\n",
    "iris = load_iris()\n",
    "\n",
    "print('Ключи:\\n\\t', iris.keys())\n",
    "print('Признаки:\\n\\t', iris.feature_names)\n",
    "print('Таргет:\\n\\t', list(zip(iris.target_names, np.unique(iris.target) )))"
   ]
  },
  {
   "cell_type": "code",
   "execution_count": 39,
   "metadata": {},
   "outputs": [
    {
     "data": {
      "text/plain": [
       "array([0, 1, 2])"
      ]
     },
     "execution_count": 39,
     "metadata": {},
     "output_type": "execute_result"
    }
   ],
   "source": [
    "y = iris.target\n",
    "\n",
    "np.unique(y)"
   ]
  },
  {
   "cell_type": "code",
   "execution_count": 40,
   "metadata": {},
   "outputs": [
    {
     "data": {
      "text/html": [
       "<div>\n",
       "<style scoped>\n",
       "    .dataframe tbody tr th:only-of-type {\n",
       "        vertical-align: middle;\n",
       "    }\n",
       "\n",
       "    .dataframe tbody tr th {\n",
       "        vertical-align: top;\n",
       "    }\n",
       "\n",
       "    .dataframe thead th {\n",
       "        text-align: right;\n",
       "    }\n",
       "</style>\n",
       "<table border=\"1\" class=\"dataframe\">\n",
       "  <thead>\n",
       "    <tr style=\"text-align: right;\">\n",
       "      <th></th>\n",
       "      <th>sepal length (cm)</th>\n",
       "      <th>sepal width (cm)</th>\n",
       "      <th>petal length (cm)</th>\n",
       "      <th>petal width (cm)</th>\n",
       "      <th>target</th>\n",
       "    </tr>\n",
       "  </thead>\n",
       "  <tbody>\n",
       "    <tr>\n",
       "      <th>0</th>\n",
       "      <td>5.1</td>\n",
       "      <td>3.5</td>\n",
       "      <td>1.4</td>\n",
       "      <td>0.2</td>\n",
       "      <td>0</td>\n",
       "    </tr>\n",
       "    <tr>\n",
       "      <th>1</th>\n",
       "      <td>4.9</td>\n",
       "      <td>3.0</td>\n",
       "      <td>1.4</td>\n",
       "      <td>0.2</td>\n",
       "      <td>0</td>\n",
       "    </tr>\n",
       "    <tr>\n",
       "      <th>2</th>\n",
       "      <td>4.7</td>\n",
       "      <td>3.2</td>\n",
       "      <td>1.3</td>\n",
       "      <td>0.2</td>\n",
       "      <td>0</td>\n",
       "    </tr>\n",
       "    <tr>\n",
       "      <th>3</th>\n",
       "      <td>4.6</td>\n",
       "      <td>3.1</td>\n",
       "      <td>1.5</td>\n",
       "      <td>0.2</td>\n",
       "      <td>0</td>\n",
       "    </tr>\n",
       "    <tr>\n",
       "      <th>4</th>\n",
       "      <td>5.0</td>\n",
       "      <td>3.6</td>\n",
       "      <td>1.4</td>\n",
       "      <td>0.2</td>\n",
       "      <td>0</td>\n",
       "    </tr>\n",
       "  </tbody>\n",
       "</table>\n",
       "</div>"
      ],
      "text/plain": [
       "   sepal length (cm)  sepal width (cm)  petal length (cm)  petal width (cm)  \\\n",
       "0                5.1               3.5                1.4               0.2   \n",
       "1                4.9               3.0                1.4               0.2   \n",
       "2                4.7               3.2                1.3               0.2   \n",
       "3                4.6               3.1                1.5               0.2   \n",
       "4                5.0               3.6                1.4               0.2   \n",
       "\n",
       "   target  \n",
       "0       0  \n",
       "1       0  \n",
       "2       0  \n",
       "3       0  \n",
       "4       0  "
      ]
     },
     "execution_count": 40,
     "metadata": {},
     "output_type": "execute_result"
    }
   ],
   "source": [
    "# Загрузим данные в табличное представление\n",
    "df = pd.concat([\n",
    "                pd.DataFrame(iris.data, columns=iris.feature_names),\n",
    "                pd.DataFrame(iris.target, columns=['target'])\n",
    "                ],\n",
    "                 axis=1\n",
    "                )\n",
    "df.head(5)"
   ]
  },
  {
   "cell_type": "code",
   "execution_count": 41,
   "metadata": {},
   "outputs": [
    {
     "data": {
      "text/plain": [
       "array([1, 2])"
      ]
     },
     "execution_count": 41,
     "metadata": {},
     "output_type": "execute_result"
    }
   ],
   "source": [
    "# В данных оставляем только 2 класса: Iris Versicolor, Iris Virginica.\n",
    "df = df[df['target'] != 0]\n",
    "df.target.unique()"
   ]
  },
  {
   "cell_type": "code",
   "execution_count": 42,
   "metadata": {},
   "outputs": [
    {
     "data": {
      "text/plain": [
       "array([0, 1], dtype=int64)"
      ]
     },
     "execution_count": 42,
     "metadata": {},
     "output_type": "execute_result"
    }
   ],
   "source": [
    "# Представим target в виде бинарной классификации 0 и 1 (Iris Versicolor, Iris Virginica.)\n",
    "le = LabelEncoder()\n",
    "\n",
    "le.fit(df.target)\n",
    "df['target'] = le.fit_transform(df.target)\n",
    "df.target.unique()"
   ]
  },
  {
   "cell_type": "code",
   "execution_count": 43,
   "metadata": {},
   "outputs": [
    {
     "data": {
      "text/plain": [
       "Index(['sepal length (cm)', 'sepal width (cm)', 'petal length (cm)',\n",
       "       'petal width (cm)', 'target'],\n",
       "      dtype='object')"
      ]
     },
     "execution_count": 43,
     "metadata": {},
     "output_type": "execute_result"
    }
   ],
   "source": [
    "df.columns"
   ]
  },
  {
   "cell_type": "code",
   "execution_count": 44,
   "metadata": {},
   "outputs": [
    {
     "data": {
      "text/html": [
       "<div>\n",
       "<style scoped>\n",
       "    .dataframe tbody tr th:only-of-type {\n",
       "        vertical-align: middle;\n",
       "    }\n",
       "\n",
       "    .dataframe tbody tr th {\n",
       "        vertical-align: top;\n",
       "    }\n",
       "\n",
       "    .dataframe thead th {\n",
       "        text-align: right;\n",
       "    }\n",
       "</style>\n",
       "<table border=\"1\" class=\"dataframe\">\n",
       "  <thead>\n",
       "    <tr style=\"text-align: right;\">\n",
       "      <th></th>\n",
       "      <th>sepal_length</th>\n",
       "      <th>sepal_width</th>\n",
       "      <th>petal_length</th>\n",
       "      <th>petal_width</th>\n",
       "      <th>target</th>\n",
       "    </tr>\n",
       "  </thead>\n",
       "  <tbody>\n",
       "    <tr>\n",
       "      <th>50</th>\n",
       "      <td>7.0</td>\n",
       "      <td>3.2</td>\n",
       "      <td>4.7</td>\n",
       "      <td>1.4</td>\n",
       "      <td>0</td>\n",
       "    </tr>\n",
       "    <tr>\n",
       "      <th>51</th>\n",
       "      <td>6.4</td>\n",
       "      <td>3.2</td>\n",
       "      <td>4.5</td>\n",
       "      <td>1.5</td>\n",
       "      <td>0</td>\n",
       "    </tr>\n",
       "    <tr>\n",
       "      <th>52</th>\n",
       "      <td>6.9</td>\n",
       "      <td>3.1</td>\n",
       "      <td>4.9</td>\n",
       "      <td>1.5</td>\n",
       "      <td>0</td>\n",
       "    </tr>\n",
       "    <tr>\n",
       "      <th>53</th>\n",
       "      <td>5.5</td>\n",
       "      <td>2.3</td>\n",
       "      <td>4.0</td>\n",
       "      <td>1.3</td>\n",
       "      <td>0</td>\n",
       "    </tr>\n",
       "    <tr>\n",
       "      <th>54</th>\n",
       "      <td>6.5</td>\n",
       "      <td>2.8</td>\n",
       "      <td>4.6</td>\n",
       "      <td>1.5</td>\n",
       "      <td>0</td>\n",
       "    </tr>\n",
       "  </tbody>\n",
       "</table>\n",
       "</div>"
      ],
      "text/plain": [
       "    sepal_length  sepal_width  petal_length  petal_width  target\n",
       "50           7.0          3.2           4.7          1.4       0\n",
       "51           6.4          3.2           4.5          1.5       0\n",
       "52           6.9          3.1           4.9          1.5       0\n",
       "53           5.5          2.3           4.0          1.3       0\n",
       "54           6.5          2.8           4.6          1.5       0"
      ]
     },
     "execution_count": 44,
     "metadata": {},
     "output_type": "execute_result"
    }
   ],
   "source": [
    "# Переименуем колонки и посмотрим на подготовленные данные:\n",
    "df = df.rename(columns={\n",
    "                        'sepal length (cm)' : 'sepal_length','sepal width (cm)': 'sepal_width',\n",
    "                        'petal length (cm)': 'petal_length', 'petal width (cm)': 'petal_width',})\n",
    "df.head()"
   ]
  },
  {
   "cell_type": "code",
   "execution_count": 45,
   "metadata": {},
   "outputs": [
    {
     "data": {
      "text/plain": [
       "(100, 5)"
      ]
     },
     "execution_count": 45,
     "metadata": {},
     "output_type": "execute_result"
    }
   ],
   "source": [
    "df.shape"
   ]
  },
  {
   "cell_type": "code",
   "execution_count": 46,
   "metadata": {},
   "outputs": [],
   "source": [
    "X = df.drop('target', axis=1)\n",
    "y = df['target']"
   ]
  },
  {
   "cell_type": "code",
   "execution_count": 47,
   "metadata": {},
   "outputs": [],
   "source": [
    "# Нормализация данных\n",
    "scaler = StandardScaler()\n",
    "scaler.fit(X)\n",
    "X = scaler.transform(X)"
   ]
  },
  {
   "cell_type": "code",
   "execution_count": 48,
   "metadata": {},
   "outputs": [],
   "source": [
    "# Разобьем данные на тренировочные и тестовые\n",
    "X_train, X_test, y_train, y_test = train_test_split(X, y, test_size=0.3, random_state=42)"
   ]
  },
  {
   "cell_type": "markdown",
   "metadata": {},
   "source": [
    "# Для начала воспользуемся методом из библиотеки sklearn"
   ]
  },
  {
   "cell_type": "code",
   "execution_count": 49,
   "metadata": {},
   "outputs": [
    {
     "data": {
      "text/plain": [
       "LogisticRegression()"
      ]
     },
     "execution_count": 49,
     "metadata": {},
     "output_type": "execute_result"
    }
   ],
   "source": [
    "model_sklearn = LogisticRegression()\n",
    "model_sklearn.fit(X_train, y_train)"
   ]
  },
  {
   "cell_type": "code",
   "execution_count": 50,
   "metadata": {},
   "outputs": [
    {
     "data": {
      "text/plain": [
       "(array([0.04449619]),\n",
       " array([[-0.14179521, -0.76305971,  2.09626788,  2.09544343]]))"
      ]
     },
     "execution_count": 50,
     "metadata": {},
     "output_type": "execute_result"
    }
   ],
   "source": [
    "model_sklearn.intercept_, model_sklearn.coef_"
   ]
  },
  {
   "cell_type": "code",
   "execution_count": 51,
   "metadata": {},
   "outputs": [],
   "source": [
    "sklearn_pred = model_sklearn.predict(X_test)"
   ]
  },
  {
   "cell_type": "code",
   "execution_count": 52,
   "metadata": {},
   "outputs": [
    {
     "data": {
      "text/plain": [
       "0.9"
      ]
     },
     "execution_count": 52,
     "metadata": {},
     "output_type": "execute_result"
    }
   ],
   "source": [
    "#Посчитаем точность\n",
    "(sklearn_pred == y_test).mean()"
   ]
  },
  {
   "cell_type": "markdown",
   "metadata": {},
   "source": [
    "# Собственная реализация логистической регрессии с помощью градиентного спуска"
   ]
  },
  {
   "cell_type": "code",
   "execution_count": 97,
   "metadata": {},
   "outputs": [],
   "source": [
    "class MyLogisticRegression:\n",
    "\n",
    "    def __init__(self, LEARNING_RATE =0.005, max_epoches=2000000, fit_intercept=True, threshold=0.5, EPS= 5e-8, costs=[], gamma=0.9, costs_rms=[]):\n",
    "        \n",
    "        self.LEARNING_RATE = LEARNING_RATE\n",
    "        self.max_epoches = max_epoches\n",
    "        self.fit_intercept = fit_intercept\n",
    "        self.threshold = threshold\n",
    "        self.EPS = EPS\n",
    "        self.gamma = gamma\n",
    "        self.costs = costs\n",
    "        self.costs_rms = costs_rms\n",
    "\n",
    "   # Внутренние функции для реализации градиентного спуска\n",
    "    def __add_intercept(self, X):\n",
    "        intercept = np.ones((X.shape[0], 1))\n",
    "        return np.concatenate((intercept, X), axis=1)\n",
    "\n",
    "    def __sigmoid(self, z):\n",
    "        return 1 / (1 + np.exp(-z))\n",
    "\n",
    "    def __logg_loss(self, h, y):\n",
    "        return (-y*np.log(h) - (1-y)*np.log(1-h)).mean()\n",
    "    \n",
    "\n",
    "    # Напишем метод градиентного спуска GD\n",
    "    def fit_GD(self, X, y):\n",
    "        if self.fit_intercept:\n",
    "            X = self.__add_intercept(X)\n",
    "\n",
    "        # Инцализация весов. Размерность вектора совпадает с количеством признаков в матрице Х\n",
    "        self.theta = np.zeros(X.shape[1])\n",
    "\n",
    "        for epoch in range(self.max_epoches):\n",
    "            z = np.dot(X, self.theta)\n",
    "            h = self.__sigmoid(z)\n",
    "            gradient = np.dot(X.T, (h - y)) / y.size\n",
    "            self.theta -= self.LEARNING_RATE * gradient\n",
    "            cost = self.__logg_loss(h, y)\n",
    "            self.costs.append(cost)\n",
    "  \n",
    "            try:\n",
    "                if abs(cost - self.costs[-2]) < self.EPS:\n",
    "                    print('-'*60)\n",
    "                    print(f'Модель обучилась за {epoch} эпох') \n",
    "                    print(f'Веса модели:{self.theta}')\n",
    "                    print(f'Итоговая ошибка модели Entropy Log loss:  {cost}')\n",
    "                    print('-'*60)\n",
    "                    break\n",
    "            except:\n",
    "                pass \n",
    "\n",
    "    # Напишем метод оптимизации RMSprop     \n",
    "    def fit_RMSprop(self, X, y):   \n",
    "                \n",
    "        if self.fit_intercept:\n",
    "            X = self.__add_intercept(X)\n",
    "\n",
    "        #Сгенерируем веса  \n",
    "        self.theta  = np.zeros(X.shape[1])\n",
    "        self.cache  = np.zeros(X.shape[1])\n",
    "        \n",
    "        for epoch in range(self.max_epoches):\n",
    "            \n",
    "            # Рассчитаем сигнал через функцию активации sigmoid \n",
    "            z = np.dot(X, self.theta)\n",
    "            h = self.__sigmoid(z)\n",
    "            \n",
    "            # Вычислим кросс-этропийную ошибку при текущих весах           \n",
    "            loss = - np.mean(np.log(h) * y + np.log(1 - h) * (1 - y))\n",
    "            self.costs_rms.append(loss)\n",
    "            \n",
    "            #  Вычислим градиент в сторону, которого мы будем делать шаг обучения    \n",
    "            grad = np.dot(X.T, (h - y)) / y.size  \n",
    "            \n",
    "            # Обновим веса в сторону рассчитанного антиградиента\n",
    "            self.cache = self.gamma * self.cache + (1 - self.gamma) * grad ** 2\n",
    "            self.theta -= self.LEARNING_RATE * grad / (np.sqrt(self.cache) + 1e-8)\n",
    "          \n",
    "            #  Рассчитаем потерю logg loss на текущей эпохе обучения и запишем ее в список   \n",
    "            z = np.dot(X, self.theta)\n",
    "            h = self.__sigmoid(z)\n",
    "            cost_rms = self.__logg_loss(h, y)\n",
    "            self.costs.append(cost_rms)\n",
    "#             print(f' Эпоха обучения: {epoch} ---> log loss: {cost_rms}')\n",
    "        \n",
    "        #   Условие остановки, при котором будем считать, что модель обучилась.      \n",
    "            try:\n",
    "                if abs(cost_rms - self.costs_rms[-2]) < self.EPS:\n",
    "                    print('-'*60)\n",
    "                    print(f'Модель обучилась за {epoch} эпох') \n",
    "                    print(f'Веса модели:{self.cache}')\n",
    "                    print(f'Итоговая ошибка модели Entropy Log loss:  {cost_rms}')\n",
    "                    print('-'*60)\n",
    "                    break\n",
    "            except:\n",
    "                pass \n",
    "\n",
    "    \n",
    "\n",
    "    # Функции для оценки качества модели\n",
    "\n",
    "    def predict_prob(self, X):\n",
    "        if self.fit_intercept:\n",
    "            X = self.__add_intercept(X)\n",
    "\n",
    "        return self.__sigmoid(np.dot(X, self.theta))\n",
    "\n",
    "    def predict(self, X, threshold=0.5):\n",
    "        return self.predict_prob(X) >= threshold\n",
    "\n",
    "    \n",
    "    def accuracy_score(self, X):\n",
    "        return (self.predict(X) == y).mean()\n"
   ]
  },
  {
   "cell_type": "markdown",
   "metadata": {},
   "source": [
    "# Обучение и оценка качества модели"
   ]
  },
  {
   "cell_type": "code",
   "execution_count": 19,
   "metadata": {},
   "outputs": [],
   "source": [
    "# Создаю инстанс собственного класса логистической регрессии\n",
    "\n",
    "model_gd = MyLogisticRegression(LEARNING_RATE=1e-3, EPS= 1e-6)"
   ]
  },
  {
   "cell_type": "code",
   "execution_count": 20,
   "metadata": {},
   "outputs": [
    {
     "name": "stdout",
     "output_type": "stream",
     "text": [
      "------------------------------------------------------------\n",
      "Модель обучилась за 44406 эпох\n",
      "Веса модели:[ 0.04111118 -0.1089796  -0.89938285  2.32914941  2.5282901 ]\n",
      "Итоговая ошибка модели Entropy Log loss:  0.07366717312742539\n",
      "------------------------------------------------------------\n"
     ]
    }
   ],
   "source": [
    "# Посмотрим как падает ошибка в процессе градиентного спуска\n",
    "model_gd.fit_GD(X_train, y_train)"
   ]
  },
  {
   "cell_type": "code",
   "execution_count": 21,
   "metadata": {},
   "outputs": [],
   "source": [
    "loss_gd = model_gd.costs"
   ]
  },
  {
   "cell_type": "code",
   "execution_count": 22,
   "metadata": {},
   "outputs": [
    {
     "data": {
      "image/png": "[encoded data removed]",
      "text/plain": [
       "<Figure size 1080x576 with 1 Axes>"
      ]
     },
     "metadata": {
      "needs_background": "light"
     },
     "output_type": "display_data"
    }
   ],
   "source": [
    "# Постриом график, как изменялась ошибка в процессе обучения модели\n",
    "plt.figure(figsize= (15, 8))\n",
    "plt.plot(loss_gd)\n",
    "plt.title('Обучение с помощью градиентного спуска')\n",
    "plt.xlabel('Эпоха обучения')\n",
    "plt.ylabel('Ошибка Log los')\n",
    "plt.show()"
   ]
  },
  {
   "cell_type": "code",
   "execution_count": 23,
   "metadata": {},
   "outputs": [
    {
     "name": "stdout",
     "output_type": "stream",
     "text": [
      "Метрика качества accuracy: 0.97\n"
     ]
    }
   ],
   "source": [
    "# Качество алгоритма\n",
    "y_pred = model_gd.predict(X)\n",
    "score = (y_pred == y).mean()\n",
    "print(f'Метрика качества accuracy: {score}')"
   ]
  },
  {
   "cell_type": "markdown",
   "metadata": {},
   "source": [
    "# RMS prop"
   ]
  },
  {
   "cell_type": "code",
   "execution_count": 92,
   "metadata": {},
   "outputs": [],
   "source": [
    "model_RMSpro = MyLogisticRegression(LEARNING_RATE=1e-3, EPS= 1e-6)"
   ]
  },
  {
   "cell_type": "code",
   "execution_count": 93,
   "metadata": {},
   "outputs": [
    {
     "name": "stderr",
     "output_type": "stream",
     "text": [
      "C:\\Users\\Alex\\AppData\\Local\\Temp/ipykernel_17920/2459089527.py:23: RuntimeWarning: divide by zero encountered in log\n",
      "  return (-y*np.log(h) - (1-y)*np.log(1-h)).mean()\n",
      "C:\\Users\\Alex\\AppData\\Local\\Temp/ipykernel_17920/2459089527.py:70: RuntimeWarning: divide by zero encountered in log\n",
      "  loss = - np.mean(np.log(h) * y + np.log(1 - h) * (1 - y))\n"
     ]
    },
    {
     "name": "stdout",
     "output_type": "stream",
     "text": [
      "------------------------------------------------------------\n",
      "Модель обучилась за 12523 эпох\n",
      "Веса модели:[1.86590169e-12 1.02684448e-12 1.27634984e-12 1.26443203e-07\n",
      " 1.95199221e-08]\n",
      "Итоговая ошибка модели Entropy Log loss:  0.0015993612930217823\n",
      "------------------------------------------------------------\n"
     ]
    }
   ],
   "source": [
    "model_RMSpro.fit_RMSprop(X_train, y_train)"
   ]
  },
  {
   "cell_type": "code",
   "execution_count": 94,
   "metadata": {},
   "outputs": [
    {
     "data": {
      "image/png": "[encoded data removed]",
      "text/plain": [
       "<Figure size 1080x576 with 1 Axes>"
      ]
     },
     "metadata": {
      "needs_background": "light"
     },
     "output_type": "display_data"
    }
   ],
   "source": [
    "loss_RMSprop = model_RMSpro.costs_rms\n",
    "\n",
    "# Постриом график, как изменялась ошибка в процессе обучения модели\n",
    "plt.figure(figsize= (15, 8))\n",
    "plt.plot(loss_RMSprop)\n",
    "plt.title('Обучение с помощью RMSprop')\n",
    "plt.xlabel('Эпоха обучения')\n",
    "plt.ylabel('Ошибка Log los')\n",
    "plt.show()"
   ]
  },
  {
   "cell_type": "code",
   "execution_count": 96,
   "metadata": {},
   "outputs": [
    {
     "name": "stdout",
     "output_type": "stream",
     "text": [
      "Метрика качества accuracy: 0.8333333333333334\n"
     ]
    }
   ],
   "source": [
    "# Проверим метрику качества Accuracy на отложенной тестовой выборке:\n",
    "\n",
    "y_pred_rms = model_RMSpro.predict(X_test)\n",
    "\n",
    "score = (y_pred_rms == y_test).mean()\n",
    "print(f'Метрика качества accuracy: {score}')"
   ]
  }
 ],
 "metadata": {
  "kernelspec": {
   "display_name": "Python 3 (ipykernel)",
   "language": "python",
   "name": "python3"
  },
  "language_info": {
   "codemirror_mode": {
    "name": "ipython",
    "version": 3
   },
   "file_extension": ".py",
   "mimetype": "text/x-python",
   "name": "python",
   "nbconvert_exporter": "python",
   "pygments_lexer": "ipython3",
   "version": "3.9.7"
  },
  "vscode": {
   "interpreter": {
    "hash": "d0d8f4ad52842acb1bd88b5e4d5a3e855ffe6009d6de89734aac6954d5696bda"
   }
  }
 },
 "nbformat": 4,
 "nbformat_minor": 2
}
