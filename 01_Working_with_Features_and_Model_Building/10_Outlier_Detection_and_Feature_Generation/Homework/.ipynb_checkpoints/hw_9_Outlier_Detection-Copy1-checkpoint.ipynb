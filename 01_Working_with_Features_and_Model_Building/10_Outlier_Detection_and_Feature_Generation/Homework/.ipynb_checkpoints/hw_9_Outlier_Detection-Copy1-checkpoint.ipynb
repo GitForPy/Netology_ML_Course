{
 "cells": [
  {
   "cell_type": "markdown",
   "id": "1a1820d0",
   "metadata": {},
   "source": [
    "# Задание\n",
    "\n",
    "## Цель\n",
    "Изучить применение методов по поиску выбросов в данных, попрактиковаться в обработке экстремальных значений.\n",
    "\n",
    "## Описание задания\n",
    "В домашнем задании нужно решить задачу классификации типа стекол. Данные для обучения моделей можно скачать с [сайта](https://www.kaggle.com/datasets/uciml/glass). Целевая переменная – тип стекла «Type». Остальные признаки описывают химические элементы в составе материала. Датасет нужно исследовать на наличие выбросов, провести EDA.\n",
    "\n",
    "## Этапы работы:\n",
    "\n",
    "1. Получите данные и загрузите их в рабочую среду (Jupyter Notebook или другую).\n",
    "2. Проведите первичный анализ.\n",
    "    а) Проверьте количество записей для каждого класса. Сделайте вывод.\n",
    "3. Разделите выборку на обучающее и тестовое подмножество. 80% данных оставить на обучающее множество, 20% на тестовое.\n",
    "4. Обучите модель дерева решений RandomForestClassifier на обучающем множестве.\n",
    "5. Для тестового множества предскажите тип стекла и сравните с истинным значением, посчитав точность предсказания модели (accuracy).\n",
    "6. Обработайте выбросы в данных.\n",
    "    а) Визуализируйте распределение значений для каждой переменной. Можно использовать функции [sns.boxplot, sns.distplot](https://seaborn.pydata.org/generated/seaborn.distplot.html). Есть ли признаки с нормальным распределением?\n",
    "    b) Исследуйте признаки на выбросы несколькими способами.\n",
    "    c) Удалите выбросы. *Посчитайте процент удаленных записей от общего числа записей для каждого класса.\n",
    "7. Повторите п. 4, п. 5.\n",
    "8. Сформулируйте выводы по проделанной работе.\n",
    "    а) Кратко опишите, какие преобразования были сделаны с данными.\n",
    "    b) Сравните точность двух моделей.\n",
    "    c) Напишите свое мнение, нужно ли исследовать данные на выбросы, для чего это делается, плюсы и минусы подхода.\n",
    "\n",
    "## Результат\n",
    "Получены практические знания по работе с выбросами в данных.\n",
    "\n",
    "## Форма выполнения\n",
    "- Ссылка на Jupyter Notebook, загруженный на GitHub;\n",
    "- Ссылка на Google Colab;\n",
    "- Файл с расширением .ipynb.\n",
    "\n",
    "## Инструменты\n",
    "- Jupyter Notebook/Google Colab;\n",
    "- GitHub;\n",
    "- [Сайт](https://www.kaggle.com/datasets/uciml/glass) с данными для обучения моделей;\n",
    "- Модель дерева решений [RandomForestClassifier](https://scikit-learn.org/stable/modules/generated/sklearn.ensemble.RandomForestClassifier.html).\n",
    "\n",
    "## Срок выполнения\n",
    "Дедлайн приема решений на проверку.\n",
    "\n",
    "## Рекомендации к выполнению\n",
    "1. Текст оформляйте в отдельной ячейке Jupyter Notebook/Google Colab в формате Markdown.\n",
    "2. Графикам должны быть заголовок, подписи осей, легенда (опционально). Делайте графики бОльшего размера, чем стандартный вывод, чтобы увеличить читабельность.\n",
    "3. Убедитесь, что по ссылкам есть доступ на чтение/просмотр.\n",
    "4. Убедитесь, что все ячейки в работе выполнены и можно увидеть их вывод без повторного запуска.\n",
    "\n",
    "## Выполнение задания\n",
    "Для получения зачета по этому домашнему заданию минимально должны быть реализованы методы по поиску выбросов и построены две модели: «до» и «после» обработки экстремальных значений.\n",
    "\n",
    "## Подводя итоги\n",
    "В данном задании вы исследуете данные на наличие выбросов и проведете EDA (исследование данных). После этого обработаете выбросы и обучите две модели для классификации типов стекол, сравнив их точность.\n",
    "\n",
    "Успехов в выполнении задания!"
   ]
  },
  {
   "cell_type": "code",
   "execution_count": 45,
   "id": "316937a5",
   "metadata": {},
   "outputs": [],
   "source": [
    "import numpy as np\n",
    "import pandas as pd\n",
    "import matplotlib.pyplot as plt\n",
    "import seaborn as sns\n",
    "from sklearn.model_selection import train_test_split\n",
    "from sklearn.ensemble import RandomForestClassifier\n",
    "from sklearn.metrics import accuracy_score\n",
    "from sklearn.ensemble import IsolationForest\n",
    "from scipy import stats\n",
    "\n",
    "import warnings\n",
    "\n",
    "warnings.filterwarnings('ignore')"
   ]
  },
  {
   "cell_type": "markdown",
   "id": "2576c3ce",
   "metadata": {},
   "source": [
    "# 1. Получите данные и загрузите их в рабочую среду (Jupyter Notebook или другую)."
   ]
  },
  {
   "cell_type": "code",
   "execution_count": 4,
   "id": "f576a69c",
   "metadata": {},
   "outputs": [
    {
     "data": {
      "text/html": [
       "<div>\n",
       "<style scoped>\n",
       "    .dataframe tbody tr th:only-of-type {\n",
       "        vertical-align: middle;\n",
       "    }\n",
       "\n",
       "    .dataframe tbody tr th {\n",
       "        vertical-align: top;\n",
       "    }\n",
       "\n",
       "    .dataframe thead th {\n",
       "        text-align: right;\n",
       "    }\n",
       "</style>\n",
       "<table border=\"1\" class=\"dataframe\">\n",
       "  <thead>\n",
       "    <tr style=\"text-align: right;\">\n",
       "      <th></th>\n",
       "      <th>RI</th>\n",
       "      <th>Na</th>\n",
       "      <th>Mg</th>\n",
       "      <th>Al</th>\n",
       "      <th>Si</th>\n",
       "      <th>K</th>\n",
       "      <th>Ca</th>\n",
       "      <th>Ba</th>\n",
       "      <th>Fe</th>\n",
       "      <th>Type</th>\n",
       "    </tr>\n",
       "  </thead>\n",
       "  <tbody>\n",
       "    <tr>\n",
       "      <th>0</th>\n",
       "      <td>1.52101</td>\n",
       "      <td>13.64</td>\n",
       "      <td>4.49</td>\n",
       "      <td>1.10</td>\n",
       "      <td>71.78</td>\n",
       "      <td>0.06</td>\n",
       "      <td>8.75</td>\n",
       "      <td>0.0</td>\n",
       "      <td>0.0</td>\n",
       "      <td>1</td>\n",
       "    </tr>\n",
       "    <tr>\n",
       "      <th>1</th>\n",
       "      <td>1.51761</td>\n",
       "      <td>13.89</td>\n",
       "      <td>3.60</td>\n",
       "      <td>1.36</td>\n",
       "      <td>72.73</td>\n",
       "      <td>0.48</td>\n",
       "      <td>7.83</td>\n",
       "      <td>0.0</td>\n",
       "      <td>0.0</td>\n",
       "      <td>1</td>\n",
       "    </tr>\n",
       "    <tr>\n",
       "      <th>2</th>\n",
       "      <td>1.51618</td>\n",
       "      <td>13.53</td>\n",
       "      <td>3.55</td>\n",
       "      <td>1.54</td>\n",
       "      <td>72.99</td>\n",
       "      <td>0.39</td>\n",
       "      <td>7.78</td>\n",
       "      <td>0.0</td>\n",
       "      <td>0.0</td>\n",
       "      <td>1</td>\n",
       "    </tr>\n",
       "    <tr>\n",
       "      <th>3</th>\n",
       "      <td>1.51766</td>\n",
       "      <td>13.21</td>\n",
       "      <td>3.69</td>\n",
       "      <td>1.29</td>\n",
       "      <td>72.61</td>\n",
       "      <td>0.57</td>\n",
       "      <td>8.22</td>\n",
       "      <td>0.0</td>\n",
       "      <td>0.0</td>\n",
       "      <td>1</td>\n",
       "    </tr>\n",
       "    <tr>\n",
       "      <th>4</th>\n",
       "      <td>1.51742</td>\n",
       "      <td>13.27</td>\n",
       "      <td>3.62</td>\n",
       "      <td>1.24</td>\n",
       "      <td>73.08</td>\n",
       "      <td>0.55</td>\n",
       "      <td>8.07</td>\n",
       "      <td>0.0</td>\n",
       "      <td>0.0</td>\n",
       "      <td>1</td>\n",
       "    </tr>\n",
       "  </tbody>\n",
       "</table>\n",
       "</div>"
      ],
      "text/plain": [
       "        RI     Na    Mg    Al     Si     K    Ca   Ba   Fe  Type\n",
       "0  1.52101  13.64  4.49  1.10  71.78  0.06  8.75  0.0  0.0     1\n",
       "1  1.51761  13.89  3.60  1.36  72.73  0.48  7.83  0.0  0.0     1\n",
       "2  1.51618  13.53  3.55  1.54  72.99  0.39  7.78  0.0  0.0     1\n",
       "3  1.51766  13.21  3.69  1.29  72.61  0.57  8.22  0.0  0.0     1\n",
       "4  1.51742  13.27  3.62  1.24  73.08  0.55  8.07  0.0  0.0     1"
      ]
     },
     "execution_count": 4,
     "metadata": {},
     "output_type": "execute_result"
    }
   ],
   "source": [
    "df=pd.read_csv('glass.csv')\n",
    "df.head()"
   ]
  },
  {
   "cell_type": "code",
   "execution_count": 5,
   "id": "a6590f36",
   "metadata": {},
   "outputs": [
    {
     "name": "stdout",
     "output_type": "stream",
     "text": [
      "<class 'pandas.core.frame.DataFrame'>\n",
      "RangeIndex: 214 entries, 0 to 213\n",
      "Data columns (total 10 columns):\n",
      " #   Column  Non-Null Count  Dtype  \n",
      "---  ------  --------------  -----  \n",
      " 0   RI      214 non-null    float64\n",
      " 1   Na      214 non-null    float64\n",
      " 2   Mg      214 non-null    float64\n",
      " 3   Al      214 non-null    float64\n",
      " 4   Si      214 non-null    float64\n",
      " 5   K       214 non-null    float64\n",
      " 6   Ca      214 non-null    float64\n",
      " 7   Ba      214 non-null    float64\n",
      " 8   Fe      214 non-null    float64\n",
      " 9   Type    214 non-null    int64  \n",
      "dtypes: float64(9), int64(1)\n",
      "memory usage: 16.8 KB\n"
     ]
    }
   ],
   "source": [
    "df.info()"
   ]
  },
  {
   "cell_type": "code",
   "execution_count": 6,
   "id": "d55351c7",
   "metadata": {},
   "outputs": [
    {
     "data": {
      "text/html": [
       "<div>\n",
       "<style scoped>\n",
       "    .dataframe tbody tr th:only-of-type {\n",
       "        vertical-align: middle;\n",
       "    }\n",
       "\n",
       "    .dataframe tbody tr th {\n",
       "        vertical-align: top;\n",
       "    }\n",
       "\n",
       "    .dataframe thead th {\n",
       "        text-align: right;\n",
       "    }\n",
       "</style>\n",
       "<table border=\"1\" class=\"dataframe\">\n",
       "  <thead>\n",
       "    <tr style=\"text-align: right;\">\n",
       "      <th></th>\n",
       "      <th>RI</th>\n",
       "      <th>Na</th>\n",
       "      <th>Mg</th>\n",
       "      <th>Al</th>\n",
       "      <th>Si</th>\n",
       "      <th>K</th>\n",
       "      <th>Ca</th>\n",
       "      <th>Ba</th>\n",
       "      <th>Fe</th>\n",
       "      <th>Type</th>\n",
       "    </tr>\n",
       "  </thead>\n",
       "  <tbody>\n",
       "    <tr>\n",
       "      <th>count</th>\n",
       "      <td>214.000000</td>\n",
       "      <td>214.000000</td>\n",
       "      <td>214.000000</td>\n",
       "      <td>214.000000</td>\n",
       "      <td>214.000000</td>\n",
       "      <td>214.000000</td>\n",
       "      <td>214.000000</td>\n",
       "      <td>214.000000</td>\n",
       "      <td>214.000000</td>\n",
       "      <td>214.000000</td>\n",
       "    </tr>\n",
       "    <tr>\n",
       "      <th>mean</th>\n",
       "      <td>1.518365</td>\n",
       "      <td>13.407850</td>\n",
       "      <td>2.684533</td>\n",
       "      <td>1.444907</td>\n",
       "      <td>72.650935</td>\n",
       "      <td>0.497056</td>\n",
       "      <td>8.956963</td>\n",
       "      <td>0.175047</td>\n",
       "      <td>0.057009</td>\n",
       "      <td>2.780374</td>\n",
       "    </tr>\n",
       "    <tr>\n",
       "      <th>std</th>\n",
       "      <td>0.003037</td>\n",
       "      <td>0.816604</td>\n",
       "      <td>1.442408</td>\n",
       "      <td>0.499270</td>\n",
       "      <td>0.774546</td>\n",
       "      <td>0.652192</td>\n",
       "      <td>1.423153</td>\n",
       "      <td>0.497219</td>\n",
       "      <td>0.097439</td>\n",
       "      <td>2.103739</td>\n",
       "    </tr>\n",
       "    <tr>\n",
       "      <th>min</th>\n",
       "      <td>1.511150</td>\n",
       "      <td>10.730000</td>\n",
       "      <td>0.000000</td>\n",
       "      <td>0.290000</td>\n",
       "      <td>69.810000</td>\n",
       "      <td>0.000000</td>\n",
       "      <td>5.430000</td>\n",
       "      <td>0.000000</td>\n",
       "      <td>0.000000</td>\n",
       "      <td>1.000000</td>\n",
       "    </tr>\n",
       "    <tr>\n",
       "      <th>25%</th>\n",
       "      <td>1.516522</td>\n",
       "      <td>12.907500</td>\n",
       "      <td>2.115000</td>\n",
       "      <td>1.190000</td>\n",
       "      <td>72.280000</td>\n",
       "      <td>0.122500</td>\n",
       "      <td>8.240000</td>\n",
       "      <td>0.000000</td>\n",
       "      <td>0.000000</td>\n",
       "      <td>1.000000</td>\n",
       "    </tr>\n",
       "    <tr>\n",
       "      <th>50%</th>\n",
       "      <td>1.517680</td>\n",
       "      <td>13.300000</td>\n",
       "      <td>3.480000</td>\n",
       "      <td>1.360000</td>\n",
       "      <td>72.790000</td>\n",
       "      <td>0.555000</td>\n",
       "      <td>8.600000</td>\n",
       "      <td>0.000000</td>\n",
       "      <td>0.000000</td>\n",
       "      <td>2.000000</td>\n",
       "    </tr>\n",
       "    <tr>\n",
       "      <th>75%</th>\n",
       "      <td>1.519157</td>\n",
       "      <td>13.825000</td>\n",
       "      <td>3.600000</td>\n",
       "      <td>1.630000</td>\n",
       "      <td>73.087500</td>\n",
       "      <td>0.610000</td>\n",
       "      <td>9.172500</td>\n",
       "      <td>0.000000</td>\n",
       "      <td>0.100000</td>\n",
       "      <td>3.000000</td>\n",
       "    </tr>\n",
       "    <tr>\n",
       "      <th>max</th>\n",
       "      <td>1.533930</td>\n",
       "      <td>17.380000</td>\n",
       "      <td>4.490000</td>\n",
       "      <td>3.500000</td>\n",
       "      <td>75.410000</td>\n",
       "      <td>6.210000</td>\n",
       "      <td>16.190000</td>\n",
       "      <td>3.150000</td>\n",
       "      <td>0.510000</td>\n",
       "      <td>7.000000</td>\n",
       "    </tr>\n",
       "  </tbody>\n",
       "</table>\n",
       "</div>"
      ],
      "text/plain": [
       "               RI          Na          Mg          Al          Si           K  \\\n",
       "count  214.000000  214.000000  214.000000  214.000000  214.000000  214.000000   \n",
       "mean     1.518365   13.407850    2.684533    1.444907   72.650935    0.497056   \n",
       "std      0.003037    0.816604    1.442408    0.499270    0.774546    0.652192   \n",
       "min      1.511150   10.730000    0.000000    0.290000   69.810000    0.000000   \n",
       "25%      1.516522   12.907500    2.115000    1.190000   72.280000    0.122500   \n",
       "50%      1.517680   13.300000    3.480000    1.360000   72.790000    0.555000   \n",
       "75%      1.519157   13.825000    3.600000    1.630000   73.087500    0.610000   \n",
       "max      1.533930   17.380000    4.490000    3.500000   75.410000    6.210000   \n",
       "\n",
       "               Ca          Ba          Fe        Type  \n",
       "count  214.000000  214.000000  214.000000  214.000000  \n",
       "mean     8.956963    0.175047    0.057009    2.780374  \n",
       "std      1.423153    0.497219    0.097439    2.103739  \n",
       "min      5.430000    0.000000    0.000000    1.000000  \n",
       "25%      8.240000    0.000000    0.000000    1.000000  \n",
       "50%      8.600000    0.000000    0.000000    2.000000  \n",
       "75%      9.172500    0.000000    0.100000    3.000000  \n",
       "max     16.190000    3.150000    0.510000    7.000000  "
      ]
     },
     "execution_count": 6,
     "metadata": {},
     "output_type": "execute_result"
    }
   ],
   "source": [
    "df.describe()"
   ]
  },
  {
   "cell_type": "markdown",
   "id": "a7210fcc",
   "metadata": {},
   "source": [
    "## Проведите первичный анализ. а) Проверьте количество записей для каждого класса. Сделайте вывод."
   ]
  },
  {
   "cell_type": "code",
   "execution_count": 7,
   "id": "8045845f",
   "metadata": {},
   "outputs": [
    {
     "data": {
      "text/plain": [
       "1    70\n",
       "2    76\n",
       "3    17\n",
       "5    13\n",
       "6     9\n",
       "7    29\n",
       "Name: Type, dtype: int64"
      ]
     },
     "execution_count": 7,
     "metadata": {},
     "output_type": "execute_result"
    }
   ],
   "source": [
    "df['Type'].value_counts().sort_index(ascending=True)"
   ]
  },
  {
   "cell_type": "code",
   "execution_count": 8,
   "id": "44abfb9e",
   "metadata": {},
   "outputs": [
    {
     "data": {
      "image/png": "[encoded data removed]",
      "text/plain": [
       "<Figure size 864x504 with 1 Axes>"
      ]
     },
     "metadata": {
      "needs_background": "light"
     },
     "output_type": "display_data"
    }
   ],
   "source": [
    "import seaborn as sns\n",
    "import matplotlib.pyplot as plt\n",
    "\n",
    "# Предположим, что у вас есть DataFrame df с данными\n",
    "# и у вас уже выполнен первичный анализ и разделение выборки на обучающее и тестовое подмножество\n",
    "\n",
    "# Построение графика sns.countplot\n",
    "plt.figure(figsize=(12, 7)) # Размер графика\n",
    "ax = sns.countplot(data=df, x='Type', palette='bright')\n",
    "\n",
    "# Добавление подписей значений над каждой категорией\n",
    "for p in ax.patches:\n",
    "    height = p.get_height()\n",
    "    ax.text(p.get_x() + p.get_width() / 2., height + 1, f'{height}', ha='center', va='bottom')\n",
    "\n",
    "# Настройка заголовка и подписей осей\n",
    "plt.title('Количество записей для каждого класса')\n",
    "plt.xlabel('Тип стекла')\n",
    "plt.ylabel('Количество записей')\n",
    "\n",
    "# Отображение графика\n",
    "plt.show()\n"
   ]
  },
  {
   "cell_type": "markdown",
   "id": "f414e5dc",
   "metadata": {},
   "source": [
    "Вывод:\n",
    "Распределение данных по типам стекла указывает на неравномерность в количестве записей для различных классов. Типы 1 и 2 представлены более обширно по сравнению с типами 3, 5, 6 и 7, количество записей которых существенно меньше."
   ]
  },
  {
   "cell_type": "markdown",
   "id": "758e8730",
   "metadata": {},
   "source": [
    "# 3. Разделите выборку на обучающее и тестовое подмножество. 80% данных оставить на обучающее множество, 20% на тестовое."
   ]
  },
  {
   "cell_type": "code",
   "execution_count": 12,
   "id": "e9822e02",
   "metadata": {},
   "outputs": [
    {
     "name": "stdout",
     "output_type": "stream",
     "text": [
      "Обучающая выборка: 171 записей\n",
      "Тестовая выборка: 43 записей\n"
     ]
    }
   ],
   "source": [
    "# Разделение на признаки и целевую переменную\n",
    "X = df.drop('Type', axis=1)\n",
    "y = df['Type']\n",
    "\n",
    "# Разделение на обучающую и тестовую выборки\n",
    "X_train, X_test, y_train, y_test = train_test_split(X, y, test_size=0.2, random_state=42)\n",
    "\n",
    "print(f'Обучающая выборка: {X_train.shape[0]} записей')\n",
    "print(f'Тестовая выборка: {X_test.shape[0]} записей')"
   ]
  },
  {
   "cell_type": "markdown",
   "id": "5a3eca50",
   "metadata": {},
   "source": [
    "# 4. Обучите модель дерева решений RandomForestClassifier на обучающем множестве."
   ]
  },
  {
   "cell_type": "code",
   "execution_count": 15,
   "id": "7e788c74",
   "metadata": {},
   "outputs": [
    {
     "data": {
      "text/plain": [
       "RandomForestClassifier(random_state=42)"
      ]
     },
     "execution_count": 15,
     "metadata": {},
     "output_type": "execute_result"
    }
   ],
   "source": [
    "from sklearn.ensemble import RandomForestClassifier\n",
    "\n",
    "# Создание экземпляра классификатора\n",
    "rf = RandomForestClassifier(random_state=42)\n",
    "\n",
    "# Обучение классификатора\n",
    "rf.fit(X_train, y_train)"
   ]
  },
  {
   "cell_type": "markdown",
   "id": "5d8d8966",
   "metadata": {},
   "source": [
    "# 5. Для тестового множества предскажите тип стекла и сравните с истинным значением, посчитав точность предсказания модели (accuracy)."
   ]
  },
  {
   "cell_type": "code",
   "execution_count": 17,
   "id": "4bac4525",
   "metadata": {},
   "outputs": [
    {
     "name": "stdout",
     "output_type": "stream",
     "text": [
      "Точность модели: 0.8372093023255814\n"
     ]
    }
   ],
   "source": [
    "# Предсказание на тестовой выборке\n",
    "y_pred = rf.predict(X_test)\n",
    "\n",
    "# Вычисление точности\n",
    "accuracy = accuracy_score(y_test, y_pred)\n",
    "\n",
    "print(f'Точность модели: {accuracy}')"
   ]
  },
  {
   "cell_type": "markdown",
   "id": "6740fecd",
   "metadata": {},
   "source": [
    "# Обработайте выбросы в данных.\n",
    "- а) Визуализируйте распределение значений для каждой переменной. Можно использовать функции sns.boxplot, sns.distplot. Есть ли признаки с нормальным распределением?\n",
    "- b) Исследуйте признаки на выбросы несколькими способами.\n",
    "- c) Удалите выбросы. *Посчитайте процент удаленных записей от общего числа записей для каждого класса."
   ]
  },
  {
   "cell_type": "markdown",
   "id": "ccd82ab3",
   "metadata": {},
   "source": [
    "## а) Визуализируйте распределение значений для каждой переменной. Можно использовать функции sns.boxplot, sns.distplot. Есть ли признаки с нормальным распределением?"
   ]
  },
  {
   "cell_type": "code",
   "execution_count": 33,
   "id": "b9058179",
   "metadata": {},
   "outputs": [
    {
     "data": {
      "image/png": "[encoded data removed]",
      "text/plain": [
       "<Figure size 1080x1080 with 9 Axes>"
      ]
     },
     "metadata": {
      "needs_background": "light"
     },
     "output_type": "display_data"
    }
   ],
   "source": [
    "fig, axs = plt.subplots(nrows=3, ncols=3, figsize=(15, 15))\n",
    "\n",
    "# Располагаем графики в сетке 3x3\n",
    "for ax, column in zip(axs.flat, df.columns[:-1]):\n",
    "    sns.distplot(df[column], kde=False, ax=ax)\n",
    "    ax.set_title(f'Distribution plot of {column}')\n",
    "\n",
    "plt.show()\n"
   ]
  },
  {
   "cell_type": "code",
   "execution_count": 35,
   "id": "9dc19eb2",
   "metadata": {},
   "outputs": [
    {
     "data": {
      "image/png": "[encoded data removed]",
      "text/plain": [
       "<Figure size 1080x1080 with 9 Axes>"
      ]
     },
     "metadata": {
      "needs_background": "light"
     },
     "output_type": "display_data"
    }
   ],
   "source": [
    "fig, axs = plt.subplots(nrows=3, ncols=3, figsize=(15, 15))\n",
    "\n",
    "# Располагаем графики в сетке 3x3\n",
    "for ax, column in zip(axs.flat, df.columns[:-1]):\n",
    "    sns.boxplot(df[column], ax=ax)\n",
    "    ax.set_title(f'Boxplot of {column}')"
   ]
  },
  {
   "cell_type": "markdown",
   "id": "24d8bc04",
   "metadata": {},
   "source": [
    "## Для проверки на нормальное распределение применим статистический текст Шапиро-Уилка"
   ]
  },
  {
   "cell_type": "code",
   "execution_count": 36,
   "id": "0a603f2f",
   "metadata": {},
   "outputs": [
    {
     "name": "stdout",
     "output_type": "stream",
     "text": [
      "RI - гипотеза о нормальности отвергается\n",
      "Na - гипотеза о нормальности отвергается\n",
      "Mg - гипотеза о нормальности отвергается\n",
      "Al - гипотеза о нормальности отвергается\n",
      "Si - гипотеза о нормальности отвергается\n",
      "K - гипотеза о нормальности отвергается\n",
      "Ca - гипотеза о нормальности отвергается\n",
      "Ba - гипотеза о нормальности отвергается\n",
      "Fe - гипотеза о нормальности отвергается\n"
     ]
    }
   ],
   "source": [
    "from scipy.stats import shapiro\n",
    "\n",
    "# Применяем тест Шапиро-Уилка ко всем столбцам (кроме последнего)\n",
    "for column in df.columns[:-1]:\n",
    "    stat, p_value = shapiro(df[column])\n",
    "    if p_value > 0.05:\n",
    "        print(f\"{column} - гипотеза о нормальности не отвергается\")\n",
    "    else:\n",
    "        print(f\"{column} - гипотеза о нормальности отвергается\")\n"
   ]
  },
  {
   "cell_type": "markdown",
   "id": "8a7d7998",
   "metadata": {},
   "source": [
    "Вывод: формально ни один признак не прошел проверку на нормальное распределение на уровне значимости 5%, но исходя из графиков видно, что распределение NA, AI, SI, RI и CA напоминает нормальное распределение."
   ]
  },
  {
   "cell_type": "markdown",
   "id": "f4095fb1",
   "metadata": {},
   "source": [
    "## b) Исследуйте признаки на выбросы несколькими способами.\n",
    "## c) Удалите выбросы. *Посчитайте процент удаленных записей от общего числа записей для каждого класса."
   ]
  },
  {
   "cell_type": "code",
   "execution_count": 46,
   "id": "60c97243",
   "metadata": {},
   "outputs": [],
   "source": [
    "# Я буду использовать 3 подхода для определения выбросов:\n",
    "\n",
    "# 1. IQR\n",
    "def remove_outliers_iqr(df):\n",
    "    Q1 = df.quantile(0.25)\n",
    "    Q3 = df.quantile(0.75)\n",
    "    IQR = Q3 - Q1\n",
    "    df_out = df[~((df < (Q1 - 1.5 * IQR)) | (df > (Q3 + 1.5 * IQR))).any(axis=1)]\n",
    "    return df_out\n",
    "\n",
    "# 2. Z_score\n",
    "def remove_outliers_zscore(df, threshold=3):\n",
    "    z_scores = np.abs(stats.zscore(df))\n",
    "    df_out = df[(z_scores < threshold).all(axis=1)]\n",
    "    return df_out\n",
    "\n",
    "# Isolation Forest\n",
    "def remove_outliers_isolation_forest(df):\n",
    "    model = IsolationForest(contamination=0.1)\n",
    "    model.fit(df)\n",
    "    df['anomaly'] = model.predict(df)\n",
    "    df_out = df[df['anomaly'] != -1]\n",
    "    df_out.drop('anomaly', axis=1, inplace=True)\n",
    "    return df_out"
   ]
  },
  {
   "cell_type": "code",
   "execution_count": 47,
   "id": "8275a003",
   "metadata": {},
   "outputs": [],
   "source": [
    "df_iqr = remove_outliers_iqr(df)\n",
    "df_zscore = remove_outliers_zscore(df)\n",
    "df_isolation_forest = remove_outliers_isolation_forest(df)"
   ]
  },
  {
   "cell_type": "code",
   "execution_count": 49,
   "id": "058d0388",
   "metadata": {},
   "outputs": [
    {
     "name": "stdout",
     "output_type": "stream",
     "text": [
      "IQR method: 36.45% records removed.\n",
      "Z-score method: 9.35% records removed.\n",
      "Isolation Forest method: 10.28% records removed.\n"
     ]
    }
   ],
   "source": [
    "# процент удаленных записей для каждого метода\n",
    "removed_percent_iqr = (len(df) - len(df_iqr)) / len(df) * 100\n",
    "removed_percent_zscore = (len(df) - len(df_zscore)) / len(df) * 100\n",
    "removed_percent_isolation_forest = (len(df) - len(df_isolation_forest)) / len(df) * 100\n",
    "\n",
    "print(\"IQR method: {:.2f}% records removed.\".format(removed_percent_iqr))\n",
    "print(\"Z-score method: {:.2f}% records removed.\".format(removed_percent_zscore))\n",
    "print(\"Isolation Forest method: {:.2f}% records removed.\".format(removed_percent_isolation_forest))\n"
   ]
  },
  {
   "cell_type": "code",
   "execution_count": null,
   "id": "e699d98c",
   "metadata": {},
   "outputs": [],
   "source": [
    "Удалю выбросы на основе бокс плота"
   ]
  },
  {
   "cell_type": "markdown",
   "id": "6145975b",
   "metadata": {},
   "source": [
    "# 7. Повторите п. 4, п. 5."
   ]
  },
  {
   "cell_type": "code",
   "execution_count": 50,
   "id": "5e8f54ac",
   "metadata": {},
   "outputs": [
    {
     "name": "stdout",
     "output_type": "stream",
     "text": [
      "             Method  Accuracy\n",
      "0       No Outliers  0.860465\n",
      "1               IQR      0.75\n",
      "2           Z-score  0.846154\n",
      "3  Isolation Forest  0.717949\n"
     ]
    }
   ],
   "source": [
    "import pandas as pd\n",
    "\n",
    "# Создание пустого датафрейма\n",
    "accuracy_df = pd.DataFrame(columns=['Method', 'Accuracy'])\n",
    "\n",
    "# Обработка первоначального датафрейма без удаления выбросов\n",
    "X = df.drop('Type', axis=1)\n",
    "y = df['Type']\n",
    "X_train, X_test, y_train, y_test = train_test_split(X, y, test_size=0.2, random_state=42)\n",
    "rf = RandomForestClassifier()\n",
    "rf.fit(X_train, y_train)\n",
    "y_pred = rf.predict(X_test)\n",
    "accuracy = accuracy_score(y_test, y_pred)\n",
    "accuracy_df = accuracy_df.append({'Method': 'No Outliers', 'Accuracy': accuracy}, ignore_index=True)\n",
    "\n",
    "# Повторение для каждого метода удаления\n",
    "for df_outliers_removed, method_name in zip([df_iqr, df_zscore, df_isolation_forest], ['IQR', 'Z-score', 'Isolation Forest']):\n",
    "    X = df_outliers_removed.drop('Type', axis=1)\n",
    "    y = df_outliers_removed['Type']\n",
    "    X_train, X_test, y_train, y_test = train_test_split(X, y, test_size=0.2, random_state=42)\n",
    "    rf = RandomForestClassifier()\n",
    "    rf.fit(X_train, y_train)\n",
    "    y_pred = rf.predict(X_test)\n",
    "    accuracy = accuracy_score(y_test, y_pred)\n",
    "    accuracy_df = accuracy_df.append({'Method': method_name, 'Accuracy': accuracy}, ignore_index=True)\n",
    "\n",
    "# Вывод датафрейма с результатами точности\n",
    "print(accuracy_df)\n"
   ]
  },
  {
   "cell_type": "code",
   "execution_count": 53,
   "id": "81a04d5a",
   "metadata": {},
   "outputs": [
    {
     "data": {
      "text/html": [
       "<div>\n",
       "<style scoped>\n",
       "    .dataframe tbody tr th:only-of-type {\n",
       "        vertical-align: middle;\n",
       "    }\n",
       "\n",
       "    .dataframe tbody tr th {\n",
       "        vertical-align: top;\n",
       "    }\n",
       "\n",
       "    .dataframe thead th {\n",
       "        text-align: right;\n",
       "    }\n",
       "</style>\n",
       "<table border=\"1\" class=\"dataframe\">\n",
       "  <thead>\n",
       "    <tr style=\"text-align: right;\">\n",
       "      <th></th>\n",
       "      <th>Method</th>\n",
       "      <th>Accuracy</th>\n",
       "    </tr>\n",
       "  </thead>\n",
       "  <tbody>\n",
       "    <tr>\n",
       "      <th>0</th>\n",
       "      <td>No Outliers</td>\n",
       "      <td>0.860465</td>\n",
       "    </tr>\n",
       "    <tr>\n",
       "      <th>2</th>\n",
       "      <td>Z-score</td>\n",
       "      <td>0.846154</td>\n",
       "    </tr>\n",
       "    <tr>\n",
       "      <th>1</th>\n",
       "      <td>IQR</td>\n",
       "      <td>0.75</td>\n",
       "    </tr>\n",
       "    <tr>\n",
       "      <th>3</th>\n",
       "      <td>Isolation Forest</td>\n",
       "      <td>0.717949</td>\n",
       "    </tr>\n",
       "  </tbody>\n",
       "</table>\n",
       "</div>"
      ],
      "text/plain": [
       "             Method  Accuracy\n",
       "0       No Outliers  0.860465\n",
       "2           Z-score  0.846154\n",
       "1               IQR      0.75\n",
       "3  Isolation Forest  0.717949"
      ]
     },
     "execution_count": 53,
     "metadata": {},
     "output_type": "execute_result"
    }
   ],
   "source": [
    "accuracy_df.sort_values('Accuracy', ascending=False)"
   ]
  },
  {
   "cell_type": "markdown",
   "id": "0cc923c3",
   "metadata": {},
   "source": [
    "# 8. Сформулируйте выводы по проделанной работе. а) Кратко опишите, какие преобразования были сделаны с данными. b) Сравните точность двух моделей. c) Напишите свое мнение, нужно ли исследовать данные на выбросы, для чего это делается, плюсы и минусы подхода."
   ]
  },
  {
   "cell_type": "markdown",
   "id": "1758914a",
   "metadata": {},
   "source": [
    "## a) Преобразования данных:\n",
    "\n",
    "Было проведено удаление выбросов с использованием трех методов: IQR, Z-score и Isolation Forest.\n",
    "\n",
    "## b) Сравнение точности моделей:\n",
    "\n",
    "Наибольшая точность была достигнута на исходном датасете без удаления выбросов (No Outliers) и составила 0.860465.\n",
    "Точность моделей на обработанных датасетах с удаленными выбросами была ниже:\n",
    "\n",
    "- Для метода Z-score точность составила 0.846154.\n",
    "- Для метода IQR точность составила 0.75.\n",
    "- Для метода Isolation Forest точность составила 0.717949.\n",
    "\n",
    "Понижение точности модели после удаления выбросов может быть связано с недостатком данных для обучения и валидации. Исходный датафрейм содержал всего 214 записей.\n",
    "\n",
    "### c) Мнение о необходимости исследования данных на выбросы:\n",
    "\n",
    "Исследование данных на выбросы является важным этапом в предобработке данных. Поиск и удаление выбросов может быть полезным, когда выбросы представляют собой ошибочные или аномальные значения, которые могут исказить анализ или обучение моделей.\n",
    "\n",
    "Плюсы подхода в обнаружении и удалении выбросов включают повышение качества данных, улучшение производительности моделей и улучшение интерпретируемости результатов.\n",
    "\n",
    "Важно! Однако, в данном случае с небольшим количеством данных (214 записей), удаление выбросов может привести к потере информации и снижению качества модели.\n",
    "\n",
    "\n"
   ]
  }
 ],
 "metadata": {
  "kernelspec": {
   "display_name": "Python 3 (ipykernel)",
   "language": "python",
   "name": "python3"
  },
  "language_info": {
   "codemirror_mode": {
    "name": "ipython",
    "version": 3
   },
   "file_extension": ".py",
   "mimetype": "text/x-python",
   "name": "python",
   "nbconvert_exporter": "python",
   "pygments_lexer": "ipython3",
   "version": "3.9.12"
  }
 },
 "nbformat": 4,
 "nbformat_minor": 5
}
