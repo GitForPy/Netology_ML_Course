{
  "cells": [
    {
      "cell_type": "code",
      "execution_count": null,
      "id": "2b6c6f31",
      "metadata": {
        "id": "2b6c6f31"
      },
      "outputs": [],
      "source": [
        "import pandas as pd\n",
        "import numpy as np\n",
        "import matplotlib.pyplot as plt\n",
        "import seaborn as sns\n",
        "from sklearn.preprocessing import LabelEncoder, StandardScaler\n",
        "from sklearn.model_selection import train_test_split\n",
        "from sklearn.linear_model import LogisticRegression\n",
        "from sklearn.metrics import roc_curve, roc_auc_score, precision_recall_curve, average_precision_score \n",
        "from sklearn.metrics import confusion_matrix  \n",
        "from sklearn.metrics import classification_report\n",
        "from datetime import datetime\n",
        "import plotly.express as px\n",
        "import warnings"
      ]
    },
    {
      "cell_type": "markdown",
      "id": "b981a78c",
      "metadata": {
        "id": "b981a78c"
      },
      "source": [
        "**Цель**: закрепить знания о математическом смысле метрик TPR, FPR. Изучить построение ROC-кривой, графика Precision-Recall.\n",
        "\n",
        "**Описание задания**:\n",
        "\n",
        "Решить задачу классификации при помощи обучения модели логистической регрессии. Качество модели оценивается путем подсчета метрик TPR, FPR и построения графиков ROC-кривой, Precision-Recall. Данные для обучения модели хранятся в файле athletes.csv, который можно найти в материалах к занятию.\n",
        "\n",
        "**Этапы работы**:\n",
        "\n",
        "1. Преобразуйте данные:\n",
        "    \n",
        "    a. проверьте наличие пропущенных значений. Преобразуйте/удалите пропуски по необходимости;\n",
        "    \n",
        "    b. закодируйте категориальные переменные числовыми значениями по необходимости.\n",
        "    \n",
        "    \n",
        "2. Разделите выборку на обучающее (80% данных) и тестовое (20% данных) подмножества.\n",
        "\n",
        "3. Постройте ROC-кривую с помощью функции sklearn.metrics. roc_curve.\n",
        "\n",
        "4. Вычислите значение ROC-AUC метрики с помощью функции sklearn.metrics.roc_auc_score.\n",
        "\n",
        "5. Реализуйте подсчет метрик TPR, FPR «вручную», без использования готовых функций из библиотеки sklearn.\n",
        "\n",
        "6. Постройте ROC-кривую с помощью вычисленных в п. 5 метрик: объедините графики из п. 3 и п. 6 в один. Сравните, сделайте вывод.\n",
        "\n",
        "7. Постройте график Precision-Recall, используя метрики, посчитанные в п. 5.\n",
        "\n",
        "8. *Вычислите значение ROC-AUC метрики, используя метрики, посчитанные в п. 5.\n",
        "\n",
        "9. **Сформулируйте выводы по проделанной работе**:\n",
        "    \n",
        "    a. как по полученным графикам сделать вывод о качестве модели? Как вы оцениваете обученную модель исходя из подсчитанных метрик?\n",
        "\n",
        "    b. *может ли ROC-кривая проходить ниже диагонали?\n",
        "\n",
        "**Результат**:\n",
        "\n",
        "- проведена оценка качества модели классификации;\n",
        "\n",
        "- реализован подсчет «вручную» основных метрик, проведено сравнение полученных результатов с готовыми функциями из библиотеки sklearn.\n",
        "\n",
        "**Форма выполнения**:\n",
        "- ссылка на Jupyter Notebook, загруженный на GitHub;\n",
        "- ссылка на Google Colab;\n",
        "- файл с расширением .ipynb.\n",
        "\n",
        "**Инструменты**:\n",
        "- Jupyter Notebook/Google Colab\n",
        "- GitHub\n",
        "- файл athletes.csv\n",
        "- Срок выполнения: дедлайн приема решений на проверку\n",
        "\n",
        "***Рекомендации к выполнению**:\n",
        "- Убедитесь, что на графике ROC-кривой присутствует диагональная линия, начинающаяся в точке (0;0) и заканчивающаяся в точке (1;1).\n",
        "\n",
        "- Текст оформляйте в отдельной ячейке Jupyter Notebook/Google Colab в формате markdown.\n",
        "\n",
        "- У графиков должен быть заголовок, подписи осей, легенда (опционально). Делайте графики бОльшего размера, чем стандартный вывод, чтобы увеличить читаемость.\n",
        "\n",
        "- Убедитесь, что по ссылкам есть доступ на чтение/просмотр.\n",
        "- Убедитесь, что все ячейки в работе выполнены и можно увидеть их вывод без повторного запуска."
      ]
    },
    {
      "cell_type": "code",
      "execution_count": null,
      "id": "0348e7ac",
      "metadata": {
        "id": "0348e7ac"
      },
      "outputs": [],
      "source": [
        "warnings.filterwarnings('ignore')"
      ]
    },
    {
      "cell_type": "markdown",
      "id": "e73ec7d2",
      "metadata": {
        "id": "e73ec7d2"
      },
      "source": [
        "\n",
        "# 1. Преобразуйте данные: \n",
        "\n",
        "### a. Преобразуйте/удалите пропуски по необходимости;\n",
        "### b. закодируйте категориальные переменные числовыми значениями по необходимости."
      ]
    },
    {
      "cell_type": "code",
      "execution_count": null,
      "id": "3f1a7889",
      "metadata": {
        "id": "3f1a7889"
      },
      "outputs": [],
      "source": [
        "path = 'athletes.csv'\n",
        "df = pd.read_csv(path)"
      ]
    },
    {
      "cell_type": "code",
      "execution_count": null,
      "id": "a7e623e5",
      "metadata": {
        "colab": {
          "base_uri": "https://localhost:8080/",
          "height": 206
        },
        "id": "a7e623e5",
        "outputId": "df7f7e66-7822-4b04-e269-a7d7ecc6d4d4"
      },
      "outputs": [
        {
          "output_type": "execute_result",
          "data": {
            "text/plain": [
              "          id            name nationality     sex       dob  height  weight  \\\n",
              "0  736041664  A Jesus Garcia         ESP    male  10/17/69    1.72    64.0   \n",
              "1  532037425      A Lam Shin         KOR  female   9/23/86    1.68    56.0   \n",
              "2  435962603     Aaron Brown         CAN    male   5/27/92    1.98    79.0   \n",
              "3  521041435      Aaron Cook         MDA    male    1/2/91    1.83    80.0   \n",
              "4   33922579      Aaron Gate         NZL    male  11/26/90    1.81    71.0   \n",
              "\n",
              "       sport  gold  silver  bronze  \n",
              "0  athletics     0       0       0  \n",
              "1    fencing     0       0       0  \n",
              "2  athletics     0       0       1  \n",
              "3  taekwondo     0       0       0  \n",
              "4    cycling     0       0       0  "
            ],
            "text/html": [
              "\n",
              "  <div id=\"df-22d8a392-e50d-4980-8931-fc1cb2013ec7\">\n",
              "    <div class=\"colab-df-container\">\n",
              "      <div>\n",
              "<style scoped>\n",
              "    .dataframe tbody tr th:only-of-type {\n",
              "        vertical-align: middle;\n",
              "    }\n",
              "\n",
              "    .dataframe tbody tr th {\n",
              "        vertical-align: top;\n",
              "    }\n",
              "\n",
              "    .dataframe thead th {\n",
              "        text-align: right;\n",
              "    }\n",
              "</style>\n",
              "<table border=\"1\" class=\"dataframe\">\n",
              "  <thead>\n",
              "    <tr style=\"text-align: right;\">\n",
              "      <th></th>\n",
              "      <th>id</th>\n",
              "      <th>name</th>\n",
              "      <th>nationality</th>\n",
              "      <th>sex</th>\n",
              "      <th>dob</th>\n",
              "      <th>height</th>\n",
              "      <th>weight</th>\n",
              "      <th>sport</th>\n",
              "      <th>gold</th>\n",
              "      <th>silver</th>\n",
              "      <th>bronze</th>\n",
              "    </tr>\n",
              "  </thead>\n",
              "  <tbody>\n",
              "    <tr>\n",
              "      <th>0</th>\n",
              "      <td>736041664</td>\n",
              "      <td>A Jesus Garcia</td>\n",
              "      <td>ESP</td>\n",
              "      <td>male</td>\n",
              "      <td>10/17/69</td>\n",
              "      <td>1.72</td>\n",
              "      <td>64.0</td>\n",
              "      <td>athletics</td>\n",
              "      <td>0</td>\n",
              "      <td>0</td>\n",
              "      <td>0</td>\n",
              "    </tr>\n",
              "    <tr>\n",
              "      <th>1</th>\n",
              "      <td>532037425</td>\n",
              "      <td>A Lam Shin</td>\n",
              "      <td>KOR</td>\n",
              "      <td>female</td>\n",
              "      <td>9/23/86</td>\n",
              "      <td>1.68</td>\n",
              "      <td>56.0</td>\n",
              "      <td>fencing</td>\n",
              "      <td>0</td>\n",
              "      <td>0</td>\n",
              "      <td>0</td>\n",
              "    </tr>\n",
              "    <tr>\n",
              "      <th>2</th>\n",
              "      <td>435962603</td>\n",
              "      <td>Aaron Brown</td>\n",
              "      <td>CAN</td>\n",
              "      <td>male</td>\n",
              "      <td>5/27/92</td>\n",
              "      <td>1.98</td>\n",
              "      <td>79.0</td>\n",
              "      <td>athletics</td>\n",
              "      <td>0</td>\n",
              "      <td>0</td>\n",
              "      <td>1</td>\n",
              "    </tr>\n",
              "    <tr>\n",
              "      <th>3</th>\n",
              "      <td>521041435</td>\n",
              "      <td>Aaron Cook</td>\n",
              "      <td>MDA</td>\n",
              "      <td>male</td>\n",
              "      <td>1/2/91</td>\n",
              "      <td>1.83</td>\n",
              "      <td>80.0</td>\n",
              "      <td>taekwondo</td>\n",
              "      <td>0</td>\n",
              "      <td>0</td>\n",
              "      <td>0</td>\n",
              "    </tr>\n",
              "    <tr>\n",
              "      <th>4</th>\n",
              "      <td>33922579</td>\n",
              "      <td>Aaron Gate</td>\n",
              "      <td>NZL</td>\n",
              "      <td>male</td>\n",
              "      <td>11/26/90</td>\n",
              "      <td>1.81</td>\n",
              "      <td>71.0</td>\n",
              "      <td>cycling</td>\n",
              "      <td>0</td>\n",
              "      <td>0</td>\n",
              "      <td>0</td>\n",
              "    </tr>\n",
              "  </tbody>\n",
              "</table>\n",
              "</div>\n",
              "      <button class=\"colab-df-convert\" onclick=\"convertToInteractive('df-22d8a392-e50d-4980-8931-fc1cb2013ec7')\"\n",
              "              title=\"Convert this dataframe to an interactive table.\"\n",
              "              style=\"display:none;\">\n",
              "        \n",
              "  <svg xmlns=\"http://www.w3.org/2000/svg\" height=\"24px\"viewBox=\"0 0 24 24\"\n",
              "       width=\"24px\">\n",
              "    <path d=\"M0 0h24v24H0V0z\" fill=\"none\"/>\n",
              "    <path d=\"M18.56 5.44l.94 2.06.94-2.06 2.06-.94-2.06-.94-.94-2.06-.94 2.06-2.06.94zm-11 1L8.5 8.5l.94-2.06 2.06-.94-2.06-.94L8.5 2.5l-.94 2.06-2.06.94zm10 10l.94 2.06.94-2.06 2.06-.94-2.06-.94-.94-2.06-.94 2.06-2.06.94z\"/><path d=\"M17.41 7.96l-1.37-1.37c-.4-.4-.92-.59-1.43-.59-.52 0-1.04.2-1.43.59L10.3 9.45l-7.72 7.72c-.78.78-.78 2.05 0 2.83L4 21.41c.39.39.9.59 1.41.59.51 0 1.02-.2 1.41-.59l7.78-7.78 2.81-2.81c.8-.78.8-2.07 0-2.86zM5.41 20L4 18.59l7.72-7.72 1.47 1.35L5.41 20z\"/>\n",
              "  </svg>\n",
              "      </button>\n",
              "      \n",
              "  <style>\n",
              "    .colab-df-container {\n",
              "      display:flex;\n",
              "      flex-wrap:wrap;\n",
              "      gap: 12px;\n",
              "    }\n",
              "\n",
              "    .colab-df-convert {\n",
              "      background-color: #E8F0FE;\n",
              "      border: none;\n",
              "      border-radius: 50%;\n",
              "      cursor: pointer;\n",
              "      display: none;\n",
              "      fill: #1967D2;\n",
              "      height: 32px;\n",
              "      padding: 0 0 0 0;\n",
              "      width: 32px;\n",
              "    }\n",
              "\n",
              "    .colab-df-convert:hover {\n",
              "      background-color: #E2EBFA;\n",
              "      box-shadow: 0px 1px 2px rgba(60, 64, 67, 0.3), 0px 1px 3px 1px rgba(60, 64, 67, 0.15);\n",
              "      fill: #174EA6;\n",
              "    }\n",
              "\n",
              "    [theme=dark] .colab-df-convert {\n",
              "      background-color: #3B4455;\n",
              "      fill: #D2E3FC;\n",
              "    }\n",
              "\n",
              "    [theme=dark] .colab-df-convert:hover {\n",
              "      background-color: #434B5C;\n",
              "      box-shadow: 0px 1px 3px 1px rgba(0, 0, 0, 0.15);\n",
              "      filter: drop-shadow(0px 1px 2px rgba(0, 0, 0, 0.3));\n",
              "      fill: #FFFFFF;\n",
              "    }\n",
              "  </style>\n",
              "\n",
              "      <script>\n",
              "        const buttonEl =\n",
              "          document.querySelector('#df-22d8a392-e50d-4980-8931-fc1cb2013ec7 button.colab-df-convert');\n",
              "        buttonEl.style.display =\n",
              "          google.colab.kernel.accessAllowed ? 'block' : 'none';\n",
              "\n",
              "        async function convertToInteractive(key) {\n",
              "          const element = document.querySelector('#df-22d8a392-e50d-4980-8931-fc1cb2013ec7');\n",
              "          const dataTable =\n",
              "            await google.colab.kernel.invokeFunction('convertToInteractive',\n",
              "                                                     [key], {});\n",
              "          if (!dataTable) return;\n",
              "\n",
              "          const docLinkHtml = 'Like what you see? Visit the ' +\n",
              "            '<a target=\"_blank\" href=https://colab.research.google.com/notebooks/data_table.ipynb>data table notebook</a>'\n",
              "            + ' to learn more about interactive tables.';\n",
              "          element.innerHTML = '';\n",
              "          dataTable['output_type'] = 'display_data';\n",
              "          await google.colab.output.renderOutput(dataTable, element);\n",
              "          const docLink = document.createElement('div');\n",
              "          docLink.innerHTML = docLinkHtml;\n",
              "          element.appendChild(docLink);\n",
              "        }\n",
              "      </script>\n",
              "    </div>\n",
              "  </div>\n",
              "  "
            ]
          },
          "metadata": {},
          "execution_count": 8
        }
      ],
      "source": [
        "df.head()"
      ]
    },
    {
      "cell_type": "code",
      "execution_count": null,
      "id": "6085c3fd",
      "metadata": {
        "colab": {
          "base_uri": "https://localhost:8080/"
        },
        "id": "6085c3fd",
        "outputId": "75e98206-dd60-4c35-ef88-7bdb5cf11bfc"
      },
      "outputs": [
        {
          "output_type": "stream",
          "name": "stdout",
          "text": [
            "<class 'pandas.core.frame.DataFrame'>\n",
            "RangeIndex: 11538 entries, 0 to 11537\n",
            "Data columns (total 11 columns):\n",
            " #   Column       Non-Null Count  Dtype  \n",
            "---  ------       --------------  -----  \n",
            " 0   id           11538 non-null  int64  \n",
            " 1   name         11538 non-null  object \n",
            " 2   nationality  11538 non-null  object \n",
            " 3   sex          11538 non-null  object \n",
            " 4   dob          11537 non-null  object \n",
            " 5   height       11208 non-null  float64\n",
            " 6   weight       10879 non-null  float64\n",
            " 7   sport        11538 non-null  object \n",
            " 8   gold         11538 non-null  int64  \n",
            " 9   silver       11538 non-null  int64  \n",
            " 10  bronze       11538 non-null  int64  \n",
            "dtypes: float64(2), int64(4), object(5)\n",
            "memory usage: 991.7+ KB\n"
          ]
        }
      ],
      "source": [
        "df.info()"
      ]
    },
    {
      "cell_type": "code",
      "execution_count": null,
      "id": "c75ac445",
      "metadata": {
        "id": "c75ac445"
      },
      "outputs": [],
      "source": [
        "df['dob'] = pd.to_datetime(df.dob, format='%m/%d/%y')"
      ]
    },
    {
      "cell_type": "code",
      "execution_count": null,
      "id": "81140712",
      "metadata": {
        "id": "81140712"
      },
      "outputs": [],
      "source": [
        "cat_cols = [col for col in df.columns if str(df[col].dtypes) in ['object']]\n",
        "df[cat_cols] = df[cat_cols].astype('category')"
      ]
    },
    {
      "cell_type": "code",
      "execution_count": null,
      "id": "bb5a2462",
      "metadata": {
        "colab": {
          "base_uri": "https://localhost:8080/"
        },
        "id": "bb5a2462",
        "outputId": "7b208464-2944-453f-d934-ab8744a0ccfd"
      },
      "outputs": [
        {
          "output_type": "stream",
          "name": "stdout",
          "text": [
            "<class 'pandas.core.frame.DataFrame'>\n",
            "RangeIndex: 11538 entries, 0 to 11537\n",
            "Data columns (total 11 columns):\n",
            " #   Column       Non-Null Count  Dtype         \n",
            "---  ------       --------------  -----         \n",
            " 0   id           11538 non-null  int64         \n",
            " 1   name         11538 non-null  category      \n",
            " 2   nationality  11538 non-null  category      \n",
            " 3   sex          11538 non-null  category      \n",
            " 4   dob          11537 non-null  datetime64[ns]\n",
            " 5   height       11208 non-null  float64       \n",
            " 6   weight       10879 non-null  float64       \n",
            " 7   sport        11538 non-null  category      \n",
            " 8   gold         11538 non-null  int64         \n",
            " 9   silver       11538 non-null  int64         \n",
            " 10  bronze       11538 non-null  int64         \n",
            "dtypes: category(4), datetime64[ns](1), float64(2), int64(4)\n",
            "memory usage: 1.0 MB\n"
          ]
        }
      ],
      "source": [
        "df.info()"
      ]
    },
    {
      "cell_type": "code",
      "execution_count": null,
      "id": "6baa167a",
      "metadata": {
        "colab": {
          "base_uri": "https://localhost:8080/",
          "height": 237
        },
        "id": "6baa167a",
        "outputId": "a9d2c1a9-672f-4fd9-d5b1-9571d54e0156"
      },
      "outputs": [
        {
          "output_type": "execute_result",
          "data": {
            "text/plain": [
              "          count          mean           std       min           25%  \\\n",
              "id      11538.0  4.999885e+08  2.908648e+08  18347.00  2.450997e+08   \n",
              "height  11208.0  1.766282e+00  1.127187e-01      1.21  1.690000e+00   \n",
              "weight  10879.0  7.206820e+01  1.617733e+01     31.00  6.000000e+01   \n",
              "gold    11538.0  5.772231e-02  2.559099e-01      0.00  0.000000e+00   \n",
              "silver  11538.0  5.676894e-02  2.391471e-01      0.00  0.000000e+00   \n",
              "bronze  11538.0  6.101577e-02  2.433202e-01      0.00  0.000000e+00   \n",
              "\n",
              "                 50%           75%           max  \n",
              "id      5.002011e+08  7.539874e+08  9.999878e+08  \n",
              "height  1.760000e+00  1.840000e+00  2.210000e+00  \n",
              "weight  7.000000e+01  8.100000e+01  1.700000e+02  \n",
              "gold    0.000000e+00  0.000000e+00  5.000000e+00  \n",
              "silver  0.000000e+00  0.000000e+00  2.000000e+00  \n",
              "bronze  0.000000e+00  0.000000e+00  2.000000e+00  "
            ],
            "text/html": [
              "\n",
              "  <div id=\"df-28389599-7536-40ca-a0f0-a49382bb04b5\">\n",
              "    <div class=\"colab-df-container\">\n",
              "      <div>\n",
              "<style scoped>\n",
              "    .dataframe tbody tr th:only-of-type {\n",
              "        vertical-align: middle;\n",
              "    }\n",
              "\n",
              "    .dataframe tbody tr th {\n",
              "        vertical-align: top;\n",
              "    }\n",
              "\n",
              "    .dataframe thead th {\n",
              "        text-align: right;\n",
              "    }\n",
              "</style>\n",
              "<table border=\"1\" class=\"dataframe\">\n",
              "  <thead>\n",
              "    <tr style=\"text-align: right;\">\n",
              "      <th></th>\n",
              "      <th>count</th>\n",
              "      <th>mean</th>\n",
              "      <th>std</th>\n",
              "      <th>min</th>\n",
              "      <th>25%</th>\n",
              "      <th>50%</th>\n",
              "      <th>75%</th>\n",
              "      <th>max</th>\n",
              "    </tr>\n",
              "  </thead>\n",
              "  <tbody>\n",
              "    <tr>\n",
              "      <th>id</th>\n",
              "      <td>11538.0</td>\n",
              "      <td>4.999885e+08</td>\n",
              "      <td>2.908648e+08</td>\n",
              "      <td>18347.00</td>\n",
              "      <td>2.450997e+08</td>\n",
              "      <td>5.002011e+08</td>\n",
              "      <td>7.539874e+08</td>\n",
              "      <td>9.999878e+08</td>\n",
              "    </tr>\n",
              "    <tr>\n",
              "      <th>height</th>\n",
              "      <td>11208.0</td>\n",
              "      <td>1.766282e+00</td>\n",
              "      <td>1.127187e-01</td>\n",
              "      <td>1.21</td>\n",
              "      <td>1.690000e+00</td>\n",
              "      <td>1.760000e+00</td>\n",
              "      <td>1.840000e+00</td>\n",
              "      <td>2.210000e+00</td>\n",
              "    </tr>\n",
              "    <tr>\n",
              "      <th>weight</th>\n",
              "      <td>10879.0</td>\n",
              "      <td>7.206820e+01</td>\n",
              "      <td>1.617733e+01</td>\n",
              "      <td>31.00</td>\n",
              "      <td>6.000000e+01</td>\n",
              "      <td>7.000000e+01</td>\n",
              "      <td>8.100000e+01</td>\n",
              "      <td>1.700000e+02</td>\n",
              "    </tr>\n",
              "    <tr>\n",
              "      <th>gold</th>\n",
              "      <td>11538.0</td>\n",
              "      <td>5.772231e-02</td>\n",
              "      <td>2.559099e-01</td>\n",
              "      <td>0.00</td>\n",
              "      <td>0.000000e+00</td>\n",
              "      <td>0.000000e+00</td>\n",
              "      <td>0.000000e+00</td>\n",
              "      <td>5.000000e+00</td>\n",
              "    </tr>\n",
              "    <tr>\n",
              "      <th>silver</th>\n",
              "      <td>11538.0</td>\n",
              "      <td>5.676894e-02</td>\n",
              "      <td>2.391471e-01</td>\n",
              "      <td>0.00</td>\n",
              "      <td>0.000000e+00</td>\n",
              "      <td>0.000000e+00</td>\n",
              "      <td>0.000000e+00</td>\n",
              "      <td>2.000000e+00</td>\n",
              "    </tr>\n",
              "    <tr>\n",
              "      <th>bronze</th>\n",
              "      <td>11538.0</td>\n",
              "      <td>6.101577e-02</td>\n",
              "      <td>2.433202e-01</td>\n",
              "      <td>0.00</td>\n",
              "      <td>0.000000e+00</td>\n",
              "      <td>0.000000e+00</td>\n",
              "      <td>0.000000e+00</td>\n",
              "      <td>2.000000e+00</td>\n",
              "    </tr>\n",
              "  </tbody>\n",
              "</table>\n",
              "</div>\n",
              "      <button class=\"colab-df-convert\" onclick=\"convertToInteractive('df-28389599-7536-40ca-a0f0-a49382bb04b5')\"\n",
              "              title=\"Convert this dataframe to an interactive table.\"\n",
              "              style=\"display:none;\">\n",
              "        \n",
              "  <svg xmlns=\"http://www.w3.org/2000/svg\" height=\"24px\"viewBox=\"0 0 24 24\"\n",
              "       width=\"24px\">\n",
              "    <path d=\"M0 0h24v24H0V0z\" fill=\"none\"/>\n",
              "    <path d=\"M18.56 5.44l.94 2.06.94-2.06 2.06-.94-2.06-.94-.94-2.06-.94 2.06-2.06.94zm-11 1L8.5 8.5l.94-2.06 2.06-.94-2.06-.94L8.5 2.5l-.94 2.06-2.06.94zm10 10l.94 2.06.94-2.06 2.06-.94-2.06-.94-.94-2.06-.94 2.06-2.06.94z\"/><path d=\"M17.41 7.96l-1.37-1.37c-.4-.4-.92-.59-1.43-.59-.52 0-1.04.2-1.43.59L10.3 9.45l-7.72 7.72c-.78.78-.78 2.05 0 2.83L4 21.41c.39.39.9.59 1.41.59.51 0 1.02-.2 1.41-.59l7.78-7.78 2.81-2.81c.8-.78.8-2.07 0-2.86zM5.41 20L4 18.59l7.72-7.72 1.47 1.35L5.41 20z\"/>\n",
              "  </svg>\n",
              "      </button>\n",
              "      \n",
              "  <style>\n",
              "    .colab-df-container {\n",
              "      display:flex;\n",
              "      flex-wrap:wrap;\n",
              "      gap: 12px;\n",
              "    }\n",
              "\n",
              "    .colab-df-convert {\n",
              "      background-color: #E8F0FE;\n",
              "      border: none;\n",
              "      border-radius: 50%;\n",
              "      cursor: pointer;\n",
              "      display: none;\n",
              "      fill: #1967D2;\n",
              "      height: 32px;\n",
              "      padding: 0 0 0 0;\n",
              "      width: 32px;\n",
              "    }\n",
              "\n",
              "    .colab-df-convert:hover {\n",
              "      background-color: #E2EBFA;\n",
              "      box-shadow: 0px 1px 2px rgba(60, 64, 67, 0.3), 0px 1px 3px 1px rgba(60, 64, 67, 0.15);\n",
              "      fill: #174EA6;\n",
              "    }\n",
              "\n",
              "    [theme=dark] .colab-df-convert {\n",
              "      background-color: #3B4455;\n",
              "      fill: #D2E3FC;\n",
              "    }\n",
              "\n",
              "    [theme=dark] .colab-df-convert:hover {\n",
              "      background-color: #434B5C;\n",
              "      box-shadow: 0px 1px 3px 1px rgba(0, 0, 0, 0.15);\n",
              "      filter: drop-shadow(0px 1px 2px rgba(0, 0, 0, 0.3));\n",
              "      fill: #FFFFFF;\n",
              "    }\n",
              "  </style>\n",
              "\n",
              "      <script>\n",
              "        const buttonEl =\n",
              "          document.querySelector('#df-28389599-7536-40ca-a0f0-a49382bb04b5 button.colab-df-convert');\n",
              "        buttonEl.style.display =\n",
              "          google.colab.kernel.accessAllowed ? 'block' : 'none';\n",
              "\n",
              "        async function convertToInteractive(key) {\n",
              "          const element = document.querySelector('#df-28389599-7536-40ca-a0f0-a49382bb04b5');\n",
              "          const dataTable =\n",
              "            await google.colab.kernel.invokeFunction('convertToInteractive',\n",
              "                                                     [key], {});\n",
              "          if (!dataTable) return;\n",
              "\n",
              "          const docLinkHtml = 'Like what you see? Visit the ' +\n",
              "            '<a target=\"_blank\" href=https://colab.research.google.com/notebooks/data_table.ipynb>data table notebook</a>'\n",
              "            + ' to learn more about interactive tables.';\n",
              "          element.innerHTML = '';\n",
              "          dataTable['output_type'] = 'display_data';\n",
              "          await google.colab.output.renderOutput(dataTable, element);\n",
              "          const docLink = document.createElement('div');\n",
              "          docLink.innerHTML = docLinkHtml;\n",
              "          element.appendChild(docLink);\n",
              "        }\n",
              "      </script>\n",
              "    </div>\n",
              "  </div>\n",
              "  "
            ]
          },
          "metadata": {},
          "execution_count": 13
        }
      ],
      "source": [
        "df.describe().T"
      ]
    },
    {
      "cell_type": "code",
      "execution_count": null,
      "id": "73c3319a",
      "metadata": {
        "colab": {
          "base_uri": "https://localhost:8080/"
        },
        "id": "73c3319a",
        "outputId": "1a06e28b-d24a-4098-b745-be35c8028c6e"
      },
      "outputs": [
        {
          "output_type": "stream",
          "name": "stdout",
          "text": [
            "В данных встречаются дубликаты 0 раз.\n"
          ]
        }
      ],
      "source": [
        "print(f'В данных встречаются дубликаты {df.duplicated().sum()} раз.')"
      ]
    },
    {
      "cell_type": "markdown",
      "id": "760d5212",
      "metadata": {
        "id": "760d5212"
      },
      "source": [
        "### 1.1. Работа с пропусками в данных"
      ]
    },
    {
      "cell_type": "code",
      "execution_count": null,
      "id": "476b6957",
      "metadata": {
        "colab": {
          "base_uri": "https://localhost:8080/"
        },
        "id": "476b6957",
        "outputId": "65d3308f-445c-4e8f-a74a-27b6d1734a30"
      },
      "outputs": [
        {
          "output_type": "execute_result",
          "data": {
            "text/plain": [
              "id               0\n",
              "name             0\n",
              "nationality      0\n",
              "sex              0\n",
              "dob              1\n",
              "height         330\n",
              "weight         659\n",
              "sport            0\n",
              "gold             0\n",
              "silver           0\n",
              "bronze           0\n",
              "dtype: int64"
            ]
          },
          "metadata": {},
          "execution_count": 15
        }
      ],
      "source": [
        "df.isna().sum()"
      ]
    },
    {
      "cell_type": "code",
      "execution_count": null,
      "id": "5507615e",
      "metadata": {
        "colab": {
          "base_uri": "https://localhost:8080/"
        },
        "id": "5507615e",
        "outputId": "4be2a722-b696-4e84-ec6c-67af3ecb3365"
      },
      "outputs": [
        {
          "output_type": "stream",
          "name": "stdout",
          "text": [
            "Для date of birth пустых строк 1\n",
            "Для height пустых строк 330\n",
            "Для weight пустых строк 659\n",
            "Всего строк в наборе 11538\n"
          ]
        }
      ],
      "source": [
        "print(f'Для date of birth пустых строк { len(df[ df.dob.isna()])}')\n",
        "print(f'Для height пустых строк { len(df[ df.height.isna()])}')\n",
        "print(f'Для weight пустых строк { len(df[ df.weight.isna()])}')\n",
        "print(f'Всего строк в наборе {df.shape[0]}')"
      ]
    },
    {
      "cell_type": "markdown",
      "id": "c51fe4fb",
      "metadata": {
        "id": "c51fe4fb"
      },
      "source": [
        "**Date of birth**"
      ]
    },
    {
      "cell_type": "code",
      "execution_count": null,
      "id": "ad77fbcb",
      "metadata": {
        "colab": {
          "base_uri": "https://localhost:8080/",
          "height": 81
        },
        "id": "ad77fbcb",
        "outputId": "24c470f8-ebbd-42aa-98f3-dffebf5e7a83"
      },
      "outputs": [
        {
          "output_type": "execute_result",
          "data": {
            "text/plain": [
              "             id           name nationality   sex dob  height  weight    sport  \\\n",
              "8546  663676373  Pavel Sozykin         RUS  male NaT     NaN     NaN  sailing   \n",
              "\n",
              "      gold  silver  bronze  \n",
              "8546     0       0       0  "
            ],
            "text/html": [
              "\n",
              "  <div id=\"df-09bde2ac-e5f6-4f08-a2fa-5444961b35f8\">\n",
              "    <div class=\"colab-df-container\">\n",
              "      <div>\n",
              "<style scoped>\n",
              "    .dataframe tbody tr th:only-of-type {\n",
              "        vertical-align: middle;\n",
              "    }\n",
              "\n",
              "    .dataframe tbody tr th {\n",
              "        vertical-align: top;\n",
              "    }\n",
              "\n",
              "    .dataframe thead th {\n",
              "        text-align: right;\n",
              "    }\n",
              "</style>\n",
              "<table border=\"1\" class=\"dataframe\">\n",
              "  <thead>\n",
              "    <tr style=\"text-align: right;\">\n",
              "      <th></th>\n",
              "      <th>id</th>\n",
              "      <th>name</th>\n",
              "      <th>nationality</th>\n",
              "      <th>sex</th>\n",
              "      <th>dob</th>\n",
              "      <th>height</th>\n",
              "      <th>weight</th>\n",
              "      <th>sport</th>\n",
              "      <th>gold</th>\n",
              "      <th>silver</th>\n",
              "      <th>bronze</th>\n",
              "    </tr>\n",
              "  </thead>\n",
              "  <tbody>\n",
              "    <tr>\n",
              "      <th>8546</th>\n",
              "      <td>663676373</td>\n",
              "      <td>Pavel Sozykin</td>\n",
              "      <td>RUS</td>\n",
              "      <td>male</td>\n",
              "      <td>NaT</td>\n",
              "      <td>NaN</td>\n",
              "      <td>NaN</td>\n",
              "      <td>sailing</td>\n",
              "      <td>0</td>\n",
              "      <td>0</td>\n",
              "      <td>0</td>\n",
              "    </tr>\n",
              "  </tbody>\n",
              "</table>\n",
              "</div>\n",
              "      <button class=\"colab-df-convert\" onclick=\"convertToInteractive('df-09bde2ac-e5f6-4f08-a2fa-5444961b35f8')\"\n",
              "              title=\"Convert this dataframe to an interactive table.\"\n",
              "              style=\"display:none;\">\n",
              "        \n",
              "  <svg xmlns=\"http://www.w3.org/2000/svg\" height=\"24px\"viewBox=\"0 0 24 24\"\n",
              "       width=\"24px\">\n",
              "    <path d=\"M0 0h24v24H0V0z\" fill=\"none\"/>\n",
              "    <path d=\"M18.56 5.44l.94 2.06.94-2.06 2.06-.94-2.06-.94-.94-2.06-.94 2.06-2.06.94zm-11 1L8.5 8.5l.94-2.06 2.06-.94-2.06-.94L8.5 2.5l-.94 2.06-2.06.94zm10 10l.94 2.06.94-2.06 2.06-.94-2.06-.94-.94-2.06-.94 2.06-2.06.94z\"/><path d=\"M17.41 7.96l-1.37-1.37c-.4-.4-.92-.59-1.43-.59-.52 0-1.04.2-1.43.59L10.3 9.45l-7.72 7.72c-.78.78-.78 2.05 0 2.83L4 21.41c.39.39.9.59 1.41.59.51 0 1.02-.2 1.41-.59l7.78-7.78 2.81-2.81c.8-.78.8-2.07 0-2.86zM5.41 20L4 18.59l7.72-7.72 1.47 1.35L5.41 20z\"/>\n",
              "  </svg>\n",
              "      </button>\n",
              "      \n",
              "  <style>\n",
              "    .colab-df-container {\n",
              "      display:flex;\n",
              "      flex-wrap:wrap;\n",
              "      gap: 12px;\n",
              "    }\n",
              "\n",
              "    .colab-df-convert {\n",
              "      background-color: #E8F0FE;\n",
              "      border: none;\n",
              "      border-radius: 50%;\n",
              "      cursor: pointer;\n",
              "      display: none;\n",
              "      fill: #1967D2;\n",
              "      height: 32px;\n",
              "      padding: 0 0 0 0;\n",
              "      width: 32px;\n",
              "    }\n",
              "\n",
              "    .colab-df-convert:hover {\n",
              "      background-color: #E2EBFA;\n",
              "      box-shadow: 0px 1px 2px rgba(60, 64, 67, 0.3), 0px 1px 3px 1px rgba(60, 64, 67, 0.15);\n",
              "      fill: #174EA6;\n",
              "    }\n",
              "\n",
              "    [theme=dark] .colab-df-convert {\n",
              "      background-color: #3B4455;\n",
              "      fill: #D2E3FC;\n",
              "    }\n",
              "\n",
              "    [theme=dark] .colab-df-convert:hover {\n",
              "      background-color: #434B5C;\n",
              "      box-shadow: 0px 1px 3px 1px rgba(0, 0, 0, 0.15);\n",
              "      filter: drop-shadow(0px 1px 2px rgba(0, 0, 0, 0.3));\n",
              "      fill: #FFFFFF;\n",
              "    }\n",
              "  </style>\n",
              "\n",
              "      <script>\n",
              "        const buttonEl =\n",
              "          document.querySelector('#df-09bde2ac-e5f6-4f08-a2fa-5444961b35f8 button.colab-df-convert');\n",
              "        buttonEl.style.display =\n",
              "          google.colab.kernel.accessAllowed ? 'block' : 'none';\n",
              "\n",
              "        async function convertToInteractive(key) {\n",
              "          const element = document.querySelector('#df-09bde2ac-e5f6-4f08-a2fa-5444961b35f8');\n",
              "          const dataTable =\n",
              "            await google.colab.kernel.invokeFunction('convertToInteractive',\n",
              "                                                     [key], {});\n",
              "          if (!dataTable) return;\n",
              "\n",
              "          const docLinkHtml = 'Like what you see? Visit the ' +\n",
              "            '<a target=\"_blank\" href=https://colab.research.google.com/notebooks/data_table.ipynb>data table notebook</a>'\n",
              "            + ' to learn more about interactive tables.';\n",
              "          element.innerHTML = '';\n",
              "          dataTable['output_type'] = 'display_data';\n",
              "          await google.colab.output.renderOutput(dataTable, element);\n",
              "          const docLink = document.createElement('div');\n",
              "          docLink.innerHTML = docLinkHtml;\n",
              "          element.appendChild(docLink);\n",
              "        }\n",
              "      </script>\n",
              "    </div>\n",
              "  </div>\n",
              "  "
            ]
          },
          "metadata": {},
          "execution_count": 17
        }
      ],
      "source": [
        "# Видим, что для одной записи у нас отсутствует дата рождения. Эту запись исключим из обучения модели.\n",
        "df[df['dob'].isna()==1]"
      ]
    },
    {
      "cell_type": "code",
      "execution_count": null,
      "id": "8b48c5de",
      "metadata": {
        "id": "8b48c5de"
      },
      "outputs": [],
      "source": [
        "df = df[df['dob'].isna() != 1]"
      ]
    },
    {
      "cell_type": "markdown",
      "id": "e492c785",
      "metadata": {
        "id": "e492c785"
      },
      "source": [
        "**Height & Weight**"
      ]
    },
    {
      "cell_type": "code",
      "execution_count": null,
      "id": "e42e932d",
      "metadata": {
        "id": "e42e932d"
      },
      "outputs": [],
      "source": [
        "# Заполним пропущенные значения медианой в разрезе пола и вида спорта.\n",
        "df.height = df.height.fillna(df.groupby(['sex', 'sport'])['height'].transform('median'))\n",
        "df.weight = df.weight.fillna(df.groupby(['sex', 'sport'])['weight'].transform('median'))"
      ]
    },
    {
      "cell_type": "code",
      "execution_count": null,
      "id": "ceb8ab1d",
      "metadata": {
        "colab": {
          "base_uri": "https://localhost:8080/"
        },
        "id": "ceb8ab1d",
        "outputId": "26d682c3-87af-454e-a77b-92e9c990de0c"
      },
      "outputs": [
        {
          "output_type": "execute_result",
          "data": {
            "text/plain": [
              "height      0\n",
              "weight    286\n",
              "dtype: int64"
            ]
          },
          "metadata": {},
          "execution_count": 20
        }
      ],
      "source": [
        "df[['height', 'weight']].isna().sum()"
      ]
    },
    {
      "cell_type": "code",
      "execution_count": null,
      "id": "d970c26d",
      "metadata": {
        "colab": {
          "base_uri": "https://localhost:8080/"
        },
        "id": "d970c26d",
        "outputId": "f249e8ef-d217-45db-b218-c278f85260a7"
      },
      "outputs": [
        {
          "output_type": "stream",
          "name": "stdout",
          "text": [
            "Видим, что пропуски остались толкьо в категории спорта boxing\n"
          ]
        }
      ],
      "source": [
        "print('Видим, что пропуски остались толкьо в категории спорта {}'.format(df[df.weight.isna()]['sport'].unique()[0]))"
      ]
    },
    {
      "cell_type": "code",
      "execution_count": null,
      "id": "5c46ffde",
      "metadata": {
        "id": "5c46ffde"
      },
      "outputs": [],
      "source": [
        "# Заменим оставшиеся пропуски медианным значением в разрезе пола и роста спортсменов"
      ]
    },
    {
      "cell_type": "code",
      "execution_count": null,
      "id": "34f09343",
      "metadata": {
        "id": "34f09343"
      },
      "outputs": [],
      "source": [
        "df.weight = df.weight.fillna(df.groupby(['sex', 'height'])['weight'].transform('median'))"
      ]
    },
    {
      "cell_type": "markdown",
      "id": "b1d3f9c7",
      "metadata": {
        "id": "b1d3f9c7"
      },
      "source": [
        "**Посмотрим на данные после обработки пропусков**"
      ]
    },
    {
      "cell_type": "code",
      "execution_count": null,
      "id": "af52ceea",
      "metadata": {
        "colab": {
          "base_uri": "https://localhost:8080/"
        },
        "id": "af52ceea",
        "outputId": "586c626c-b5fa-401e-8eb9-b66d5e245415"
      },
      "outputs": [
        {
          "output_type": "execute_result",
          "data": {
            "text/plain": [
              "id             0\n",
              "name           0\n",
              "nationality    0\n",
              "sex            0\n",
              "dob            0\n",
              "height         0\n",
              "weight         0\n",
              "sport          0\n",
              "gold           0\n",
              "silver         0\n",
              "bronze         0\n",
              "dtype: int64"
            ]
          },
          "metadata": {},
          "execution_count": 24
        }
      ],
      "source": [
        "df.isna().sum()"
      ]
    },
    {
      "cell_type": "markdown",
      "id": "9d6c7545",
      "metadata": {
        "id": "9d6c7545"
      },
      "source": [
        "**Работа с DateTime** "
      ]
    },
    {
      "cell_type": "code",
      "execution_count": null,
      "id": "322c1061",
      "metadata": {
        "id": "322c1061"
      },
      "outputs": [],
      "source": [
        "def calculate_age(birthdate):\n",
        "    \n",
        "    \"\"\" Функция позволяет по дате рождения рассчитать возраст спортсмена\"\"\"\n",
        "    \n",
        "    age = datetime.now().year - birthdate.year  - (datetime.now().month < birthdate.month)\n",
        "    return age"
      ]
    },
    {
      "cell_type": "code",
      "execution_count": null,
      "id": "5424418f",
      "metadata": {
        "id": "5424418f"
      },
      "outputs": [],
      "source": [
        "df['age'] = df['dob'].apply(calculate_age)\n"
      ]
    },
    {
      "cell_type": "code",
      "execution_count": null,
      "id": "d9bce14d",
      "metadata": {
        "colab": {
          "base_uri": "https://localhost:8080/",
          "height": 206
        },
        "id": "d9bce14d",
        "outputId": "75d7ffc0-2cf0-42d5-e6a9-1f81ed423728"
      },
      "outputs": [
        {
          "output_type": "execute_result",
          "data": {
            "text/plain": [
              "          id            name nationality     sex        dob  height  weight  \\\n",
              "0  736041664  A Jesus Garcia         ESP    male 1969-10-17    1.72    64.0   \n",
              "1  532037425      A Lam Shin         KOR  female 1986-09-23    1.68    56.0   \n",
              "2  435962603     Aaron Brown         CAN    male 1992-05-27    1.98    79.0   \n",
              "3  521041435      Aaron Cook         MDA    male 1991-01-02    1.83    80.0   \n",
              "4   33922579      Aaron Gate         NZL    male 1990-11-26    1.81    71.0   \n",
              "\n",
              "       sport  gold  silver  bronze  age  \n",
              "0  athletics     0       0       0   53  \n",
              "1    fencing     0       0       0   36  \n",
              "2  athletics     0       0       1   30  \n",
              "3  taekwondo     0       0       0   31  \n",
              "4    cycling     0       0       0   32  "
            ],
            "text/html": [
              "\n",
              "  <div id=\"df-f469465d-b856-4876-9c76-015ef2996b95\">\n",
              "    <div class=\"colab-df-container\">\n",
              "      <div>\n",
              "<style scoped>\n",
              "    .dataframe tbody tr th:only-of-type {\n",
              "        vertical-align: middle;\n",
              "    }\n",
              "\n",
              "    .dataframe tbody tr th {\n",
              "        vertical-align: top;\n",
              "    }\n",
              "\n",
              "    .dataframe thead th {\n",
              "        text-align: right;\n",
              "    }\n",
              "</style>\n",
              "<table border=\"1\" class=\"dataframe\">\n",
              "  <thead>\n",
              "    <tr style=\"text-align: right;\">\n",
              "      <th></th>\n",
              "      <th>id</th>\n",
              "      <th>name</th>\n",
              "      <th>nationality</th>\n",
              "      <th>sex</th>\n",
              "      <th>dob</th>\n",
              "      <th>height</th>\n",
              "      <th>weight</th>\n",
              "      <th>sport</th>\n",
              "      <th>gold</th>\n",
              "      <th>silver</th>\n",
              "      <th>bronze</th>\n",
              "      <th>age</th>\n",
              "    </tr>\n",
              "  </thead>\n",
              "  <tbody>\n",
              "    <tr>\n",
              "      <th>0</th>\n",
              "      <td>736041664</td>\n",
              "      <td>A Jesus Garcia</td>\n",
              "      <td>ESP</td>\n",
              "      <td>male</td>\n",
              "      <td>1969-10-17</td>\n",
              "      <td>1.72</td>\n",
              "      <td>64.0</td>\n",
              "      <td>athletics</td>\n",
              "      <td>0</td>\n",
              "      <td>0</td>\n",
              "      <td>0</td>\n",
              "      <td>53</td>\n",
              "    </tr>\n",
              "    <tr>\n",
              "      <th>1</th>\n",
              "      <td>532037425</td>\n",
              "      <td>A Lam Shin</td>\n",
              "      <td>KOR</td>\n",
              "      <td>female</td>\n",
              "      <td>1986-09-23</td>\n",
              "      <td>1.68</td>\n",
              "      <td>56.0</td>\n",
              "      <td>fencing</td>\n",
              "      <td>0</td>\n",
              "      <td>0</td>\n",
              "      <td>0</td>\n",
              "      <td>36</td>\n",
              "    </tr>\n",
              "    <tr>\n",
              "      <th>2</th>\n",
              "      <td>435962603</td>\n",
              "      <td>Aaron Brown</td>\n",
              "      <td>CAN</td>\n",
              "      <td>male</td>\n",
              "      <td>1992-05-27</td>\n",
              "      <td>1.98</td>\n",
              "      <td>79.0</td>\n",
              "      <td>athletics</td>\n",
              "      <td>0</td>\n",
              "      <td>0</td>\n",
              "      <td>1</td>\n",
              "      <td>30</td>\n",
              "    </tr>\n",
              "    <tr>\n",
              "      <th>3</th>\n",
              "      <td>521041435</td>\n",
              "      <td>Aaron Cook</td>\n",
              "      <td>MDA</td>\n",
              "      <td>male</td>\n",
              "      <td>1991-01-02</td>\n",
              "      <td>1.83</td>\n",
              "      <td>80.0</td>\n",
              "      <td>taekwondo</td>\n",
              "      <td>0</td>\n",
              "      <td>0</td>\n",
              "      <td>0</td>\n",
              "      <td>31</td>\n",
              "    </tr>\n",
              "    <tr>\n",
              "      <th>4</th>\n",
              "      <td>33922579</td>\n",
              "      <td>Aaron Gate</td>\n",
              "      <td>NZL</td>\n",
              "      <td>male</td>\n",
              "      <td>1990-11-26</td>\n",
              "      <td>1.81</td>\n",
              "      <td>71.0</td>\n",
              "      <td>cycling</td>\n",
              "      <td>0</td>\n",
              "      <td>0</td>\n",
              "      <td>0</td>\n",
              "      <td>32</td>\n",
              "    </tr>\n",
              "  </tbody>\n",
              "</table>\n",
              "</div>\n",
              "      <button class=\"colab-df-convert\" onclick=\"convertToInteractive('df-f469465d-b856-4876-9c76-015ef2996b95')\"\n",
              "              title=\"Convert this dataframe to an interactive table.\"\n",
              "              style=\"display:none;\">\n",
              "        \n",
              "  <svg xmlns=\"http://www.w3.org/2000/svg\" height=\"24px\"viewBox=\"0 0 24 24\"\n",
              "       width=\"24px\">\n",
              "    <path d=\"M0 0h24v24H0V0z\" fill=\"none\"/>\n",
              "    <path d=\"M18.56 5.44l.94 2.06.94-2.06 2.06-.94-2.06-.94-.94-2.06-.94 2.06-2.06.94zm-11 1L8.5 8.5l.94-2.06 2.06-.94-2.06-.94L8.5 2.5l-.94 2.06-2.06.94zm10 10l.94 2.06.94-2.06 2.06-.94-2.06-.94-.94-2.06-.94 2.06-2.06.94z\"/><path d=\"M17.41 7.96l-1.37-1.37c-.4-.4-.92-.59-1.43-.59-.52 0-1.04.2-1.43.59L10.3 9.45l-7.72 7.72c-.78.78-.78 2.05 0 2.83L4 21.41c.39.39.9.59 1.41.59.51 0 1.02-.2 1.41-.59l7.78-7.78 2.81-2.81c.8-.78.8-2.07 0-2.86zM5.41 20L4 18.59l7.72-7.72 1.47 1.35L5.41 20z\"/>\n",
              "  </svg>\n",
              "      </button>\n",
              "      \n",
              "  <style>\n",
              "    .colab-df-container {\n",
              "      display:flex;\n",
              "      flex-wrap:wrap;\n",
              "      gap: 12px;\n",
              "    }\n",
              "\n",
              "    .colab-df-convert {\n",
              "      background-color: #E8F0FE;\n",
              "      border: none;\n",
              "      border-radius: 50%;\n",
              "      cursor: pointer;\n",
              "      display: none;\n",
              "      fill: #1967D2;\n",
              "      height: 32px;\n",
              "      padding: 0 0 0 0;\n",
              "      width: 32px;\n",
              "    }\n",
              "\n",
              "    .colab-df-convert:hover {\n",
              "      background-color: #E2EBFA;\n",
              "      box-shadow: 0px 1px 2px rgba(60, 64, 67, 0.3), 0px 1px 3px 1px rgba(60, 64, 67, 0.15);\n",
              "      fill: #174EA6;\n",
              "    }\n",
              "\n",
              "    [theme=dark] .colab-df-convert {\n",
              "      background-color: #3B4455;\n",
              "      fill: #D2E3FC;\n",
              "    }\n",
              "\n",
              "    [theme=dark] .colab-df-convert:hover {\n",
              "      background-color: #434B5C;\n",
              "      box-shadow: 0px 1px 3px 1px rgba(0, 0, 0, 0.15);\n",
              "      filter: drop-shadow(0px 1px 2px rgba(0, 0, 0, 0.3));\n",
              "      fill: #FFFFFF;\n",
              "    }\n",
              "  </style>\n",
              "\n",
              "      <script>\n",
              "        const buttonEl =\n",
              "          document.querySelector('#df-f469465d-b856-4876-9c76-015ef2996b95 button.colab-df-convert');\n",
              "        buttonEl.style.display =\n",
              "          google.colab.kernel.accessAllowed ? 'block' : 'none';\n",
              "\n",
              "        async function convertToInteractive(key) {\n",
              "          const element = document.querySelector('#df-f469465d-b856-4876-9c76-015ef2996b95');\n",
              "          const dataTable =\n",
              "            await google.colab.kernel.invokeFunction('convertToInteractive',\n",
              "                                                     [key], {});\n",
              "          if (!dataTable) return;\n",
              "\n",
              "          const docLinkHtml = 'Like what you see? Visit the ' +\n",
              "            '<a target=\"_blank\" href=https://colab.research.google.com/notebooks/data_table.ipynb>data table notebook</a>'\n",
              "            + ' to learn more about interactive tables.';\n",
              "          element.innerHTML = '';\n",
              "          dataTable['output_type'] = 'display_data';\n",
              "          await google.colab.output.renderOutput(dataTable, element);\n",
              "          const docLink = document.createElement('div');\n",
              "          docLink.innerHTML = docLinkHtml;\n",
              "          element.appendChild(docLink);\n",
              "        }\n",
              "      </script>\n",
              "    </div>\n",
              "  </div>\n",
              "  "
            ]
          },
          "metadata": {},
          "execution_count": 27
        }
      ],
      "source": [
        "df.head()"
      ]
    },
    {
      "cell_type": "code",
      "execution_count": null,
      "id": "25ededb2",
      "metadata": {
        "colab": {
          "base_uri": "https://localhost:8080/",
          "height": 206
        },
        "id": "25ededb2",
        "outputId": "614b0274-2aac-43cd-c26d-f9d79806c126"
      },
      "outputs": [
        {
          "output_type": "execute_result",
          "data": {
            "text/plain": [
              "             id                  name nationality     sex        dob  height  \\\n",
              "32    189886442    Abdelkebir Ouaddar         MAR    male 2062-07-15    1.74   \n",
              "55    969824503    Abdullah Alrashidi         IOA    male 2063-08-21    1.83   \n",
              "1376  128263534  Beatriz Ferrer-Salat         ESP  female 2066-03-11    1.76   \n",
              "1446  951599589     Bernadette Pujals         MEX  female 2068-06-08    1.58   \n",
              "1746   48374531           Carl Hester         GBR    male 2067-06-29    1.82   \n",
              "\n",
              "      weight       sport  gold  silver  bronze  age  \n",
              "32      67.0  equestrian     0       0       0  -40  \n",
              "55      84.0    shooting     0       0       1  -41  \n",
              "1376    58.0  equestrian     0       0       0  -44  \n",
              "1446    55.0  equestrian     0       0       0  -46  \n",
              "1746    86.0  equestrian     0       1       0  -45  "
            ],
            "text/html": [
              "\n",
              "  <div id=\"df-b61a097c-9b34-4426-b0a4-185985a2579f\">\n",
              "    <div class=\"colab-df-container\">\n",
              "      <div>\n",
              "<style scoped>\n",
              "    .dataframe tbody tr th:only-of-type {\n",
              "        vertical-align: middle;\n",
              "    }\n",
              "\n",
              "    .dataframe tbody tr th {\n",
              "        vertical-align: top;\n",
              "    }\n",
              "\n",
              "    .dataframe thead th {\n",
              "        text-align: right;\n",
              "    }\n",
              "</style>\n",
              "<table border=\"1\" class=\"dataframe\">\n",
              "  <thead>\n",
              "    <tr style=\"text-align: right;\">\n",
              "      <th></th>\n",
              "      <th>id</th>\n",
              "      <th>name</th>\n",
              "      <th>nationality</th>\n",
              "      <th>sex</th>\n",
              "      <th>dob</th>\n",
              "      <th>height</th>\n",
              "      <th>weight</th>\n",
              "      <th>sport</th>\n",
              "      <th>gold</th>\n",
              "      <th>silver</th>\n",
              "      <th>bronze</th>\n",
              "      <th>age</th>\n",
              "    </tr>\n",
              "  </thead>\n",
              "  <tbody>\n",
              "    <tr>\n",
              "      <th>32</th>\n",
              "      <td>189886442</td>\n",
              "      <td>Abdelkebir Ouaddar</td>\n",
              "      <td>MAR</td>\n",
              "      <td>male</td>\n",
              "      <td>2062-07-15</td>\n",
              "      <td>1.74</td>\n",
              "      <td>67.0</td>\n",
              "      <td>equestrian</td>\n",
              "      <td>0</td>\n",
              "      <td>0</td>\n",
              "      <td>0</td>\n",
              "      <td>-40</td>\n",
              "    </tr>\n",
              "    <tr>\n",
              "      <th>55</th>\n",
              "      <td>969824503</td>\n",
              "      <td>Abdullah Alrashidi</td>\n",
              "      <td>IOA</td>\n",
              "      <td>male</td>\n",
              "      <td>2063-08-21</td>\n",
              "      <td>1.83</td>\n",
              "      <td>84.0</td>\n",
              "      <td>shooting</td>\n",
              "      <td>0</td>\n",
              "      <td>0</td>\n",
              "      <td>1</td>\n",
              "      <td>-41</td>\n",
              "    </tr>\n",
              "    <tr>\n",
              "      <th>1376</th>\n",
              "      <td>128263534</td>\n",
              "      <td>Beatriz Ferrer-Salat</td>\n",
              "      <td>ESP</td>\n",
              "      <td>female</td>\n",
              "      <td>2066-03-11</td>\n",
              "      <td>1.76</td>\n",
              "      <td>58.0</td>\n",
              "      <td>equestrian</td>\n",
              "      <td>0</td>\n",
              "      <td>0</td>\n",
              "      <td>0</td>\n",
              "      <td>-44</td>\n",
              "    </tr>\n",
              "    <tr>\n",
              "      <th>1446</th>\n",
              "      <td>951599589</td>\n",
              "      <td>Bernadette Pujals</td>\n",
              "      <td>MEX</td>\n",
              "      <td>female</td>\n",
              "      <td>2068-06-08</td>\n",
              "      <td>1.58</td>\n",
              "      <td>55.0</td>\n",
              "      <td>equestrian</td>\n",
              "      <td>0</td>\n",
              "      <td>0</td>\n",
              "      <td>0</td>\n",
              "      <td>-46</td>\n",
              "    </tr>\n",
              "    <tr>\n",
              "      <th>1746</th>\n",
              "      <td>48374531</td>\n",
              "      <td>Carl Hester</td>\n",
              "      <td>GBR</td>\n",
              "      <td>male</td>\n",
              "      <td>2067-06-29</td>\n",
              "      <td>1.82</td>\n",
              "      <td>86.0</td>\n",
              "      <td>equestrian</td>\n",
              "      <td>0</td>\n",
              "      <td>1</td>\n",
              "      <td>0</td>\n",
              "      <td>-45</td>\n",
              "    </tr>\n",
              "  </tbody>\n",
              "</table>\n",
              "</div>\n",
              "      <button class=\"colab-df-convert\" onclick=\"convertToInteractive('df-b61a097c-9b34-4426-b0a4-185985a2579f')\"\n",
              "              title=\"Convert this dataframe to an interactive table.\"\n",
              "              style=\"display:none;\">\n",
              "        \n",
              "  <svg xmlns=\"http://www.w3.org/2000/svg\" height=\"24px\"viewBox=\"0 0 24 24\"\n",
              "       width=\"24px\">\n",
              "    <path d=\"M0 0h24v24H0V0z\" fill=\"none\"/>\n",
              "    <path d=\"M18.56 5.44l.94 2.06.94-2.06 2.06-.94-2.06-.94-.94-2.06-.94 2.06-2.06.94zm-11 1L8.5 8.5l.94-2.06 2.06-.94-2.06-.94L8.5 2.5l-.94 2.06-2.06.94zm10 10l.94 2.06.94-2.06 2.06-.94-2.06-.94-.94-2.06-.94 2.06-2.06.94z\"/><path d=\"M17.41 7.96l-1.37-1.37c-.4-.4-.92-.59-1.43-.59-.52 0-1.04.2-1.43.59L10.3 9.45l-7.72 7.72c-.78.78-.78 2.05 0 2.83L4 21.41c.39.39.9.59 1.41.59.51 0 1.02-.2 1.41-.59l7.78-7.78 2.81-2.81c.8-.78.8-2.07 0-2.86zM5.41 20L4 18.59l7.72-7.72 1.47 1.35L5.41 20z\"/>\n",
              "  </svg>\n",
              "      </button>\n",
              "      \n",
              "  <style>\n",
              "    .colab-df-container {\n",
              "      display:flex;\n",
              "      flex-wrap:wrap;\n",
              "      gap: 12px;\n",
              "    }\n",
              "\n",
              "    .colab-df-convert {\n",
              "      background-color: #E8F0FE;\n",
              "      border: none;\n",
              "      border-radius: 50%;\n",
              "      cursor: pointer;\n",
              "      display: none;\n",
              "      fill: #1967D2;\n",
              "      height: 32px;\n",
              "      padding: 0 0 0 0;\n",
              "      width: 32px;\n",
              "    }\n",
              "\n",
              "    .colab-df-convert:hover {\n",
              "      background-color: #E2EBFA;\n",
              "      box-shadow: 0px 1px 2px rgba(60, 64, 67, 0.3), 0px 1px 3px 1px rgba(60, 64, 67, 0.15);\n",
              "      fill: #174EA6;\n",
              "    }\n",
              "\n",
              "    [theme=dark] .colab-df-convert {\n",
              "      background-color: #3B4455;\n",
              "      fill: #D2E3FC;\n",
              "    }\n",
              "\n",
              "    [theme=dark] .colab-df-convert:hover {\n",
              "      background-color: #434B5C;\n",
              "      box-shadow: 0px 1px 3px 1px rgba(0, 0, 0, 0.15);\n",
              "      filter: drop-shadow(0px 1px 2px rgba(0, 0, 0, 0.3));\n",
              "      fill: #FFFFFF;\n",
              "    }\n",
              "  </style>\n",
              "\n",
              "      <script>\n",
              "        const buttonEl =\n",
              "          document.querySelector('#df-b61a097c-9b34-4426-b0a4-185985a2579f button.colab-df-convert');\n",
              "        buttonEl.style.display =\n",
              "          google.colab.kernel.accessAllowed ? 'block' : 'none';\n",
              "\n",
              "        async function convertToInteractive(key) {\n",
              "          const element = document.querySelector('#df-b61a097c-9b34-4426-b0a4-185985a2579f');\n",
              "          const dataTable =\n",
              "            await google.colab.kernel.invokeFunction('convertToInteractive',\n",
              "                                                     [key], {});\n",
              "          if (!dataTable) return;\n",
              "\n",
              "          const docLinkHtml = 'Like what you see? Visit the ' +\n",
              "            '<a target=\"_blank\" href=https://colab.research.google.com/notebooks/data_table.ipynb>data table notebook</a>'\n",
              "            + ' to learn more about interactive tables.';\n",
              "          element.innerHTML = '';\n",
              "          dataTable['output_type'] = 'display_data';\n",
              "          await google.colab.output.renderOutput(dataTable, element);\n",
              "          const docLink = document.createElement('div');\n",
              "          docLink.innerHTML = docLinkHtml;\n",
              "          element.appendChild(docLink);\n",
              "        }\n",
              "      </script>\n",
              "    </div>\n",
              "  </div>\n",
              "  "
            ]
          },
          "metadata": {},
          "execution_count": 28
        }
      ],
      "source": [
        "df[df['age'] < 0 ].head()"
      ]
    },
    {
      "cell_type": "code",
      "execution_count": null,
      "id": "5d161894",
      "metadata": {
        "colab": {
          "base_uri": "https://localhost:8080/",
          "height": 497
        },
        "id": "5d161894",
        "outputId": "ad2a6ab2-2d7d-4c76-c715-e6870da8e0cb"
      },
      "outputs": [
        {
          "output_type": "display_data",
          "data": {
            "text/plain": [
              "<Figure size 1440x576 with 1 Axes>"
            ],
            "image/png": "[encoded data removed]"
          },
          "metadata": {
            "needs_background": "light"
          }
        }
      ],
      "source": [
        "plt.figure(figsize=(20, 8))\n",
        "sns.countplot(data=df, x='age', color='lightgrey')\n",
        "plt.show()"
      ]
    },
    {
      "cell_type": "markdown",
      "id": "10bff445",
      "metadata": {
        "id": "10bff445"
      },
      "source": [
        "**Вывод**: видим, что в данных есть ошибки, некоторые даты рождения спортсменов указаны в будущем. Исключим такие записи из датасета."
      ]
    },
    {
      "cell_type": "code",
      "execution_count": null,
      "id": "d4ffcbd3",
      "metadata": {
        "id": "d4ffcbd3"
      },
      "outputs": [],
      "source": [
        "# Оставляем участников от 18 лет\n",
        "df = df[df.age >= 18]"
      ]
    },
    {
      "cell_type": "markdown",
      "id": "df729f05",
      "metadata": {
        "id": "df729f05"
      },
      "source": [
        "**Подготовка данных для построения модели** "
      ]
    },
    {
      "cell_type": "code",
      "execution_count": null,
      "id": "47fc2b84",
      "metadata": {
        "colab": {
          "base_uri": "https://localhost:8080/"
        },
        "id": "47fc2b84",
        "outputId": "3a440f0c-aa29-4f3b-ae0c-5b0295a19fce"
      },
      "outputs": [
        {
          "output_type": "execute_result",
          "data": {
            "text/plain": [
              "['id',\n",
              " 'name',\n",
              " 'nationality',\n",
              " 'sex',\n",
              " 'dob',\n",
              " 'height',\n",
              " 'weight',\n",
              " 'sport',\n",
              " 'gold',\n",
              " 'silver',\n",
              " 'bronze',\n",
              " 'age']"
            ]
          },
          "metadata": {},
          "execution_count": 31
        }
      ],
      "source": [
        "# Список всех полей датасета\n",
        "[col for col in df.columns]"
      ]
    },
    {
      "cell_type": "code",
      "execution_count": null,
      "id": "619d019b",
      "metadata": {
        "id": "619d019b"
      },
      "outputs": [],
      "source": [
        "# Выделим признаки и ответы\n",
        "X, y = df[['nationality', 'height', 'weight', 'sport', 'gold', 'silver', 'bronze']], df['sex']"
      ]
    },
    {
      "cell_type": "markdown",
      "id": "93dd487a",
      "metadata": {
        "id": "93dd487a"
      },
      "source": [
        "**Замечание**: id и имя участников исключил из модели, т.к. это технические признаки и не влияют на предективную способность модели."
      ]
    },
    {
      "cell_type": "markdown",
      "id": "05114dbe",
      "metadata": {
        "id": "05114dbe"
      },
      "source": [
        "### 1.2. закодируйте категориальные переменные числовыми значениями по необходимости."
      ]
    },
    {
      "cell_type": "code",
      "execution_count": null,
      "id": "5ef83bf5",
      "metadata": {
        "id": "5ef83bf5"
      },
      "outputs": [],
      "source": [
        "# Кодировку признаков можно произвести до разбиения данных на трейн и тест, а скейлинг необходимо проводить после.\n",
        "le = LabelEncoder()\n",
        "y = le.fit_transform(y)"
      ]
    },
    {
      "cell_type": "code",
      "execution_count": null,
      "id": "0d7f1b36",
      "metadata": {
        "id": "0d7f1b36"
      },
      "outputs": [],
      "source": [
        "X = pd.get_dummies(X)"
      ]
    },
    {
      "cell_type": "code",
      "execution_count": null,
      "id": "e1ea40aa",
      "metadata": {
        "colab": {
          "base_uri": "https://localhost:8080/",
          "height": 317
        },
        "id": "e1ea40aa",
        "outputId": "d9a535d1-18dd-47e8-fe3d-f70575f550dd"
      },
      "outputs": [
        {
          "output_type": "execute_result",
          "data": {
            "text/plain": [
              "   height  weight  gold  silver  bronze  nationality_AFG  nationality_ALB  \\\n",
              "0    1.72    64.0     0       0       0                0                0   \n",
              "1    1.68    56.0     0       0       0                0                0   \n",
              "2    1.98    79.0     0       0       1                0                0   \n",
              "3    1.83    80.0     0       0       0                0                0   \n",
              "4    1.81    71.0     0       0       0                0                0   \n",
              "\n",
              "   nationality_ALG  nationality_AND  nationality_ANG  ...  sport_rugby sevens  \\\n",
              "0                0                0                0  ...                   0   \n",
              "1                0                0                0  ...                   0   \n",
              "2                0                0                0  ...                   0   \n",
              "3                0                0                0  ...                   0   \n",
              "4                0                0                0  ...                   0   \n",
              "\n",
              "   sport_sailing  sport_shooting  sport_table tennis  sport_taekwondo  \\\n",
              "0              0               0                   0                0   \n",
              "1              0               0                   0                0   \n",
              "2              0               0                   0                0   \n",
              "3              0               0                   0                1   \n",
              "4              0               0                   0                0   \n",
              "\n",
              "   sport_tennis  sport_triathlon  sport_volleyball  sport_weightlifting  \\\n",
              "0             0                0                 0                    0   \n",
              "1             0                0                 0                    0   \n",
              "2             0                0                 0                    0   \n",
              "3             0                0                 0                    0   \n",
              "4             0                0                 0                    0   \n",
              "\n",
              "   sport_wrestling  \n",
              "0                0  \n",
              "1                0  \n",
              "2                0  \n",
              "3                0  \n",
              "4                0  \n",
              "\n",
              "[5 rows x 240 columns]"
            ],
            "text/html": [
              "\n",
              "  <div id=\"df-11678028-fe59-46f6-8d2e-9b2274a5da9f\">\n",
              "    <div class=\"colab-df-container\">\n",
              "      <div>\n",
              "<style scoped>\n",
              "    .dataframe tbody tr th:only-of-type {\n",
              "        vertical-align: middle;\n",
              "    }\n",
              "\n",
              "    .dataframe tbody tr th {\n",
              "        vertical-align: top;\n",
              "    }\n",
              "\n",
              "    .dataframe thead th {\n",
              "        text-align: right;\n",
              "    }\n",
              "</style>\n",
              "<table border=\"1\" class=\"dataframe\">\n",
              "  <thead>\n",
              "    <tr style=\"text-align: right;\">\n",
              "      <th></th>\n",
              "      <th>height</th>\n",
              "      <th>weight</th>\n",
              "      <th>gold</th>\n",
              "      <th>silver</th>\n",
              "      <th>bronze</th>\n",
              "      <th>nationality_AFG</th>\n",
              "      <th>nationality_ALB</th>\n",
              "      <th>nationality_ALG</th>\n",
              "      <th>nationality_AND</th>\n",
              "      <th>nationality_ANG</th>\n",
              "      <th>...</th>\n",
              "      <th>sport_rugby sevens</th>\n",
              "      <th>sport_sailing</th>\n",
              "      <th>sport_shooting</th>\n",
              "      <th>sport_table tennis</th>\n",
              "      <th>sport_taekwondo</th>\n",
              "      <th>sport_tennis</th>\n",
              "      <th>sport_triathlon</th>\n",
              "      <th>sport_volleyball</th>\n",
              "      <th>sport_weightlifting</th>\n",
              "      <th>sport_wrestling</th>\n",
              "    </tr>\n",
              "  </thead>\n",
              "  <tbody>\n",
              "    <tr>\n",
              "      <th>0</th>\n",
              "      <td>1.72</td>\n",
              "      <td>64.0</td>\n",
              "      <td>0</td>\n",
              "      <td>0</td>\n",
              "      <td>0</td>\n",
              "      <td>0</td>\n",
              "      <td>0</td>\n",
              "      <td>0</td>\n",
              "      <td>0</td>\n",
              "      <td>0</td>\n",
              "      <td>...</td>\n",
              "      <td>0</td>\n",
              "      <td>0</td>\n",
              "      <td>0</td>\n",
              "      <td>0</td>\n",
              "      <td>0</td>\n",
              "      <td>0</td>\n",
              "      <td>0</td>\n",
              "      <td>0</td>\n",
              "      <td>0</td>\n",
              "      <td>0</td>\n",
              "    </tr>\n",
              "    <tr>\n",
              "      <th>1</th>\n",
              "      <td>1.68</td>\n",
              "      <td>56.0</td>\n",
              "      <td>0</td>\n",
              "      <td>0</td>\n",
              "      <td>0</td>\n",
              "      <td>0</td>\n",
              "      <td>0</td>\n",
              "      <td>0</td>\n",
              "      <td>0</td>\n",
              "      <td>0</td>\n",
              "      <td>...</td>\n",
              "      <td>0</td>\n",
              "      <td>0</td>\n",
              "      <td>0</td>\n",
              "      <td>0</td>\n",
              "      <td>0</td>\n",
              "      <td>0</td>\n",
              "      <td>0</td>\n",
              "      <td>0</td>\n",
              "      <td>0</td>\n",
              "      <td>0</td>\n",
              "    </tr>\n",
              "    <tr>\n",
              "      <th>2</th>\n",
              "      <td>1.98</td>\n",
              "      <td>79.0</td>\n",
              "      <td>0</td>\n",
              "      <td>0</td>\n",
              "      <td>1</td>\n",
              "      <td>0</td>\n",
              "      <td>0</td>\n",
              "      <td>0</td>\n",
              "      <td>0</td>\n",
              "      <td>0</td>\n",
              "      <td>...</td>\n",
              "      <td>0</td>\n",
              "      <td>0</td>\n",
              "      <td>0</td>\n",
              "      <td>0</td>\n",
              "      <td>0</td>\n",
              "      <td>0</td>\n",
              "      <td>0</td>\n",
              "      <td>0</td>\n",
              "      <td>0</td>\n",
              "      <td>0</td>\n",
              "    </tr>\n",
              "    <tr>\n",
              "      <th>3</th>\n",
              "      <td>1.83</td>\n",
              "      <td>80.0</td>\n",
              "      <td>0</td>\n",
              "      <td>0</td>\n",
              "      <td>0</td>\n",
              "      <td>0</td>\n",
              "      <td>0</td>\n",
              "      <td>0</td>\n",
              "      <td>0</td>\n",
              "      <td>0</td>\n",
              "      <td>...</td>\n",
              "      <td>0</td>\n",
              "      <td>0</td>\n",
              "      <td>0</td>\n",
              "      <td>0</td>\n",
              "      <td>1</td>\n",
              "      <td>0</td>\n",
              "      <td>0</td>\n",
              "      <td>0</td>\n",
              "      <td>0</td>\n",
              "      <td>0</td>\n",
              "    </tr>\n",
              "    <tr>\n",
              "      <th>4</th>\n",
              "      <td>1.81</td>\n",
              "      <td>71.0</td>\n",
              "      <td>0</td>\n",
              "      <td>0</td>\n",
              "      <td>0</td>\n",
              "      <td>0</td>\n",
              "      <td>0</td>\n",
              "      <td>0</td>\n",
              "      <td>0</td>\n",
              "      <td>0</td>\n",
              "      <td>...</td>\n",
              "      <td>0</td>\n",
              "      <td>0</td>\n",
              "      <td>0</td>\n",
              "      <td>0</td>\n",
              "      <td>0</td>\n",
              "      <td>0</td>\n",
              "      <td>0</td>\n",
              "      <td>0</td>\n",
              "      <td>0</td>\n",
              "      <td>0</td>\n",
              "    </tr>\n",
              "  </tbody>\n",
              "</table>\n",
              "<p>5 rows × 240 columns</p>\n",
              "</div>\n",
              "      <button class=\"colab-df-convert\" onclick=\"convertToInteractive('df-11678028-fe59-46f6-8d2e-9b2274a5da9f')\"\n",
              "              title=\"Convert this dataframe to an interactive table.\"\n",
              "              style=\"display:none;\">\n",
              "        \n",
              "  <svg xmlns=\"http://www.w3.org/2000/svg\" height=\"24px\"viewBox=\"0 0 24 24\"\n",
              "       width=\"24px\">\n",
              "    <path d=\"M0 0h24v24H0V0z\" fill=\"none\"/>\n",
              "    <path d=\"M18.56 5.44l.94 2.06.94-2.06 2.06-.94-2.06-.94-.94-2.06-.94 2.06-2.06.94zm-11 1L8.5 8.5l.94-2.06 2.06-.94-2.06-.94L8.5 2.5l-.94 2.06-2.06.94zm10 10l.94 2.06.94-2.06 2.06-.94-2.06-.94-.94-2.06-.94 2.06-2.06.94z\"/><path d=\"M17.41 7.96l-1.37-1.37c-.4-.4-.92-.59-1.43-.59-.52 0-1.04.2-1.43.59L10.3 9.45l-7.72 7.72c-.78.78-.78 2.05 0 2.83L4 21.41c.39.39.9.59 1.41.59.51 0 1.02-.2 1.41-.59l7.78-7.78 2.81-2.81c.8-.78.8-2.07 0-2.86zM5.41 20L4 18.59l7.72-7.72 1.47 1.35L5.41 20z\"/>\n",
              "  </svg>\n",
              "      </button>\n",
              "      \n",
              "  <style>\n",
              "    .colab-df-container {\n",
              "      display:flex;\n",
              "      flex-wrap:wrap;\n",
              "      gap: 12px;\n",
              "    }\n",
              "\n",
              "    .colab-df-convert {\n",
              "      background-color: #E8F0FE;\n",
              "      border: none;\n",
              "      border-radius: 50%;\n",
              "      cursor: pointer;\n",
              "      display: none;\n",
              "      fill: #1967D2;\n",
              "      height: 32px;\n",
              "      padding: 0 0 0 0;\n",
              "      width: 32px;\n",
              "    }\n",
              "\n",
              "    .colab-df-convert:hover {\n",
              "      background-color: #E2EBFA;\n",
              "      box-shadow: 0px 1px 2px rgba(60, 64, 67, 0.3), 0px 1px 3px 1px rgba(60, 64, 67, 0.15);\n",
              "      fill: #174EA6;\n",
              "    }\n",
              "\n",
              "    [theme=dark] .colab-df-convert {\n",
              "      background-color: #3B4455;\n",
              "      fill: #D2E3FC;\n",
              "    }\n",
              "\n",
              "    [theme=dark] .colab-df-convert:hover {\n",
              "      background-color: #434B5C;\n",
              "      box-shadow: 0px 1px 3px 1px rgba(0, 0, 0, 0.15);\n",
              "      filter: drop-shadow(0px 1px 2px rgba(0, 0, 0, 0.3));\n",
              "      fill: #FFFFFF;\n",
              "    }\n",
              "  </style>\n",
              "\n",
              "      <script>\n",
              "        const buttonEl =\n",
              "          document.querySelector('#df-11678028-fe59-46f6-8d2e-9b2274a5da9f button.colab-df-convert');\n",
              "        buttonEl.style.display =\n",
              "          google.colab.kernel.accessAllowed ? 'block' : 'none';\n",
              "\n",
              "        async function convertToInteractive(key) {\n",
              "          const element = document.querySelector('#df-11678028-fe59-46f6-8d2e-9b2274a5da9f');\n",
              "          const dataTable =\n",
              "            await google.colab.kernel.invokeFunction('convertToInteractive',\n",
              "                                                     [key], {});\n",
              "          if (!dataTable) return;\n",
              "\n",
              "          const docLinkHtml = 'Like what you see? Visit the ' +\n",
              "            '<a target=\"_blank\" href=https://colab.research.google.com/notebooks/data_table.ipynb>data table notebook</a>'\n",
              "            + ' to learn more about interactive tables.';\n",
              "          element.innerHTML = '';\n",
              "          dataTable['output_type'] = 'display_data';\n",
              "          await google.colab.output.renderOutput(dataTable, element);\n",
              "          const docLink = document.createElement('div');\n",
              "          docLink.innerHTML = docLinkHtml;\n",
              "          element.appendChild(docLink);\n",
              "        }\n",
              "      </script>\n",
              "    </div>\n",
              "  </div>\n",
              "  "
            ]
          },
          "metadata": {},
          "execution_count": 35
        }
      ],
      "source": [
        "X.head()"
      ]
    },
    {
      "cell_type": "markdown",
      "id": "a8e72e13",
      "metadata": {
        "id": "a8e72e13"
      },
      "source": [
        "# 2 Разделение выборки на обучающую (80% данных) и тестовую (20% данных) подмножества."
      ]
    },
    {
      "cell_type": "code",
      "execution_count": null,
      "id": "074eb3ac",
      "metadata": {
        "id": "074eb3ac"
      },
      "outputs": [],
      "source": [
        "X_train, X_test, y_train, y_test = train_test_split(X, y, test_size=0.2, random_state=42)"
      ]
    },
    {
      "cell_type": "markdown",
      "id": "19280213",
      "metadata": {
        "id": "19280213"
      },
      "source": [
        "### 2.1 Стандартизация данных"
      ]
    },
    {
      "cell_type": "code",
      "execution_count": null,
      "id": "97f3f4e3",
      "metadata": {
        "id": "97f3f4e3"
      },
      "outputs": [],
      "source": [
        "sc = StandardScaler()\n",
        "X_train = sc.fit_transform(X_train)\n",
        "X_test = sc.transform(X_test)"
      ]
    },
    {
      "cell_type": "markdown",
      "id": "f6913267",
      "metadata": {
        "id": "f6913267"
      },
      "source": [
        "### 2.2 Построение модели"
      ]
    },
    {
      "cell_type": "code",
      "execution_count": null,
      "id": "3724570c",
      "metadata": {
        "colab": {
          "base_uri": "https://localhost:8080/"
        },
        "id": "3724570c",
        "outputId": "4547e70a-d4bf-4382-ec7b-029af91036d0"
      },
      "outputs": [
        {
          "output_type": "execute_result",
          "data": {
            "text/plain": [
              "0.8466230936819172"
            ]
          },
          "metadata": {},
          "execution_count": 38
        }
      ],
      "source": [
        "# Строим модель\n",
        "lr = LogisticRegression()\n",
        "lr.fit(X_train, y_train)\n",
        "y_pred = lr.predict(X_test)\n",
        "y_pred_probs = lr.predict_proba(X_test)\n",
        "lr.score(X_test, y_test)"
      ]
    },
    {
      "cell_type": "markdown",
      "id": "c02b9e3b",
      "metadata": {
        "id": "c02b9e3b"
      },
      "source": [
        "# 3. Постройте ROC-кривую с помощью функции sklearn.metrics. roc_curve."
      ]
    },
    {
      "cell_type": "markdown",
      "id": "ed8d7bb1",
      "metadata": {
        "id": "ed8d7bb1"
      },
      "source": [
        "Прежде, чем строить ROC-кривую посмотрим на classification_report и матрицу ошибок:"
      ]
    },
    {
      "cell_type": "code",
      "execution_count": null,
      "id": "2b6d9b31",
      "metadata": {
        "colab": {
          "base_uri": "https://localhost:8080/"
        },
        "id": "2b6d9b31",
        "outputId": "ca7ae76e-06a9-4243-eb6c-dc6202ddc4ba"
      },
      "outputs": [
        {
          "output_type": "stream",
          "name": "stdout",
          "text": [
            "              precision    recall  f1-score   support\n",
            "\n",
            "           0       0.83      0.82      0.83      1033\n",
            "           1       0.86      0.87      0.86      1262\n",
            "\n",
            "    accuracy                           0.85      2295\n",
            "   macro avg       0.85      0.84      0.84      2295\n",
            "weighted avg       0.85      0.85      0.85      2295\n",
            "\n"
          ]
        }
      ],
      "source": [
        "report = classification_report(y_test, y_pred)\n",
        "print(report)"
      ]
    },
    {
      "cell_type": "code",
      "execution_count": null,
      "id": "4050fdd6",
      "metadata": {
        "colab": {
          "base_uri": "https://localhost:8080/",
          "height": 297
        },
        "id": "4050fdd6",
        "outputId": "9ab33941-7ea5-43b5-a634-cbe61bd41b46"
      },
      "outputs": [
        {
          "output_type": "stream",
          "name": "stdout",
          "text": [
            "Confusion Matrix:\n"
          ]
        },
        {
          "output_type": "display_data",
          "data": {
            "text/plain": [
              "<Figure size 432x288 with 2 Axes>"
            ],
            "image/png": "[encoded data removed]"
          },
          "metadata": {
            "needs_background": "light"
          }
        }
      ],
      "source": [
        "conf_matrix = confusion_matrix(y_test, y_pred)\n",
        "plt.figure(figsize=(6,4))\n",
        "sns.heatmap(conf_matrix, annot=True, fmt=\".1f\")\n",
        "plt.xlabel('model predictions')\n",
        "plt.ylabel('real class')\n",
        "print('Confusion Matrix:')\n",
        "plt.show()"
      ]
    },
    {
      "cell_type": "code",
      "execution_count": null,
      "id": "9293cebd",
      "metadata": {
        "id": "9293cebd"
      },
      "outputs": [],
      "source": [
        "y_probs = y_pred_probs[:,1]"
      ]
    },
    {
      "cell_type": "code",
      "execution_count": null,
      "id": "5f1bebb9",
      "metadata": {
        "id": "5f1bebb9"
      },
      "outputs": [],
      "source": [
        "fpr, tpr, tresholds = roc_curve(y_test,y_probs)"
      ]
    },
    {
      "cell_type": "code",
      "execution_count": null,
      "id": "f8c253cc",
      "metadata": {
        "colab": {
          "base_uri": "https://localhost:8080/",
          "height": 295
        },
        "id": "f8c253cc",
        "outputId": "f06efb0c-1734-4275-b6da-c4c5393c85e6"
      },
      "outputs": [
        {
          "output_type": "display_data",
          "data": {
            "text/plain": [
              "<Figure size 432x288 with 1 Axes>"
            ],
            "image/png": "[encoded data removed]"
          },
          "metadata": {
            "needs_background": "light"
          }
        }
      ],
      "source": [
        "plt.plot(fpr, tpr)\n",
        "plt.title('ROC Curve')\n",
        "plt.xlabel('False positive Rate')\n",
        "plt.ylabel('True positive Rate')\n",
        "\n",
        "plt.show()"
      ]
    },
    {
      "cell_type": "markdown",
      "id": "9402eda3",
      "metadata": {
        "id": "9402eda3"
      },
      "source": [
        "# 4. Вычисление значения ROC-AUC метрики с помощью функции sklearn.metrics.roc_auc_score."
      ]
    },
    {
      "cell_type": "code",
      "execution_count": null,
      "id": "b2021247",
      "metadata": {
        "colab": {
          "base_uri": "https://localhost:8080/"
        },
        "id": "b2021247",
        "outputId": "e27c90cb-df38-42a2-ce90-0f4a8bb9051d"
      },
      "outputs": [
        {
          "output_type": "execute_result",
          "data": {
            "text/plain": [
              "0.9119684331482626"
            ]
          },
          "metadata": {},
          "execution_count": 44
        }
      ],
      "source": [
        "# Area Under Curve\n",
        "roc_auc = roc_auc_score(y_test, y_probs)\n",
        "roc_auc"
      ]
    },
    {
      "cell_type": "markdown",
      "id": "314da646",
      "metadata": {
        "id": "314da646"
      },
      "source": [
        "# 5. Реализуйте подсчет метрик TPR, FPR «вручную», без использования готовых функций из библиотеки sklearn."
      ]
    },
    {
      "cell_type": "code",
      "execution_count": null,
      "id": "6378fbb4",
      "metadata": {
        "id": "6378fbb4"
      },
      "outputs": [],
      "source": [
        "# Предсказанная моделью вероятность первого класса.\n",
        "y_pred_proba = lr.predict_proba(X_test)[:, 1]"
      ]
    },
    {
      "cell_type": "code",
      "execution_count": null,
      "id": "dd0ece09",
      "metadata": {
        "colab": {
          "base_uri": "https://localhost:8080/",
          "height": 206
        },
        "id": "dd0ece09",
        "outputId": "2694fe2f-ec99-4fa4-e31f-669590b04c27"
      },
      "outputs": [
        {
          "output_type": "execute_result",
          "data": {
            "text/plain": [
              "   y_test  y_pred_proba\n",
              "0       1      0.959041\n",
              "1       0      0.155196\n",
              "2       0      0.019630\n",
              "3       1      0.690934\n",
              "4       0      0.061172"
            ],
            "text/html": [
              "\n",
              "  <div id=\"df-abf32027-1c1c-4ca4-a334-bd5a10c5f82b\">\n",
              "    <div class=\"colab-df-container\">\n",
              "      <div>\n",
              "<style scoped>\n",
              "    .dataframe tbody tr th:only-of-type {\n",
              "        vertical-align: middle;\n",
              "    }\n",
              "\n",
              "    .dataframe tbody tr th {\n",
              "        vertical-align: top;\n",
              "    }\n",
              "\n",
              "    .dataframe thead th {\n",
              "        text-align: right;\n",
              "    }\n",
              "</style>\n",
              "<table border=\"1\" class=\"dataframe\">\n",
              "  <thead>\n",
              "    <tr style=\"text-align: right;\">\n",
              "      <th></th>\n",
              "      <th>y_test</th>\n",
              "      <th>y_pred_proba</th>\n",
              "    </tr>\n",
              "  </thead>\n",
              "  <tbody>\n",
              "    <tr>\n",
              "      <th>0</th>\n",
              "      <td>1</td>\n",
              "      <td>0.959041</td>\n",
              "    </tr>\n",
              "    <tr>\n",
              "      <th>1</th>\n",
              "      <td>0</td>\n",
              "      <td>0.155196</td>\n",
              "    </tr>\n",
              "    <tr>\n",
              "      <th>2</th>\n",
              "      <td>0</td>\n",
              "      <td>0.019630</td>\n",
              "    </tr>\n",
              "    <tr>\n",
              "      <th>3</th>\n",
              "      <td>1</td>\n",
              "      <td>0.690934</td>\n",
              "    </tr>\n",
              "    <tr>\n",
              "      <th>4</th>\n",
              "      <td>0</td>\n",
              "      <td>0.061172</td>\n",
              "    </tr>\n",
              "  </tbody>\n",
              "</table>\n",
              "</div>\n",
              "      <button class=\"colab-df-convert\" onclick=\"convertToInteractive('df-abf32027-1c1c-4ca4-a334-bd5a10c5f82b')\"\n",
              "              title=\"Convert this dataframe to an interactive table.\"\n",
              "              style=\"display:none;\">\n",
              "        \n",
              "  <svg xmlns=\"http://www.w3.org/2000/svg\" height=\"24px\"viewBox=\"0 0 24 24\"\n",
              "       width=\"24px\">\n",
              "    <path d=\"M0 0h24v24H0V0z\" fill=\"none\"/>\n",
              "    <path d=\"M18.56 5.44l.94 2.06.94-2.06 2.06-.94-2.06-.94-.94-2.06-.94 2.06-2.06.94zm-11 1L8.5 8.5l.94-2.06 2.06-.94-2.06-.94L8.5 2.5l-.94 2.06-2.06.94zm10 10l.94 2.06.94-2.06 2.06-.94-2.06-.94-.94-2.06-.94 2.06-2.06.94z\"/><path d=\"M17.41 7.96l-1.37-1.37c-.4-.4-.92-.59-1.43-.59-.52 0-1.04.2-1.43.59L10.3 9.45l-7.72 7.72c-.78.78-.78 2.05 0 2.83L4 21.41c.39.39.9.59 1.41.59.51 0 1.02-.2 1.41-.59l7.78-7.78 2.81-2.81c.8-.78.8-2.07 0-2.86zM5.41 20L4 18.59l7.72-7.72 1.47 1.35L5.41 20z\"/>\n",
              "  </svg>\n",
              "      </button>\n",
              "      \n",
              "  <style>\n",
              "    .colab-df-container {\n",
              "      display:flex;\n",
              "      flex-wrap:wrap;\n",
              "      gap: 12px;\n",
              "    }\n",
              "\n",
              "    .colab-df-convert {\n",
              "      background-color: #E8F0FE;\n",
              "      border: none;\n",
              "      border-radius: 50%;\n",
              "      cursor: pointer;\n",
              "      display: none;\n",
              "      fill: #1967D2;\n",
              "      height: 32px;\n",
              "      padding: 0 0 0 0;\n",
              "      width: 32px;\n",
              "    }\n",
              "\n",
              "    .colab-df-convert:hover {\n",
              "      background-color: #E2EBFA;\n",
              "      box-shadow: 0px 1px 2px rgba(60, 64, 67, 0.3), 0px 1px 3px 1px rgba(60, 64, 67, 0.15);\n",
              "      fill: #174EA6;\n",
              "    }\n",
              "\n",
              "    [theme=dark] .colab-df-convert {\n",
              "      background-color: #3B4455;\n",
              "      fill: #D2E3FC;\n",
              "    }\n",
              "\n",
              "    [theme=dark] .colab-df-convert:hover {\n",
              "      background-color: #434B5C;\n",
              "      box-shadow: 0px 1px 3px 1px rgba(0, 0, 0, 0.15);\n",
              "      filter: drop-shadow(0px 1px 2px rgba(0, 0, 0, 0.3));\n",
              "      fill: #FFFFFF;\n",
              "    }\n",
              "  </style>\n",
              "\n",
              "      <script>\n",
              "        const buttonEl =\n",
              "          document.querySelector('#df-abf32027-1c1c-4ca4-a334-bd5a10c5f82b button.colab-df-convert');\n",
              "        buttonEl.style.display =\n",
              "          google.colab.kernel.accessAllowed ? 'block' : 'none';\n",
              "\n",
              "        async function convertToInteractive(key) {\n",
              "          const element = document.querySelector('#df-abf32027-1c1c-4ca4-a334-bd5a10c5f82b');\n",
              "          const dataTable =\n",
              "            await google.colab.kernel.invokeFunction('convertToInteractive',\n",
              "                                                     [key], {});\n",
              "          if (!dataTable) return;\n",
              "\n",
              "          const docLinkHtml = 'Like what you see? Visit the ' +\n",
              "            '<a target=\"_blank\" href=https://colab.research.google.com/notebooks/data_table.ipynb>data table notebook</a>'\n",
              "            + ' to learn more about interactive tables.';\n",
              "          element.innerHTML = '';\n",
              "          dataTable['output_type'] = 'display_data';\n",
              "          await google.colab.output.renderOutput(dataTable, element);\n",
              "          const docLink = document.createElement('div');\n",
              "          docLink.innerHTML = docLinkHtml;\n",
              "          element.appendChild(docLink);\n",
              "        }\n",
              "      </script>\n",
              "    </div>\n",
              "  </div>\n",
              "  "
            ]
          },
          "metadata": {},
          "execution_count": 46
        }
      ],
      "source": [
        "pd.DataFrame({'y_test':y_test, 'y_pred_proba':y_pred_proba}).head()"
      ]
    },
    {
      "cell_type": "code",
      "execution_count": null,
      "id": "dbdd6e7f",
      "metadata": {
        "id": "dbdd6e7f"
      },
      "outputs": [],
      "source": [
        "def get_params(y_test, y_pred_proba, threshold=0.5):\n",
        "    tp, tn, fp, fn = (0, 0, 0, 0)\n",
        "    for i in range(len(y_test)):\n",
        "        prediction = y_pred_proba[i]\n",
        "       \n",
        "        if prediction > threshold:\n",
        "            pred_calss = 1\n",
        "        else:\n",
        "            pred_calss = 0\n",
        "\n",
        "        if (y_test[i] == 1) and pred_calss == 1:\n",
        "            tp += 1\n",
        "        elif y_test[i] == 0 and pred_calss == 0:\n",
        "            tn += 1    \n",
        "        elif y_test[i] == 0 and pred_calss == 1:\n",
        "            fp += 1 \n",
        "        else:\n",
        "            fn += 1\n",
        "        \n",
        "    return tp, tn, fp, fn"
      ]
    },
    {
      "cell_type": "code",
      "execution_count": null,
      "id": "6fa75610",
      "metadata": {
        "colab": {
          "base_uri": "https://localhost:8080/"
        },
        "id": "6fa75610",
        "outputId": "cef1fe32-d92f-4917-e1d2-0adcf0db6d5d"
      },
      "outputs": [
        {
          "output_type": "stream",
          "name": "stdout",
          "text": [
            "tp = 1094, tn = 849, fp = 184, fn = 168;\n"
          ]
        }
      ],
      "source": [
        "# Показатели рассчитанные вручную обозначаю с нижнем подчеркиванием, чтобы отлчить от рассчитанных с помощью skit-learn\n",
        "tp_, tn_, fp_, fn_ = get_params(y_test, y_pred_proba)\n",
        "print(f'tp = {tp_}, tn = {tn_}, fp = {fp_}, fn = {fn_};')    \n"
      ]
    },
    {
      "cell_type": "code",
      "execution_count": null,
      "id": "9925efd0",
      "metadata": {
        "colab": {
          "base_uri": "https://localhost:8080/"
        },
        "id": "9925efd0",
        "outputId": "cc6a00fb-92ea-40bc-92ec-bfb4253b3149"
      },
      "outputs": [
        {
          "output_type": "stream",
          "name": "stdout",
          "text": [
            "True Positive Rate  (TPR): 0.867\n",
            "False Positive Rate (FPR): 0.178\n"
          ]
        }
      ],
      "source": [
        "tpr_ = tp_ / (tp_ + fn_)\n",
        "fpr_ = fp_ / (tn_ + fp_)\n",
        "\n",
        "print(f'True Positive Rate  (TPR): {round(tpr_, 3)}')\n",
        "print(f'False Positive Rate (FPR): {round(fpr_, 3)}') "
      ]
    },
    {
      "cell_type": "markdown",
      "id": "2feab8b7",
      "metadata": {
        "id": "2feab8b7"
      },
      "source": [
        "**Примечание:** \n",
        "\n",
        "* TPR показывает, какую долю объектов положительного класса из всех объектов положительного класса нашел алгоритм.\n",
        "* FPR показывает, какую долю из объектов negative класса алгоритм предсказал неверно."
      ]
    },
    {
      "cell_type": "markdown",
      "id": "1367f317",
      "metadata": {
        "id": "1367f317"
      },
      "source": [
        "# 6 Постройте ROC-кривую с помощью вычисленных в п. 5 метрик: объедините графики из п. 3 и п. 6 в один. Сравните, сделайте вывод."
      ]
    },
    {
      "cell_type": "markdown",
      "id": "910fe0ea",
      "metadata": {
        "id": "910fe0ea"
      },
      "source": [
        "Воспользуемся вышеописанной логикой и напишем свою собственную функцию, которая рассчитает TPR, FPR для каждого заданного порога"
      ]
    },
    {
      "cell_type": "code",
      "execution_count": null,
      "id": "c9926eae",
      "metadata": {
        "id": "c9926eae"
      },
      "outputs": [],
      "source": [
        "TPR_ = []\n",
        "FPR_ = []\n",
        "PREC_ = []\n",
        "treshold_ = [] \n",
        "thresholds = np.arange(0, 1, 0.01)\n",
        "# tresholds = np.linspace(0, 1, 50) \n",
        "\n",
        "for threshold in thresholds:\n",
        "    tp_, tn_, fp_, fn_ = get_params(y_test, y_pred_proba, threshold)\n",
        "    \n",
        "    tpr_ = tp_ / (tp_ + fn_)\n",
        "    fpr_ = fp_ / (tn_ + fp_)\n",
        "    precision_ = tp_ / (tp_ + fp_) # Добавил очень маленькую величину, чтобы избежать деления на 0.\n",
        "    \n",
        "    TPR_.append(tpr_)\n",
        "    FPR_.append(fpr_)\n",
        "    PREC_.append(precision_)\n",
        "    treshold_.append(threshold)   "
      ]
    },
    {
      "cell_type": "code",
      "execution_count": null,
      "id": "ed33734c",
      "metadata": {
        "colab": {
          "base_uri": "https://localhost:8080/",
          "height": 423
        },
        "id": "ed33734c",
        "outputId": "322c8edd-6c54-4769-d130-8c7d77406996"
      },
      "outputs": [
        {
          "output_type": "execute_result",
          "data": {
            "text/plain": [
              "    threshold       TRP       FPR      PREC\n",
              "0        0.00  1.000000  1.000000  0.549891\n",
              "1        0.01  0.998415  0.957406  0.560249\n",
              "2        0.02  0.997623  0.905131  0.573838\n",
              "3        0.03  0.996038  0.856728  0.586835\n",
              "4        0.04  0.996038  0.816070  0.598571\n",
              "..        ...       ...       ...       ...\n",
              "95       0.95  0.351823  0.022265  0.950749\n",
              "96       0.96  0.311410  0.019361  0.951574\n",
              "97       0.97  0.263074  0.018393  0.945869\n",
              "98       0.98  0.201268  0.015489  0.940741\n",
              "99       0.99  0.134707  0.008712  0.949721\n",
              "\n",
              "[100 rows x 4 columns]"
            ],
            "text/html": [
              "\n",
              "  <div id=\"df-b1668467-6b58-472d-94be-f9408a5e915e\">\n",
              "    <div class=\"colab-df-container\">\n",
              "      <div>\n",
              "<style scoped>\n",
              "    .dataframe tbody tr th:only-of-type {\n",
              "        vertical-align: middle;\n",
              "    }\n",
              "\n",
              "    .dataframe tbody tr th {\n",
              "        vertical-align: top;\n",
              "    }\n",
              "\n",
              "    .dataframe thead th {\n",
              "        text-align: right;\n",
              "    }\n",
              "</style>\n",
              "<table border=\"1\" class=\"dataframe\">\n",
              "  <thead>\n",
              "    <tr style=\"text-align: right;\">\n",
              "      <th></th>\n",
              "      <th>threshold</th>\n",
              "      <th>TRP</th>\n",
              "      <th>FPR</th>\n",
              "      <th>PREC</th>\n",
              "    </tr>\n",
              "  </thead>\n",
              "  <tbody>\n",
              "    <tr>\n",
              "      <th>0</th>\n",
              "      <td>0.00</td>\n",
              "      <td>1.000000</td>\n",
              "      <td>1.000000</td>\n",
              "      <td>0.549891</td>\n",
              "    </tr>\n",
              "    <tr>\n",
              "      <th>1</th>\n",
              "      <td>0.01</td>\n",
              "      <td>0.998415</td>\n",
              "      <td>0.957406</td>\n",
              "      <td>0.560249</td>\n",
              "    </tr>\n",
              "    <tr>\n",
              "      <th>2</th>\n",
              "      <td>0.02</td>\n",
              "      <td>0.997623</td>\n",
              "      <td>0.905131</td>\n",
              "      <td>0.573838</td>\n",
              "    </tr>\n",
              "    <tr>\n",
              "      <th>3</th>\n",
              "      <td>0.03</td>\n",
              "      <td>0.996038</td>\n",
              "      <td>0.856728</td>\n",
              "      <td>0.586835</td>\n",
              "    </tr>\n",
              "    <tr>\n",
              "      <th>4</th>\n",
              "      <td>0.04</td>\n",
              "      <td>0.996038</td>\n",
              "      <td>0.816070</td>\n",
              "      <td>0.598571</td>\n",
              "    </tr>\n",
              "    <tr>\n",
              "      <th>...</th>\n",
              "      <td>...</td>\n",
              "      <td>...</td>\n",
              "      <td>...</td>\n",
              "      <td>...</td>\n",
              "    </tr>\n",
              "    <tr>\n",
              "      <th>95</th>\n",
              "      <td>0.95</td>\n",
              "      <td>0.351823</td>\n",
              "      <td>0.022265</td>\n",
              "      <td>0.950749</td>\n",
              "    </tr>\n",
              "    <tr>\n",
              "      <th>96</th>\n",
              "      <td>0.96</td>\n",
              "      <td>0.311410</td>\n",
              "      <td>0.019361</td>\n",
              "      <td>0.951574</td>\n",
              "    </tr>\n",
              "    <tr>\n",
              "      <th>97</th>\n",
              "      <td>0.97</td>\n",
              "      <td>0.263074</td>\n",
              "      <td>0.018393</td>\n",
              "      <td>0.945869</td>\n",
              "    </tr>\n",
              "    <tr>\n",
              "      <th>98</th>\n",
              "      <td>0.98</td>\n",
              "      <td>0.201268</td>\n",
              "      <td>0.015489</td>\n",
              "      <td>0.940741</td>\n",
              "    </tr>\n",
              "    <tr>\n",
              "      <th>99</th>\n",
              "      <td>0.99</td>\n",
              "      <td>0.134707</td>\n",
              "      <td>0.008712</td>\n",
              "      <td>0.949721</td>\n",
              "    </tr>\n",
              "  </tbody>\n",
              "</table>\n",
              "<p>100 rows × 4 columns</p>\n",
              "</div>\n",
              "      <button class=\"colab-df-convert\" onclick=\"convertToInteractive('df-b1668467-6b58-472d-94be-f9408a5e915e')\"\n",
              "              title=\"Convert this dataframe to an interactive table.\"\n",
              "              style=\"display:none;\">\n",
              "        \n",
              "  <svg xmlns=\"http://www.w3.org/2000/svg\" height=\"24px\"viewBox=\"0 0 24 24\"\n",
              "       width=\"24px\">\n",
              "    <path d=\"M0 0h24v24H0V0z\" fill=\"none\"/>\n",
              "    <path d=\"M18.56 5.44l.94 2.06.94-2.06 2.06-.94-2.06-.94-.94-2.06-.94 2.06-2.06.94zm-11 1L8.5 8.5l.94-2.06 2.06-.94-2.06-.94L8.5 2.5l-.94 2.06-2.06.94zm10 10l.94 2.06.94-2.06 2.06-.94-2.06-.94-.94-2.06-.94 2.06-2.06.94z\"/><path d=\"M17.41 7.96l-1.37-1.37c-.4-.4-.92-.59-1.43-.59-.52 0-1.04.2-1.43.59L10.3 9.45l-7.72 7.72c-.78.78-.78 2.05 0 2.83L4 21.41c.39.39.9.59 1.41.59.51 0 1.02-.2 1.41-.59l7.78-7.78 2.81-2.81c.8-.78.8-2.07 0-2.86zM5.41 20L4 18.59l7.72-7.72 1.47 1.35L5.41 20z\"/>\n",
              "  </svg>\n",
              "      </button>\n",
              "      \n",
              "  <style>\n",
              "    .colab-df-container {\n",
              "      display:flex;\n",
              "      flex-wrap:wrap;\n",
              "      gap: 12px;\n",
              "    }\n",
              "\n",
              "    .colab-df-convert {\n",
              "      background-color: #E8F0FE;\n",
              "      border: none;\n",
              "      border-radius: 50%;\n",
              "      cursor: pointer;\n",
              "      display: none;\n",
              "      fill: #1967D2;\n",
              "      height: 32px;\n",
              "      padding: 0 0 0 0;\n",
              "      width: 32px;\n",
              "    }\n",
              "\n",
              "    .colab-df-convert:hover {\n",
              "      background-color: #E2EBFA;\n",
              "      box-shadow: 0px 1px 2px rgba(60, 64, 67, 0.3), 0px 1px 3px 1px rgba(60, 64, 67, 0.15);\n",
              "      fill: #174EA6;\n",
              "    }\n",
              "\n",
              "    [theme=dark] .colab-df-convert {\n",
              "      background-color: #3B4455;\n",
              "      fill: #D2E3FC;\n",
              "    }\n",
              "\n",
              "    [theme=dark] .colab-df-convert:hover {\n",
              "      background-color: #434B5C;\n",
              "      box-shadow: 0px 1px 3px 1px rgba(0, 0, 0, 0.15);\n",
              "      filter: drop-shadow(0px 1px 2px rgba(0, 0, 0, 0.3));\n",
              "      fill: #FFFFFF;\n",
              "    }\n",
              "  </style>\n",
              "\n",
              "      <script>\n",
              "        const buttonEl =\n",
              "          document.querySelector('#df-b1668467-6b58-472d-94be-f9408a5e915e button.colab-df-convert');\n",
              "        buttonEl.style.display =\n",
              "          google.colab.kernel.accessAllowed ? 'block' : 'none';\n",
              "\n",
              "        async function convertToInteractive(key) {\n",
              "          const element = document.querySelector('#df-b1668467-6b58-472d-94be-f9408a5e915e');\n",
              "          const dataTable =\n",
              "            await google.colab.kernel.invokeFunction('convertToInteractive',\n",
              "                                                     [key], {});\n",
              "          if (!dataTable) return;\n",
              "\n",
              "          const docLinkHtml = 'Like what you see? Visit the ' +\n",
              "            '<a target=\"_blank\" href=https://colab.research.google.com/notebooks/data_table.ipynb>data table notebook</a>'\n",
              "            + ' to learn more about interactive tables.';\n",
              "          element.innerHTML = '';\n",
              "          dataTable['output_type'] = 'display_data';\n",
              "          await google.colab.output.renderOutput(dataTable, element);\n",
              "          const docLink = document.createElement('div');\n",
              "          docLink.innerHTML = docLinkHtml;\n",
              "          element.appendChild(docLink);\n",
              "        }\n",
              "      </script>\n",
              "    </div>\n",
              "  </div>\n",
              "  "
            ]
          },
          "metadata": {},
          "execution_count": 53
        }
      ],
      "source": [
        "pd.DataFrame({'threshold': thresholds, 'TRP':TPR_, 'FPR':FPR_, 'PREC':PREC_})\n"
      ]
    },
    {
      "cell_type": "code",
      "execution_count": null,
      "id": "437a6477",
      "metadata": {
        "colab": {
          "base_uri": "https://localhost:8080/",
          "height": 513
        },
        "id": "437a6477",
        "outputId": "a19b40b2-346b-456f-983c-ef772326f3fa"
      },
      "outputs": [
        {
          "output_type": "display_data",
          "data": {
            "text/plain": [
              "<Figure size 1080x576 with 1 Axes>"
            ],
            "image/png": "[encoded data removed]"
          },
          "metadata": {
            "needs_background": "light"
          }
        }
      ],
      "source": [
        "fig, ax = plt.subplots(figsize=(15, 8)) # fig.set_size_inches(10, 5)\n",
        "ax.scatter(FPR_, TPR_, linewidths=0.1, label='handmade roc auc', color='red')\n",
        "ax.plot(fpr, tpr, label='skit-learn roc_auc (area = %.2f)'% roc_auc)\n",
        "ax.plot([0, 1], color='black', linestyle='--', label='naive base line')\n",
        "plt.xlim([0.0, 1.0])\n",
        "plt.ylim([0.0, 1.05])\n",
        "ax.grid()\n",
        "ax.legend()\n",
        "ax.set_title('ROC Curve')\n",
        "ax.set_xlabel('False Positive Rate (FPR)')\n",
        "ax.set_ylabel('True Positive Rate (TPR)')\n",
        "plt.show()"
      ]
    },
    {
      "cell_type": "markdown",
      "id": "bc854252",
      "metadata": {
        "id": "bc854252"
      },
      "source": [
        "Вывод: \n",
        "\n",
        "* Самописная ROC кривая точно воспроизводит траекторию оригинальной функции из библиотеки skit-learn roc_curve(). При этом в самописной реализации я использовал меньше поргов разбиения (100 точек), поэтому точки имеют меньшую плотность по сравнению с оригинальным графиком.\n",
        "\n",
        "* Чем больше площадь под кривой (AUC), тем лучше классификация. Наилучшая линия — это вертикальная линия от (0,0) до (0,1), которая тянется до (1,1). \n",
        "\n",
        "* Черная пунктирная линия показывает кривую TPR и FPR при случайном определении positive или negative для каждого случая. Для этой диагональной линии площадь под кривой (AUC) составляет 0.5.\n",
        "\n",
        "* Линия проходит значительно выше, чем случайный классификатор с одинаковым количеством TP и FP, что свидетельствует о высоком качестве алгоритма.\n",
        "\n",
        "* Функция roc_curve требует только вероятность для положительного случая и устойчива к несбалансированным классам.\n",
        "\n",
        "* У модели хороший показатель классификации ROC_AUC_SCORE = 0.91\n",
        "\n"
      ]
    },
    {
      "cell_type": "markdown",
      "id": "f44a13be",
      "metadata": {
        "id": "f44a13be"
      },
      "source": [
        "# 7. Постройте график Precision-Recall, используя метрики, посчитанные в п. 5."
      ]
    },
    {
      "cell_type": "code",
      "execution_count": null,
      "id": "8ea9cd84",
      "metadata": {
        "id": "8ea9cd84"
      },
      "outputs": [],
      "source": [
        "precision, recall, tresholds = precision_recall_curve(y_test, y_pred_proba)"
      ]
    },
    {
      "cell_type": "code",
      "execution_count": null,
      "id": "ec1ca5cc",
      "metadata": {
        "colab": {
          "base_uri": "https://localhost:8080/",
          "height": 513
        },
        "id": "ec1ca5cc",
        "outputId": "8634d321-9174-4972-eedf-9d054fc0f05a"
      },
      "outputs": [
        {
          "output_type": "display_data",
          "data": {
            "text/plain": [
              "<Figure size 1080x576 with 1 Axes>"
            ],
            "image/png": "[encoded data removed]"
          },
          "metadata": {
            "needs_background": "light"
          }
        }
      ],
      "source": [
        "fig, ax = plt.subplots(figsize=(15, 8)) # fig.set_size_inches(10, 5)\n",
        "ax.plot(recall, precision, label='skit-learn precision_recall')\n",
        "ax.scatter(TPR_, PREC_, label='handmade precision_recall', color='red')\n",
        "plt.xlim([0.0, 1.05])\n",
        "plt.ylim([0.5, 1.05])\n",
        "ax.grid()\n",
        "ax.legend()\n",
        "ax.set_title('Precision-Recall Curve')\n",
        "ax.set_xlabel('Recall')\n",
        "ax.set_ylabel('Precision')\n",
        "plt.show()"
      ]
    },
    {
      "cell_type": "markdown",
      "id": "0eb6a13e",
      "metadata": {
        "id": "0eb6a13e"
      },
      "source": [
        "Интерактивная реализация графика Precision Recal Curve с помощью библиотеки plotly"
      ]
    },
    {
      "cell_type": "code",
      "execution_count": null,
      "id": "eb150a2e",
      "metadata": {
        "colab": {
          "base_uri": "https://localhost:8080/",
          "height": 206
        },
        "id": "eb150a2e",
        "outputId": "c087720a-3a40-4b3c-cd90-75e545cfc1e2"
      },
      "outputs": [
        {
          "output_type": "execute_result",
          "data": {
            "text/plain": [
              "   precision    recall  threshold\n",
              "0   0.549891  1.000000       0.00\n",
              "1   0.560249  0.998415       0.01\n",
              "2   0.573838  0.997623       0.02\n",
              "3   0.586835  0.996038       0.03\n",
              "4   0.598571  0.996038       0.04"
            ],
            "text/html": [
              "\n",
              "  <div id=\"df-183b9e61-76fb-42b4-baf3-9c8cdc81e7ec\">\n",
              "    <div class=\"colab-df-container\">\n",
              "      <div>\n",
              "<style scoped>\n",
              "    .dataframe tbody tr th:only-of-type {\n",
              "        vertical-align: middle;\n",
              "    }\n",
              "\n",
              "    .dataframe tbody tr th {\n",
              "        vertical-align: top;\n",
              "    }\n",
              "\n",
              "    .dataframe thead th {\n",
              "        text-align: right;\n",
              "    }\n",
              "</style>\n",
              "<table border=\"1\" class=\"dataframe\">\n",
              "  <thead>\n",
              "    <tr style=\"text-align: right;\">\n",
              "      <th></th>\n",
              "      <th>precision</th>\n",
              "      <th>recall</th>\n",
              "      <th>threshold</th>\n",
              "    </tr>\n",
              "  </thead>\n",
              "  <tbody>\n",
              "    <tr>\n",
              "      <th>0</th>\n",
              "      <td>0.549891</td>\n",
              "      <td>1.000000</td>\n",
              "      <td>0.00</td>\n",
              "    </tr>\n",
              "    <tr>\n",
              "      <th>1</th>\n",
              "      <td>0.560249</td>\n",
              "      <td>0.998415</td>\n",
              "      <td>0.01</td>\n",
              "    </tr>\n",
              "    <tr>\n",
              "      <th>2</th>\n",
              "      <td>0.573838</td>\n",
              "      <td>0.997623</td>\n",
              "      <td>0.02</td>\n",
              "    </tr>\n",
              "    <tr>\n",
              "      <th>3</th>\n",
              "      <td>0.586835</td>\n",
              "      <td>0.996038</td>\n",
              "      <td>0.03</td>\n",
              "    </tr>\n",
              "    <tr>\n",
              "      <th>4</th>\n",
              "      <td>0.598571</td>\n",
              "      <td>0.996038</td>\n",
              "      <td>0.04</td>\n",
              "    </tr>\n",
              "  </tbody>\n",
              "</table>\n",
              "</div>\n",
              "      <button class=\"colab-df-convert\" onclick=\"convertToInteractive('df-183b9e61-76fb-42b4-baf3-9c8cdc81e7ec')\"\n",
              "              title=\"Convert this dataframe to an interactive table.\"\n",
              "              style=\"display:none;\">\n",
              "        \n",
              "  <svg xmlns=\"http://www.w3.org/2000/svg\" height=\"24px\"viewBox=\"0 0 24 24\"\n",
              "       width=\"24px\">\n",
              "    <path d=\"M0 0h24v24H0V0z\" fill=\"none\"/>\n",
              "    <path d=\"M18.56 5.44l.94 2.06.94-2.06 2.06-.94-2.06-.94-.94-2.06-.94 2.06-2.06.94zm-11 1L8.5 8.5l.94-2.06 2.06-.94-2.06-.94L8.5 2.5l-.94 2.06-2.06.94zm10 10l.94 2.06.94-2.06 2.06-.94-2.06-.94-.94-2.06-.94 2.06-2.06.94z\"/><path d=\"M17.41 7.96l-1.37-1.37c-.4-.4-.92-.59-1.43-.59-.52 0-1.04.2-1.43.59L10.3 9.45l-7.72 7.72c-.78.78-.78 2.05 0 2.83L4 21.41c.39.39.9.59 1.41.59.51 0 1.02-.2 1.41-.59l7.78-7.78 2.81-2.81c.8-.78.8-2.07 0-2.86zM5.41 20L4 18.59l7.72-7.72 1.47 1.35L5.41 20z\"/>\n",
              "  </svg>\n",
              "      </button>\n",
              "      \n",
              "  <style>\n",
              "    .colab-df-container {\n",
              "      display:flex;\n",
              "      flex-wrap:wrap;\n",
              "      gap: 12px;\n",
              "    }\n",
              "\n",
              "    .colab-df-convert {\n",
              "      background-color: #E8F0FE;\n",
              "      border: none;\n",
              "      border-radius: 50%;\n",
              "      cursor: pointer;\n",
              "      display: none;\n",
              "      fill: #1967D2;\n",
              "      height: 32px;\n",
              "      padding: 0 0 0 0;\n",
              "      width: 32px;\n",
              "    }\n",
              "\n",
              "    .colab-df-convert:hover {\n",
              "      background-color: #E2EBFA;\n",
              "      box-shadow: 0px 1px 2px rgba(60, 64, 67, 0.3), 0px 1px 3px 1px rgba(60, 64, 67, 0.15);\n",
              "      fill: #174EA6;\n",
              "    }\n",
              "\n",
              "    [theme=dark] .colab-df-convert {\n",
              "      background-color: #3B4455;\n",
              "      fill: #D2E3FC;\n",
              "    }\n",
              "\n",
              "    [theme=dark] .colab-df-convert:hover {\n",
              "      background-color: #434B5C;\n",
              "      box-shadow: 0px 1px 3px 1px rgba(0, 0, 0, 0.15);\n",
              "      filter: drop-shadow(0px 1px 2px rgba(0, 0, 0, 0.3));\n",
              "      fill: #FFFFFF;\n",
              "    }\n",
              "  </style>\n",
              "\n",
              "      <script>\n",
              "        const buttonEl =\n",
              "          document.querySelector('#df-183b9e61-76fb-42b4-baf3-9c8cdc81e7ec button.colab-df-convert');\n",
              "        buttonEl.style.display =\n",
              "          google.colab.kernel.accessAllowed ? 'block' : 'none';\n",
              "\n",
              "        async function convertToInteractive(key) {\n",
              "          const element = document.querySelector('#df-183b9e61-76fb-42b4-baf3-9c8cdc81e7ec');\n",
              "          const dataTable =\n",
              "            await google.colab.kernel.invokeFunction('convertToInteractive',\n",
              "                                                     [key], {});\n",
              "          if (!dataTable) return;\n",
              "\n",
              "          const docLinkHtml = 'Like what you see? Visit the ' +\n",
              "            '<a target=\"_blank\" href=https://colab.research.google.com/notebooks/data_table.ipynb>data table notebook</a>'\n",
              "            + ' to learn more about interactive tables.';\n",
              "          element.innerHTML = '';\n",
              "          dataTable['output_type'] = 'display_data';\n",
              "          await google.colab.output.renderOutput(dataTable, element);\n",
              "          const docLink = document.createElement('div');\n",
              "          docLink.innerHTML = docLinkHtml;\n",
              "          element.appendChild(docLink);\n",
              "        }\n",
              "      </script>\n",
              "    </div>\n",
              "  </div>\n",
              "  "
            ]
          },
          "metadata": {},
          "execution_count": 68
        }
      ],
      "source": [
        "df_prec_recall = pd.DataFrame({'precision':PREC_, 'recall':TPR_,'threshold': thresholds})\n",
        "df_prec_recall.head()"
      ]
    },
    {
      "cell_type": "code",
      "execution_count": null,
      "id": "e6d141f1",
      "metadata": {
        "colab": {
          "base_uri": "https://localhost:8080/",
          "height": 35
        },
        "id": "e6d141f1",
        "outputId": "86af98c5-c1af-48e1-d12d-73e21a0e2fb4"
      },
      "outputs": [
        {
          "output_type": "display_data",
          "data": {
            "text/plain": [
              "<Figure size 720x576 with 0 Axes>"
            ]
          },
          "metadata": {}
        }
      ],
      "source": [
        "plt.figure(figsize=(10, 8))\n",
        "def plot_interactive_precision_recall_curve(df, precision, recall, thresholds):\n",
        "    fig = px.area(\n",
        "        data_frame=df, \n",
        "        x=recall, \n",
        "        y=precision,\n",
        "        hover_data=thresholds, \n",
        "        title='Precision-Recall Curve'\n",
        "    )\n",
        "    fig.update_layout(\n",
        "        autosize=False,\n",
        "        width=900,\n",
        "        height=650,\n",
        "        margin=dict(l=30, r=30, b=30, t=30, pad=4),\n",
        "        title_x=.5, # Центр заголовка\n",
        "        hovermode = 'closest',\n",
        "        xaxis=dict(hoverformat='.4f'),\n",
        "        yaxis=dict(hoverformat='.4f')\n",
        "    )\n",
        "    hovertemplate = 'Recall=%{x}<br>Precision=%{y}<br>Threshold=%{customdata[0]:.4f}<extra></extra>'\n",
        "    fig.update_traces(hovertemplate=hovertemplate)\n",
        "    \n",
        "    # Добавляю пунктирную линию\n",
        "    fig.add_shape(type='line', line=dict(dash='dash'), x0=0.1, y0=1, x1=1, y1=0)\n",
        "\n",
        "    fig.show()"
      ]
    },
    {
      "cell_type": "code",
      "execution_count": null,
      "id": "e55b451f",
      "metadata": {
        "colab": {
          "base_uri": "https://localhost:8080/",
          "height": 667
        },
        "id": "e55b451f",
        "outputId": "67b473a5-c081-4369-a941-974c385c85e8"
      },
      "outputs": [
        {
          "output_type": "display_data",
          "data": {
            "text/html": [
              "<html>\n",
              "<head><meta charset=\"utf-8\" /></head>\n",
              "<body>\n",
              "    <div>            <script src=\"https://cdnjs.cloudflare.com/ajax/libs/mathjax/2.7.5/MathJax.js?config=TeX-AMS-MML_SVG\"></script><script type=\"text/javascript\">if (window.MathJax) {MathJax.Hub.Config({SVG: {font: \"STIX-Web\"}});}</script>                <script type=\"text/javascript\">window.PlotlyConfig = {MathJaxConfig: 'local'};</script>\n",
              "        <script src=\"https://cdn.plot.ly/plotly-2.8.3.min.js\"></script>                <div id=\"af5ca4fa-086d-4013-99b0-5ae53c951a89\" class=\"plotly-graph-div\" style=\"height:650px; width:900px;\"></div>            <script type=\"text/javascript\">                                    window.PLOTLYENV=window.PLOTLYENV || {};                                    if (document.getElementById(\"af5ca4fa-086d-4013-99b0-5ae53c951a89\")) {                    Plotly.newPlot(                        \"af5ca4fa-086d-4013-99b0-5ae53c951a89\",                        [{\"customdata\":[[0.0],[0.01],[0.02],[0.03],[0.04],[0.05],[0.06],[0.07],[0.08],[0.09],[0.1],[0.11],[0.12],[0.13],[0.14],[0.15],[0.16],[0.17],[0.18],[0.19],[0.2],[0.21],[0.22],[0.23],[0.24],[0.25],[0.26],[0.27],[0.28],[0.29],[0.3],[0.31],[0.32],[0.33],[0.34],[0.35000000000000003],[0.36],[0.37],[0.38],[0.39],[0.4],[0.41000000000000003],[0.42],[0.43],[0.44],[0.45],[0.46],[0.47000000000000003],[0.48],[0.49],[0.5],[0.51],[0.52],[0.53],[0.54],[0.55],[0.56],[0.5700000000000001],[0.58],[0.59],[0.6],[0.61],[0.62],[0.63],[0.64],[0.65],[0.66],[0.67],[0.68],[0.6900000000000001],[0.7000000000000001],[0.71],[0.72],[0.73],[0.74],[0.75],[0.76],[0.77],[0.78],[0.79],[0.8],[0.81],[0.8200000000000001],[0.8300000000000001],[0.84],[0.85],[0.86],[0.87],[0.88],[0.89],[0.9],[0.91],[0.92],[0.93],[0.9400000000000001],[0.9500000000000001],[0.96],[0.97],[0.98],[0.99]],\"hovertemplate\":\"Recall=%{x}<br>Precision=%{y}<br>Threshold=%{customdata[0]:.4f}<extra></extra>\",\"legendgroup\":\"\",\"line\":{\"color\":\"#636efa\"},\"marker\":{\"symbol\":\"circle\"},\"mode\":\"lines\",\"name\":\"\",\"orientation\":\"v\",\"showlegend\":false,\"stackgroup\":\"1\",\"x\":[1.0,0.9984152139461173,0.9976228209191759,0.9960380348652932,0.9960380348652932,0.9960380348652932,0.993660855784469,0.991283676703645,0.9881141045958796,0.9857369255150554,0.9833597464342314,0.9817749603803486,0.9801901743264659,0.9778129952456418,0.9778129952456418,0.9762282091917591,0.9722662440570523,0.9683042789223455,0.96513470681458,0.9635499207606973,0.9619651347068146,0.9603803486529319,0.9587955625990491,0.9572107765451664,0.9532488114104596,0.9492868462757528,0.9445324881141046,0.9397781299524565,0.9397781299524565,0.9350237717908082,0.9318541996830428,0.93026941362916,0.9270998415213946,0.9231378763866878,0.9207606973058637,0.9183835182250396,0.9175911251980983,0.9120443740095087,0.9088748019017433,0.9080824088748018,0.9072900158478605,0.9025356576862124,0.8977812995245642,0.8961965134706814,0.8922345483359746,0.8898573692551506,0.8858954041204438,0.8787638668779715,0.875594294770206,0.8708399366085579,0.866877971473851,0.8652931854199684,0.8613312202852615,0.8557844690966719,0.8510301109350238,0.8478605388272583,0.8431061806656102,0.8399366085578447,0.8351822503961965,0.8288431061806656,0.8232963549920761,0.8145800316957211,0.8114104595879557,0.8042789223454834,0.7971473851030111,0.7923930269413629,0.783676703645008,0.7757527733755943,0.7694136291600634,0.7591125198098256,0.748811410459588,0.742472266244057,0.731378763866878,0.7242472266244057,0.7123613312202852,0.7036450079239303,0.6933438985736925,0.6838351822503962,0.6751188589540412,0.6608557844690967,0.6465927099841522,0.6394611727416799,0.6259904912836767,0.6117274167987322,0.5919175911251982,0.5816164817749604,0.5641838351822503,0.5515055467511886,0.5388272583201268,0.5229793977812995,0.4960380348652932,0.4746434231378764,0.4500792393026941,0.4223454833597464,0.3898573692551506,0.3518225039619651,0.3114104595879556,0.2630744849445325,0.20126782884310618,0.1347068145800317],\"xaxis\":\"x\",\"y\":[0.5498910675381263,0.5602489995553579,0.57383773928897,0.5868347338935574,0.5985714285714285,0.6087167070217918,0.6192592592592593,0.6302267002518892,0.6391594054331112,0.6452282157676349,0.6576576576576577,0.6646995708154506,0.673380511703865,0.6813914964108228,0.6897708216880939,0.6972269383135258,0.7027491408934707,0.7088167053364269,0.711864406779661,0.7186761229314421,0.7230494341870161,0.7314423657211828,0.739156994502138,0.7470624613481757,0.7542319749216301,0.7587080430652312,0.7606892150606254,0.7646679561573179,0.7696301103179753,0.7747866053841103,0.7793240556660039,0.7826666666666666,0.7889413351314902,0.7952218430034129,0.7980769230769231,0.8026315789473685,0.8080949057920447,0.8122794636556104,0.8152096659559346,0.8197424892703863,0.8243340532757379,0.8271604938271605,0.8306451612903226,0.834070796460177,0.8396718866517524,0.8418290854572713,0.8444108761329305,0.8465648854961833,0.8486943164362519,0.853923853923854,0.8560250391236307,0.861198738170347,0.8633836378077839,0.8660785886126704,0.8682295877122069,0.8713355048859935,0.8728465955701394,0.8760330578512396,0.8783333333333333,0.8819561551433389,0.886518771331058,0.888504753673293,0.89198606271777,0.8942731277533039,0.8974130240856378,0.8992805755395683,0.9048490393412626,0.907321594068582,0.9074766355140187,0.9080568720379147,0.9130434782608695,0.9141463414634147,0.9147670961347869,0.914914914914915,0.9173469387755102,0.9164086687306502,0.9181532004197271,0.9180851063829787,0.9210810810810811,0.925638179800222,0.9283276450511946,0.9318706697459584,0.9327036599763873,0.9346246973365617,0.934918648310388,0.9338422391857506,0.9331585845347313,0.9367429340511441,0.9418282548476454,0.9415121255349501,0.93993993993994,0.9374021909233177,0.9357495881383855,0.9433628318584071,0.944337811900192,0.9507494646680942,0.9515738498789347,0.9458689458689459,0.9407407407407408,0.9497206703910615],\"yaxis\":\"y\",\"type\":\"scatter\"}],                        {\"template\":{\"data\":{\"bar\":[{\"error_x\":{\"color\":\"#2a3f5f\"},\"error_y\":{\"color\":\"#2a3f5f\"},\"marker\":{\"line\":{\"color\":\"#E5ECF6\",\"width\":0.5},\"pattern\":{\"fillmode\":\"overlay\",\"size\":10,\"solidity\":0.2}},\"type\":\"bar\"}],\"barpolar\":[{\"marker\":{\"line\":{\"color\":\"#E5ECF6\",\"width\":0.5},\"pattern\":{\"fillmode\":\"overlay\",\"size\":10,\"solidity\":0.2}},\"type\":\"barpolar\"}],\"carpet\":[{\"aaxis\":{\"endlinecolor\":\"#2a3f5f\",\"gridcolor\":\"white\",\"linecolor\":\"white\",\"minorgridcolor\":\"white\",\"startlinecolor\":\"#2a3f5f\"},\"baxis\":{\"endlinecolor\":\"#2a3f5f\",\"gridcolor\":\"white\",\"linecolor\":\"white\",\"minorgridcolor\":\"white\",\"startlinecolor\":\"#2a3f5f\"},\"type\":\"carpet\"}],\"choropleth\":[{\"colorbar\":{\"outlinewidth\":0,\"ticks\":\"\"},\"type\":\"choropleth\"}],\"contour\":[{\"colorbar\":{\"outlinewidth\":0,\"ticks\":\"\"},\"colorscale\":[[0.0,\"#0d0887\"],[0.1111111111111111,\"#46039f\"],[0.2222222222222222,\"#7201a8\"],[0.3333333333333333,\"#9c179e\"],[0.4444444444444444,\"#bd3786\"],[0.5555555555555556,\"#d8576b\"],[0.6666666666666666,\"#ed7953\"],[0.7777777777777778,\"#fb9f3a\"],[0.8888888888888888,\"#fdca26\"],[1.0,\"#f0f921\"]],\"type\":\"contour\"}],\"contourcarpet\":[{\"colorbar\":{\"outlinewidth\":0,\"ticks\":\"\"},\"type\":\"contourcarpet\"}],\"heatmap\":[{\"colorbar\":{\"outlinewidth\":0,\"ticks\":\"\"},\"colorscale\":[[0.0,\"#0d0887\"],[0.1111111111111111,\"#46039f\"],[0.2222222222222222,\"#7201a8\"],[0.3333333333333333,\"#9c179e\"],[0.4444444444444444,\"#bd3786\"],[0.5555555555555556,\"#d8576b\"],[0.6666666666666666,\"#ed7953\"],[0.7777777777777778,\"#fb9f3a\"],[0.8888888888888888,\"#fdca26\"],[1.0,\"#f0f921\"]],\"type\":\"heatmap\"}],\"heatmapgl\":[{\"colorbar\":{\"outlinewidth\":0,\"ticks\":\"\"},\"colorscale\":[[0.0,\"#0d0887\"],[0.1111111111111111,\"#46039f\"],[0.2222222222222222,\"#7201a8\"],[0.3333333333333333,\"#9c179e\"],[0.4444444444444444,\"#bd3786\"],[0.5555555555555556,\"#d8576b\"],[0.6666666666666666,\"#ed7953\"],[0.7777777777777778,\"#fb9f3a\"],[0.8888888888888888,\"#fdca26\"],[1.0,\"#f0f921\"]],\"type\":\"heatmapgl\"}],\"histogram\":[{\"marker\":{\"pattern\":{\"fillmode\":\"overlay\",\"size\":10,\"solidity\":0.2}},\"type\":\"histogram\"}],\"histogram2d\":[{\"colorbar\":{\"outlinewidth\":0,\"ticks\":\"\"},\"colorscale\":[[0.0,\"#0d0887\"],[0.1111111111111111,\"#46039f\"],[0.2222222222222222,\"#7201a8\"],[0.3333333333333333,\"#9c179e\"],[0.4444444444444444,\"#bd3786\"],[0.5555555555555556,\"#d8576b\"],[0.6666666666666666,\"#ed7953\"],[0.7777777777777778,\"#fb9f3a\"],[0.8888888888888888,\"#fdca26\"],[1.0,\"#f0f921\"]],\"type\":\"histogram2d\"}],\"histogram2dcontour\":[{\"colorbar\":{\"outlinewidth\":0,\"ticks\":\"\"},\"colorscale\":[[0.0,\"#0d0887\"],[0.1111111111111111,\"#46039f\"],[0.2222222222222222,\"#7201a8\"],[0.3333333333333333,\"#9c179e\"],[0.4444444444444444,\"#bd3786\"],[0.5555555555555556,\"#d8576b\"],[0.6666666666666666,\"#ed7953\"],[0.7777777777777778,\"#fb9f3a\"],[0.8888888888888888,\"#fdca26\"],[1.0,\"#f0f921\"]],\"type\":\"histogram2dcontour\"}],\"mesh3d\":[{\"colorbar\":{\"outlinewidth\":0,\"ticks\":\"\"},\"type\":\"mesh3d\"}],\"parcoords\":[{\"line\":{\"colorbar\":{\"outlinewidth\":0,\"ticks\":\"\"}},\"type\":\"parcoords\"}],\"pie\":[{\"automargin\":true,\"type\":\"pie\"}],\"scatter\":[{\"marker\":{\"colorbar\":{\"outlinewidth\":0,\"ticks\":\"\"}},\"type\":\"scatter\"}],\"scatter3d\":[{\"line\":{\"colorbar\":{\"outlinewidth\":0,\"ticks\":\"\"}},\"marker\":{\"colorbar\":{\"outlinewidth\":0,\"ticks\":\"\"}},\"type\":\"scatter3d\"}],\"scattercarpet\":[{\"marker\":{\"colorbar\":{\"outlinewidth\":0,\"ticks\":\"\"}},\"type\":\"scattercarpet\"}],\"scattergeo\":[{\"marker\":{\"colorbar\":{\"outlinewidth\":0,\"ticks\":\"\"}},\"type\":\"scattergeo\"}],\"scattergl\":[{\"marker\":{\"colorbar\":{\"outlinewidth\":0,\"ticks\":\"\"}},\"type\":\"scattergl\"}],\"scattermapbox\":[{\"marker\":{\"colorbar\":{\"outlinewidth\":0,\"ticks\":\"\"}},\"type\":\"scattermapbox\"}],\"scatterpolar\":[{\"marker\":{\"colorbar\":{\"outlinewidth\":0,\"ticks\":\"\"}},\"type\":\"scatterpolar\"}],\"scatterpolargl\":[{\"marker\":{\"colorbar\":{\"outlinewidth\":0,\"ticks\":\"\"}},\"type\":\"scatterpolargl\"}],\"scatterternary\":[{\"marker\":{\"colorbar\":{\"outlinewidth\":0,\"ticks\":\"\"}},\"type\":\"scatterternary\"}],\"surface\":[{\"colorbar\":{\"outlinewidth\":0,\"ticks\":\"\"},\"colorscale\":[[0.0,\"#0d0887\"],[0.1111111111111111,\"#46039f\"],[0.2222222222222222,\"#7201a8\"],[0.3333333333333333,\"#9c179e\"],[0.4444444444444444,\"#bd3786\"],[0.5555555555555556,\"#d8576b\"],[0.6666666666666666,\"#ed7953\"],[0.7777777777777778,\"#fb9f3a\"],[0.8888888888888888,\"#fdca26\"],[1.0,\"#f0f921\"]],\"type\":\"surface\"}],\"table\":[{\"cells\":{\"fill\":{\"color\":\"#EBF0F8\"},\"line\":{\"color\":\"white\"}},\"header\":{\"fill\":{\"color\":\"#C8D4E3\"},\"line\":{\"color\":\"white\"}},\"type\":\"table\"}]},\"layout\":{\"annotationdefaults\":{\"arrowcolor\":\"#2a3f5f\",\"arrowhead\":0,\"arrowwidth\":1},\"autotypenumbers\":\"strict\",\"coloraxis\":{\"colorbar\":{\"outlinewidth\":0,\"ticks\":\"\"}},\"colorscale\":{\"diverging\":[[0,\"#8e0152\"],[0.1,\"#c51b7d\"],[0.2,\"#de77ae\"],[0.3,\"#f1b6da\"],[0.4,\"#fde0ef\"],[0.5,\"#f7f7f7\"],[0.6,\"#e6f5d0\"],[0.7,\"#b8e186\"],[0.8,\"#7fbc41\"],[0.9,\"#4d9221\"],[1,\"#276419\"]],\"sequential\":[[0.0,\"#0d0887\"],[0.1111111111111111,\"#46039f\"],[0.2222222222222222,\"#7201a8\"],[0.3333333333333333,\"#9c179e\"],[0.4444444444444444,\"#bd3786\"],[0.5555555555555556,\"#d8576b\"],[0.6666666666666666,\"#ed7953\"],[0.7777777777777778,\"#fb9f3a\"],[0.8888888888888888,\"#fdca26\"],[1.0,\"#f0f921\"]],\"sequentialminus\":[[0.0,\"#0d0887\"],[0.1111111111111111,\"#46039f\"],[0.2222222222222222,\"#7201a8\"],[0.3333333333333333,\"#9c179e\"],[0.4444444444444444,\"#bd3786\"],[0.5555555555555556,\"#d8576b\"],[0.6666666666666666,\"#ed7953\"],[0.7777777777777778,\"#fb9f3a\"],[0.8888888888888888,\"#fdca26\"],[1.0,\"#f0f921\"]]},\"colorway\":[\"#636efa\",\"#EF553B\",\"#00cc96\",\"#ab63fa\",\"#FFA15A\",\"#19d3f3\",\"#FF6692\",\"#B6E880\",\"#FF97FF\",\"#FECB52\"],\"font\":{\"color\":\"#2a3f5f\"},\"geo\":{\"bgcolor\":\"white\",\"lakecolor\":\"white\",\"landcolor\":\"#E5ECF6\",\"showlakes\":true,\"showland\":true,\"subunitcolor\":\"white\"},\"hoverlabel\":{\"align\":\"left\"},\"hovermode\":\"closest\",\"mapbox\":{\"style\":\"light\"},\"paper_bgcolor\":\"white\",\"plot_bgcolor\":\"#E5ECF6\",\"polar\":{\"angularaxis\":{\"gridcolor\":\"white\",\"linecolor\":\"white\",\"ticks\":\"\"},\"bgcolor\":\"#E5ECF6\",\"radialaxis\":{\"gridcolor\":\"white\",\"linecolor\":\"white\",\"ticks\":\"\"}},\"scene\":{\"xaxis\":{\"backgroundcolor\":\"#E5ECF6\",\"gridcolor\":\"white\",\"gridwidth\":2,\"linecolor\":\"white\",\"showbackground\":true,\"ticks\":\"\",\"zerolinecolor\":\"white\"},\"yaxis\":{\"backgroundcolor\":\"#E5ECF6\",\"gridcolor\":\"white\",\"gridwidth\":2,\"linecolor\":\"white\",\"showbackground\":true,\"ticks\":\"\",\"zerolinecolor\":\"white\"},\"zaxis\":{\"backgroundcolor\":\"#E5ECF6\",\"gridcolor\":\"white\",\"gridwidth\":2,\"linecolor\":\"white\",\"showbackground\":true,\"ticks\":\"\",\"zerolinecolor\":\"white\"}},\"shapedefaults\":{\"line\":{\"color\":\"#2a3f5f\"}},\"ternary\":{\"aaxis\":{\"gridcolor\":\"white\",\"linecolor\":\"white\",\"ticks\":\"\"},\"baxis\":{\"gridcolor\":\"white\",\"linecolor\":\"white\",\"ticks\":\"\"},\"bgcolor\":\"#E5ECF6\",\"caxis\":{\"gridcolor\":\"white\",\"linecolor\":\"white\",\"ticks\":\"\"}},\"title\":{\"x\":0.05},\"xaxis\":{\"automargin\":true,\"gridcolor\":\"white\",\"linecolor\":\"white\",\"ticks\":\"\",\"title\":{\"standoff\":15},\"zerolinecolor\":\"white\",\"zerolinewidth\":2},\"yaxis\":{\"automargin\":true,\"gridcolor\":\"white\",\"linecolor\":\"white\",\"ticks\":\"\",\"title\":{\"standoff\":15},\"zerolinecolor\":\"white\",\"zerolinewidth\":2}}},\"xaxis\":{\"anchor\":\"y\",\"domain\":[0.0,1.0],\"title\":{\"text\":\"recall\"},\"hoverformat\":\".4f\"},\"yaxis\":{\"anchor\":\"x\",\"domain\":[0.0,1.0],\"title\":{\"text\":\"precision\"},\"hoverformat\":\".4f\"},\"legend\":{\"tracegroupgap\":0},\"title\":{\"text\":\"Precision-Recall Curve\",\"x\":0.5},\"margin\":{\"l\":30,\"r\":30,\"b\":30,\"t\":30,\"pad\":4},\"autosize\":false,\"width\":900,\"height\":650,\"hovermode\":\"closest\",\"shapes\":[{\"line\":{\"dash\":\"dash\"},\"type\":\"line\",\"x0\":0.1,\"x1\":1,\"y0\":1,\"y1\":0}]},                        {\"responsive\": true}                    ).then(function(){\n",
              "                            \n",
              "var gd = document.getElementById('af5ca4fa-086d-4013-99b0-5ae53c951a89');\n",
              "var x = new MutationObserver(function (mutations, observer) {{\n",
              "        var display = window.getComputedStyle(gd).display;\n",
              "        if (!display || display === 'none') {{\n",
              "            console.log([gd, 'removed!']);\n",
              "            Plotly.purge(gd);\n",
              "            observer.disconnect();\n",
              "        }}\n",
              "}});\n",
              "\n",
              "// Listen for the removal of the full notebook cells\n",
              "var notebookContainer = gd.closest('#notebook-container');\n",
              "if (notebookContainer) {{\n",
              "    x.observe(notebookContainer, {childList: true});\n",
              "}}\n",
              "\n",
              "// Listen for the clearing of the current output cell\n",
              "var outputEl = gd.closest('.output');\n",
              "if (outputEl) {{\n",
              "    x.observe(outputEl, {childList: true});\n",
              "}}\n",
              "\n",
              "                        })                };                            </script>        </div>\n",
              "</body>\n",
              "</html>"
            ]
          },
          "metadata": {}
        }
      ],
      "source": [
        "plot_interactive_precision_recall_curve(df=df_prec_recall, \n",
        "                           precision='precision', \n",
        "                           recall='recall', \n",
        "                           thresholds=['threshold'])\n",
        "plt.show()"
      ]
    },
    {
      "cell_type": "markdown",
      "id": "5e1a47c3",
      "metadata": {
        "id": "5e1a47c3"
      },
      "source": [
        "# 8. *Вычислите значение ROC-AUC метрики, используя метрики, посчитанные в п. 5."
      ]
    },
    {
      "cell_type": "code",
      "execution_count": null,
      "id": "b1044ff3",
      "metadata": {
        "colab": {
          "base_uri": "https://localhost:8080/",
          "height": 423
        },
        "id": "b1044ff3",
        "outputId": "8f73995b-fa18-4140-dcca-420a1218e172"
      },
      "outputs": [
        {
          "output_type": "execute_result",
          "data": {
            "text/plain": [
              "         TRP       FPR  threshold\n",
              "0   1.000000  1.000000       0.00\n",
              "1   0.998415  0.957406       0.01\n",
              "2   0.997623  0.905131       0.02\n",
              "3   0.996038  0.856728       0.03\n",
              "4   0.996038  0.816070       0.04\n",
              "..       ...       ...        ...\n",
              "95  0.351823  0.022265       0.95\n",
              "96  0.311410  0.019361       0.96\n",
              "97  0.263074  0.018393       0.97\n",
              "98  0.201268  0.015489       0.98\n",
              "99  0.134707  0.008712       0.99\n",
              "\n",
              "[100 rows x 3 columns]"
            ],
            "text/html": [
              "\n",
              "  <div id=\"df-2c308e5a-282b-4c68-8fcc-eba51e64ff51\">\n",
              "    <div class=\"colab-df-container\">\n",
              "      <div>\n",
              "<style scoped>\n",
              "    .dataframe tbody tr th:only-of-type {\n",
              "        vertical-align: middle;\n",
              "    }\n",
              "\n",
              "    .dataframe tbody tr th {\n",
              "        vertical-align: top;\n",
              "    }\n",
              "\n",
              "    .dataframe thead th {\n",
              "        text-align: right;\n",
              "    }\n",
              "</style>\n",
              "<table border=\"1\" class=\"dataframe\">\n",
              "  <thead>\n",
              "    <tr style=\"text-align: right;\">\n",
              "      <th></th>\n",
              "      <th>TRP</th>\n",
              "      <th>FPR</th>\n",
              "      <th>threshold</th>\n",
              "    </tr>\n",
              "  </thead>\n",
              "  <tbody>\n",
              "    <tr>\n",
              "      <th>0</th>\n",
              "      <td>1.000000</td>\n",
              "      <td>1.000000</td>\n",
              "      <td>0.00</td>\n",
              "    </tr>\n",
              "    <tr>\n",
              "      <th>1</th>\n",
              "      <td>0.998415</td>\n",
              "      <td>0.957406</td>\n",
              "      <td>0.01</td>\n",
              "    </tr>\n",
              "    <tr>\n",
              "      <th>2</th>\n",
              "      <td>0.997623</td>\n",
              "      <td>0.905131</td>\n",
              "      <td>0.02</td>\n",
              "    </tr>\n",
              "    <tr>\n",
              "      <th>3</th>\n",
              "      <td>0.996038</td>\n",
              "      <td>0.856728</td>\n",
              "      <td>0.03</td>\n",
              "    </tr>\n",
              "    <tr>\n",
              "      <th>4</th>\n",
              "      <td>0.996038</td>\n",
              "      <td>0.816070</td>\n",
              "      <td>0.04</td>\n",
              "    </tr>\n",
              "    <tr>\n",
              "      <th>...</th>\n",
              "      <td>...</td>\n",
              "      <td>...</td>\n",
              "      <td>...</td>\n",
              "    </tr>\n",
              "    <tr>\n",
              "      <th>95</th>\n",
              "      <td>0.351823</td>\n",
              "      <td>0.022265</td>\n",
              "      <td>0.95</td>\n",
              "    </tr>\n",
              "    <tr>\n",
              "      <th>96</th>\n",
              "      <td>0.311410</td>\n",
              "      <td>0.019361</td>\n",
              "      <td>0.96</td>\n",
              "    </tr>\n",
              "    <tr>\n",
              "      <th>97</th>\n",
              "      <td>0.263074</td>\n",
              "      <td>0.018393</td>\n",
              "      <td>0.97</td>\n",
              "    </tr>\n",
              "    <tr>\n",
              "      <th>98</th>\n",
              "      <td>0.201268</td>\n",
              "      <td>0.015489</td>\n",
              "      <td>0.98</td>\n",
              "    </tr>\n",
              "    <tr>\n",
              "      <th>99</th>\n",
              "      <td>0.134707</td>\n",
              "      <td>0.008712</td>\n",
              "      <td>0.99</td>\n",
              "    </tr>\n",
              "  </tbody>\n",
              "</table>\n",
              "<p>100 rows × 3 columns</p>\n",
              "</div>\n",
              "      <button class=\"colab-df-convert\" onclick=\"convertToInteractive('df-2c308e5a-282b-4c68-8fcc-eba51e64ff51')\"\n",
              "              title=\"Convert this dataframe to an interactive table.\"\n",
              "              style=\"display:none;\">\n",
              "        \n",
              "  <svg xmlns=\"http://www.w3.org/2000/svg\" height=\"24px\"viewBox=\"0 0 24 24\"\n",
              "       width=\"24px\">\n",
              "    <path d=\"M0 0h24v24H0V0z\" fill=\"none\"/>\n",
              "    <path d=\"M18.56 5.44l.94 2.06.94-2.06 2.06-.94-2.06-.94-.94-2.06-.94 2.06-2.06.94zm-11 1L8.5 8.5l.94-2.06 2.06-.94-2.06-.94L8.5 2.5l-.94 2.06-2.06.94zm10 10l.94 2.06.94-2.06 2.06-.94-2.06-.94-.94-2.06-.94 2.06-2.06.94z\"/><path d=\"M17.41 7.96l-1.37-1.37c-.4-.4-.92-.59-1.43-.59-.52 0-1.04.2-1.43.59L10.3 9.45l-7.72 7.72c-.78.78-.78 2.05 0 2.83L4 21.41c.39.39.9.59 1.41.59.51 0 1.02-.2 1.41-.59l7.78-7.78 2.81-2.81c.8-.78.8-2.07 0-2.86zM5.41 20L4 18.59l7.72-7.72 1.47 1.35L5.41 20z\"/>\n",
              "  </svg>\n",
              "      </button>\n",
              "      \n",
              "  <style>\n",
              "    .colab-df-container {\n",
              "      display:flex;\n",
              "      flex-wrap:wrap;\n",
              "      gap: 12px;\n",
              "    }\n",
              "\n",
              "    .colab-df-convert {\n",
              "      background-color: #E8F0FE;\n",
              "      border: none;\n",
              "      border-radius: 50%;\n",
              "      cursor: pointer;\n",
              "      display: none;\n",
              "      fill: #1967D2;\n",
              "      height: 32px;\n",
              "      padding: 0 0 0 0;\n",
              "      width: 32px;\n",
              "    }\n",
              "\n",
              "    .colab-df-convert:hover {\n",
              "      background-color: #E2EBFA;\n",
              "      box-shadow: 0px 1px 2px rgba(60, 64, 67, 0.3), 0px 1px 3px 1px rgba(60, 64, 67, 0.15);\n",
              "      fill: #174EA6;\n",
              "    }\n",
              "\n",
              "    [theme=dark] .colab-df-convert {\n",
              "      background-color: #3B4455;\n",
              "      fill: #D2E3FC;\n",
              "    }\n",
              "\n",
              "    [theme=dark] .colab-df-convert:hover {\n",
              "      background-color: #434B5C;\n",
              "      box-shadow: 0px 1px 3px 1px rgba(0, 0, 0, 0.15);\n",
              "      filter: drop-shadow(0px 1px 2px rgba(0, 0, 0, 0.3));\n",
              "      fill: #FFFFFF;\n",
              "    }\n",
              "  </style>\n",
              "\n",
              "      <script>\n",
              "        const buttonEl =\n",
              "          document.querySelector('#df-2c308e5a-282b-4c68-8fcc-eba51e64ff51 button.colab-df-convert');\n",
              "        buttonEl.style.display =\n",
              "          google.colab.kernel.accessAllowed ? 'block' : 'none';\n",
              "\n",
              "        async function convertToInteractive(key) {\n",
              "          const element = document.querySelector('#df-2c308e5a-282b-4c68-8fcc-eba51e64ff51');\n",
              "          const dataTable =\n",
              "            await google.colab.kernel.invokeFunction('convertToInteractive',\n",
              "                                                     [key], {});\n",
              "          if (!dataTable) return;\n",
              "\n",
              "          const docLinkHtml = 'Like what you see? Visit the ' +\n",
              "            '<a target=\"_blank\" href=https://colab.research.google.com/notebooks/data_table.ipynb>data table notebook</a>'\n",
              "            + ' to learn more about interactive tables.';\n",
              "          element.innerHTML = '';\n",
              "          dataTable['output_type'] = 'display_data';\n",
              "          await google.colab.output.renderOutput(dataTable, element);\n",
              "          const docLink = document.createElement('div');\n",
              "          docLink.innerHTML = docLinkHtml;\n",
              "          element.appendChild(docLink);\n",
              "        }\n",
              "      </script>\n",
              "    </div>\n",
              "  </div>\n",
              "  "
            ]
          },
          "metadata": {},
          "execution_count": 62
        }
      ],
      "source": [
        "df_roc_auc = pd.DataFrame({'TRP':TPR_,'FPR':FPR_, 'threshold': thresholds})\n",
        "df_roc_auc"
      ]
    },
    {
      "cell_type": "code",
      "source": [
        "auc_score = abs(np.trapz(df_roc_auc.TRP, df_roc_auc.FPR))\n",
        "auc_score"
      ],
      "metadata": {
        "colab": {
          "base_uri": "https://localhost:8080/"
        },
        "id": "-O9QKbaZm5HY",
        "outputId": "91ee59cb-0c46-425b-c0e0-7de42612d6b7"
      },
      "id": "-O9QKbaZm5HY",
      "execution_count": null,
      "outputs": [
        {
          "output_type": "execute_result",
          "data": {
            "text/plain": [
              "0.9112995399057721"
            ]
          },
          "metadata": {},
          "execution_count": 63
        }
      ]
    }
  ],
  "metadata": {
    "kernelspec": {
      "display_name": "Python 3 (ipykernel)",
      "language": "python",
      "name": "python3"
    },
    "language_info": {
      "codemirror_mode": {
        "name": "ipython",
        "version": 3
      },
      "file_extension": ".py",
      "mimetype": "text/x-python",
      "name": "python",
      "nbconvert_exporter": "python",
      "pygments_lexer": "ipython3",
      "version": "3.9.12"
    },
    "colab": {
      "provenance": []
    }
  },
  "nbformat": 4,
  "nbformat_minor": 5
}